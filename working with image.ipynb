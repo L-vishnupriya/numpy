{
 "cells": [
  {
   "cell_type": "markdown",
   "id": "96d90b93-d1d8-456e-98c1-4655f281fc05",
   "metadata": {},
   "source": [
    "Create a white image using NumPy in Python :"
   ]
  },
  {
   "cell_type": "markdown",
   "id": "55306502-063a-4a90-949b-961a6ac557bf",
   "metadata": {},
   "source": [
    "Using np.full() method : "
   ]
  },
  {
   "cell_type": "code",
   "execution_count": 5,
   "id": "6204ddc0-cf1b-4513-8c8e-a2923b17b76a",
   "metadata": {},
   "outputs": [
    {
     "data": {
      "image/png": "[encoded data removed]",
      "text/plain": [
       "<Figure size 640x480 with 1 Axes>"
      ]
     },
     "metadata": {},
     "output_type": "display_data"
    }
   ],
   "source": [
    "import numpy as np\n",
    "import matplotlib.pyplot as plt\n",
    "\n",
    "# creating an array using np.full\n",
    "# 255 is code for white color\n",
    "array_created = np.full((500, 500, 3), 255, dtype=np.uint8)\n",
    "\n",
    "# displaying the image using matplotlib\n",
    "plt.imshow(array_created)\n",
    "plt.show()\n"
   ]
  },
  {
   "cell_type": "markdown",
   "id": "891df04e-d820-4af9-b3af-c8a4764b2393",
   "metadata": {},
   "source": [
    "Convert a NumPy array to an image :"
   ]
  },
  {
   "cell_type": "code",
   "execution_count": 9,
   "id": "4fc8beb3-0b67-491f-8cff-4a1b2d54d595",
   "metadata": {},
   "outputs": [
    {
     "name": "stdout",
     "output_type": "stream",
     "text": [
      "<class 'numpy.ndarray'>\n",
      "(737280,)\n",
      "(1024, 720)\n",
      "[[  0   1   2 ... 205 206 207]\n",
      " [208 209 210 ... 157 158 159]\n",
      " [160 161 162 ... 109 110 111]\n",
      " ...\n",
      " [144 145 146 ...  93  94  95]\n",
      " [ 96  97  98 ...  45  46  47]\n",
      " [ 48  49  50 ... 253 254 255]]\n"
     ]
    }
   ],
   "source": [
    "# Python program to convert \n",
    "# numpy array to image \n",
    "\n",
    "# import required libraries \n",
    "import numpy as np \n",
    "from PIL import Image as im \n",
    "\n",
    "# define a main function \n",
    "def main(): \n",
    "\n",
    "\t# create a numpy array from scratch \n",
    "\t# using arange function. \n",
    "\t# 1024x720 = 737280 is the amount \n",
    "\t# of pixels. \n",
    "\t# np.uint8 is a data type containing \n",
    "\t# numbers ranging from 0 to 255 \n",
    "\t# and no non-negative integers \n",
    "\tarray = np.arange(0, 737280, 1, np.uint8) \n",
    "\t\n",
    "\t# check type of array \n",
    "\tprint(type(array)) \n",
    "\t\n",
    "\t# our array will be of width \n",
    "\t# 737280 pixels That means it \n",
    "\t# will be a long dark line \n",
    "\tprint(array.shape) \n",
    "\t\n",
    "\t# Reshape the array into a \n",
    "\t# familiar resoluition \n",
    "\tarray = np.reshape(array, (1024, 720)) \n",
    "\t\n",
    "\t# show the shape of the array \n",
    "\tprint(array.shape) \n",
    "\n",
    "\t# show the array \n",
    "\tprint(array) \n",
    "\t\n",
    "\t# creating image object of \n",
    "\t# above array \n",
    "\tdata = im.fromarray(array) \n",
    "\t\n",
    "\t# saving the final output \n",
    "\t# as a PNG file \n",
    "\tdata.save('gfg_dummy_pic.png') \n",
    "\n",
    "# driver code \n",
    "if __name__ == \"__main__\": \n",
    "\t\n",
    "# function call \n",
    "     main() \n"
   ]
  },
  {
   "cell_type": "code",
   "execution_count": null,
   "id": "571563a8-ea89-4df7-86f1-05cc254b3268",
   "metadata": {},
   "outputs": [],
   "source": []
  }
 ],
 "metadata": {
  "kernelspec": {
   "display_name": "Python 3 (ipykernel)",
   "language": "python",
   "name": "python3"
  },
  "language_info": {
   "codemirror_mode": {
    "name": "ipython",
    "version": 3
   },
   "file_extension": ".py",
   "mimetype": "text/x-python",
   "name": "python",
   "nbconvert_exporter": "python",
   "pygments_lexer": "ipython3",
   "version": "3.11.7"
  }
 },
 "nbformat": 4,
 "nbformat_minor": 5
}
