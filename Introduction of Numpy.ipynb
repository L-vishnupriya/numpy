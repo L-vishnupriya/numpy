{
 "cells": [
  {
   "cell_type": "markdown",
   "id": "b7c018bb-cf76-4523-8743-dea9822c525e",
   "metadata": {},
   "source": [
    "NUMPY - PYTHON :"
   ]
  },
  {
   "cell_type": "markdown",
   "id": "af8f5e1d-a92d-4208-8b3e-a4030e65dc87",
   "metadata": {},
   "source": [
    "What is NumPy? \n",
    "\n",
    "NumPy is a general-purpose array-processing package. It provides a high-performance multidimensional array object and tools for working with these arrays. It is the fundamental package for scientific computing with Python. It is open-source software."
   ]
  },
  {
   "cell_type": "markdown",
   "id": "9959ac24-6eb5-4902-92e8-785de9adeab4",
   "metadata": {},
   "source": [
    "--> Arrays in NumPy :"
   ]
  },
  {
   "cell_type": "markdown",
   "id": "3e13db52-9150-43b6-910c-ba2c93f81382",
   "metadata": {},
   "source": [
    "* It is a table of elements (usually numbers), all of the same type, indexed by a tuple of positive integers.\n",
    "* In NumPy, dimensions are called axes. The number of axes is rank.\n",
    "* NumPy array class is called ndarray. It is also known by the alias array."
   ]
  },
  {
   "cell_type": "markdown",
   "id": "8c5b9eb2-30e6-41cc-8cb0-2a7cb138e637",
   "metadata": {},
   "source": [
    "Example:\n",
    "\n",
    "In this example, we are creating a two-dimensional array that has the rank of 2 as it has 2 axes. The first axis(dimension) is of length 2, i.e., the number of rows, and the second axis(dimension) is of length 3, i.e., the number of columns. The overall shape of the array can be represented as (2, 3)"
   ]
  },
  {
   "cell_type": "code",
   "execution_count": 1,
   "id": "378a6d6f-7725-4441-8636-3902a2a7196b",
   "metadata": {},
   "outputs": [],
   "source": [
    "import numpy as np"
   ]
  },
  {
   "cell_type": "code",
   "execution_count": 2,
   "id": "b5b26882-6598-4fbc-9386-7677ce4509f5",
   "metadata": {},
   "outputs": [],
   "source": [
    "arr = np.array([[1,2,3],[4,2,5]]) # Creating array object "
   ]
  },
  {
   "cell_type": "code",
   "execution_count": 4,
   "id": "acae60ac-b8f6-442d-b5b5-9f4b937c5ea4",
   "metadata": {},
   "outputs": [
    {
     "name": "stdout",
     "output_type": "stream",
     "text": [
      "array of type: <class 'numpy.ndarray'>\n",
      "no.of.dimensions: 2\n",
      "size of array: 6\n",
      "shape of array: (2, 3)\n",
      "array stores elements of type: int32\n"
     ]
    }
   ],
   "source": [
    "print(\"array of type:\",type(arr)) # Printing type of arr object \n",
    "print(\"no.of.dimensions:\",arr.ndim) # Printing array dimensions (axes) \n",
    "print(\"size of array:\",arr.size) # Printing size (total number of elements) of array \n",
    "print(\"shape of array:\",arr.shape) # Printing shape of array \n",
    "print(\"array stores elements of type:\",arr.dtype) # Printing type of elements in array "
   ]
  },
  {
   "cell_type": "markdown",
   "id": "3baef2c9-291d-4481-829e-060f6efc4982",
   "metadata": {},
   "source": [
    "--> NumPy Array Creation :\n",
    "\n",
    "\n",
    "There are various ways of Numpy array creation in Python. They are as follows:\n",
    "\n",
    "1. You can create an array from a regular Python list or tuple using the array() function. The type of the resulting array is deduced from the type of the elements in the sequences."
   ]
  },
  {
   "cell_type": "code",
   "execution_count": 11,
   "id": "d97c35a6-865c-447f-ac81-16294cf2ae1f",
   "metadata": {},
   "outputs": [
    {
     "name": "stdout",
     "output_type": "stream",
     "text": [
      "array created using passed list:\n",
      " [[1. 2. 4.]\n",
      " [5. 8. 7.]]\n",
      "\n",
      "array created using passed tuple:\n",
      " [1 3 2]\n"
     ]
    }
   ],
   "source": [
    "import numpy as np\n",
    "\n",
    "# Creating array from list with type float \n",
    "a = np.array([[1,2,4],[5,8,7]], dtype = 'float')\n",
    "print(\"array created using passed list:\\n\",a)\n",
    "\n",
    "# Creating array from tuple \n",
    "b = np.array((1,3,2))\n",
    "print(\"\\narray created using passed tuple:\\n\",b)"
   ]
  },
  {
   "cell_type": "markdown",
   "id": "8ab12662-cd06-46e1-853b-28b82fb9eb4f",
   "metadata": {},
   "source": [
    "2. Often, the element is of an array is originally unknown, but its size is known. Hence, NumPy offers several functions to create arrays with initial placeholder content. These minimize the necessity of growing arrays, an expensive operation.\n",
    "\n",
    "example: np.zeros, np.ones, np.full, np.empty, etc.\n",
    "\n",
    "To create sequences of numbers, NumPy provides a function analogous to the range that returns arrays instead of lists."
   ]
  },
  {
   "cell_type": "code",
   "execution_count": 13,
   "id": "52020679-0278-400f-8db4-b5de6a04d20a",
   "metadata": {},
   "outputs": [
    {
     "name": "stdout",
     "output_type": "stream",
     "text": [
      "an array initialized with all zeros:\n",
      " [[0. 0. 0. 0.]\n",
      " [0. 0. 0. 0.]\n",
      " [0. 0. 0. 0.]]\n",
      "an array initialized with all 7s.array type is complex:\n",
      " [[7.+0.j 7.+0.j 7.+0.j]\n",
      " [7.+0.j 7.+0.j 7.+0.j]\n",
      " [7.+0.j 7.+0.j 7.+0.j]]\n",
      "a random array:\n",
      " [[0.47359092 0.55232334]\n",
      " [0.2029348  0.77795023]]\n"
     ]
    }
   ],
   "source": [
    "c = np.zeros((3,4))  # Creating a 3X4 array with all zeros \n",
    "print(\"an array initialized with all zeros:\\n\",c)\n",
    "\n",
    "d=np.full((3,3),7,dtype = 'complex')  # Create a constant value array of complex type \n",
    "print(\"an array initialized with all 7s.\"\n",
    "         \"array type is complex:\\n\",d)\n",
    "\n",
    "e=np.random.random((2,2)) # Create an array with random values \n",
    "print(\"a random array:\\n\",e)"
   ]
  },
  {
   "cell_type": "markdown",
   "id": "38ad8af2-07ab-4dae-a913-975c41baa164",
   "metadata": {},
   "source": [
    "3. arange :\n",
    "   \n",
    " This function returns evenly spaced values within a given interval. "
   ]
  },
  {
   "cell_type": "code",
   "execution_count": 16,
   "id": "a21aa8ef-5173-423e-80f8-4a3295212782",
   "metadata": {},
   "outputs": [
    {
     "name": "stdout",
     "output_type": "stream",
     "text": [
      "a sequential array with steps of 6:\n",
      " [ 0  6 12 18 24]\n"
     ]
    }
   ],
   "source": [
    "#create a sequence of integers\n",
    "#from 0 to 30 with steps of 5\n",
    "f=np.arange(0,30,6)\n",
    "print(\"a sequential array with steps of 6:\\n\",f)"
   ]
  },
  {
   "cell_type": "markdown",
   "id": "21a34c3a-8023-4efe-94ac-dbbae700d32f",
   "metadata": {},
   "source": [
    "4. linspace:\n",
    "\n",
    "It returns evenly spaced values within a given interval."
   ]
  },
  {
   "cell_type": "code",
   "execution_count": 20,
   "id": "bab22bbc-73bc-44c4-88be-a515c11e6a19",
   "metadata": {},
   "outputs": [
    {
     "name": "stdout",
     "output_type": "stream",
     "text": [
      "a sequential array with 10 values between0 and 6:\n",
      " [0.         0.66666667 1.33333333 2.         2.66666667 3.33333333\n",
      " 4.         4.66666667 5.33333333 6.        ]\n"
     ]
    }
   ],
   "source": [
    "# create a sequence of 10 values in range 0 to 5\n",
    "g = np.linspace(0,6,10)\n",
    "print(\"a sequential array with 10 values between\"\n",
    "                         \"0 and 6:\\n\",g)"
   ]
  },
  {
   "cell_type": "markdown",
   "id": "6632a71c-1917-4c76-adaf-b9c741cfb824",
   "metadata": {},
   "source": [
    "5. Reshaping array:\n",
    "\n",
    " We can use reshape method to reshape an array"
   ]
  },
  {
   "cell_type": "code",
   "execution_count": 27,
   "id": "3d1d626a-0cfb-4359-86dd-7f160179998c",
   "metadata": {},
   "outputs": [
    {
     "name": "stdout",
     "output_type": "stream",
     "text": [
      "original array:\n",
      " [[1 2 3 4]\n",
      " [5 2 4 2]\n",
      " [1 2 0 1]]\n",
      "-------------------\n",
      "reshape array:\n",
      " [[[1 2 3]\n",
      "  [4 5 2]]\n",
      "\n",
      " [[4 2 1]\n",
      "  [2 0 1]]]\n"
     ]
    }
   ],
   "source": [
    "arr = np.array([[1,2,3,4],[5,2,4,2],[1,2,0,1]])\n",
    "\n",
    "newarr = arr.reshape(2,2,3)  # Reshaping 3X4 array to 2X2X3 array \n",
    "\n",
    "print(\"original array:\\n\",arr)\n",
    "print(\"-------------------\")\n",
    "print(\"reshape array:\\n\",newarr)"
   ]
  },
  {
   "cell_type": "markdown",
   "id": "65a92bb2-995a-4b5e-9227-54db1d1ae4c3",
   "metadata": {},
   "source": [
    "6. Flatten array:\n",
    "\n",
    "   We can use flatten method to get a copy of the array collapsed into one dimension. "
   ]
  },
  {
   "cell_type": "code",
   "execution_count": 28,
   "id": "e121cb57-66bc-4cd5-bc78-b5aab64ce367",
   "metadata": {},
   "outputs": [
    {
     "name": "stdout",
     "output_type": "stream",
     "text": [
      "original array:\n",
      " [[1 2 3]\n",
      " [4 5 6]]\n",
      "flatten array:\n",
      " [1 2 3 4 5 6]\n"
     ]
    }
   ],
   "source": [
    "#flatten array\n",
    "arr = np.array([[1,2,3],[4,5,6]])\n",
    "flat_arr = arr.flatten()\n",
    "\n",
    "print(\"original array:\\n\",arr)\n",
    "print(\"flatten array:\\n\",flat_arr)"
   ]
  },
  {
   "cell_type": "markdown",
   "id": "f68ddb93-c6b0-42c6-a128-97f85c11ca49",
   "metadata": {},
   "source": [
    "NumPy Array Indexing :\n",
    "\n",
    "Slicing: \n",
    "\n",
    "Just like lists in Python, NumPy arrays can be sliced. As arrays can be multidimensional, we need to specify a slice for each dimension of the array.\n",
    "\n",
    "Integer array indexing:\n",
    "\n",
    "In this method, lists are passed for indexing for each dimension. One-to-one mapping of corresponding elements is done to construct a new arbitrary array.\n",
    "\n",
    "Boolean array indexing:\n",
    "\n",
    "This method is used when we want to pick elements from the array which satisfy some condition."
   ]
  },
  {
   "cell_type": "code",
   "execution_count": 36,
   "id": "c5e6e714-9920-4d17-886a-91f3c6342fd6",
   "metadata": {},
   "outputs": [
    {
     "name": "stdout",
     "output_type": "stream",
     "text": [
      "array with first 2 rows and alternate column (0 and 2):\n",
      " [2.  4.  4.  6.  2.6 7.  8.  3.  4.  2. ]\n",
      "\n",
      "elements at indices (0,3), (1,2), (2,1), (3,0):\n",
      " [4. 6. 0. 3.]\n",
      "\n",
      "elements greater than 0:\n",
      " [2.  4.  4.  6.  2.6 7.  8.  3.  4.  2. ]\n"
     ]
    }
   ],
   "source": [
    "#indexing in numpy\n",
    "import numpy as np\n",
    "\n",
    "#an exemplar array\n",
    "arr = np.array([[-1, 2, 0, 4], [4, -0.5, 6, 0], [2.6, 0, 7, 8], [3, -7, 4, 2.0]])\n",
    "\n",
    "#slicing array\n",
    "tem = arr[:2, ::2]\n",
    "print(\"array with first 2 rows and alternate column (0 and 2):\\n\", temp)\n",
    "\n",
    "#integer array indexing example\n",
    "temp = arr[[0, 1, 2, 3],[3, 2, 1, 0]]\n",
    "print(\"\\nelements at indices (0,3), (1,2), (2,1), (3,0):\\n\", temp)\n",
    "\n",
    "#boolean array indexing example\n",
    "cond = arr > 0 \n",
    "temp = arr[cond]\n",
    "print(\"\\nelements greater than 0:\\n\", temp)"
   ]
  },
  {
   "cell_type": "markdown",
   "id": "97bcb4fa-66dd-4b3d-b951-cbae1bc6af55",
   "metadata": {},
   "source": [
    "NumPy Basic Operations :"
   ]
  },
  {
   "cell_type": "markdown",
   "id": "6b87c03a-8c28-4656-9b85-f5b41d29105e",
   "metadata": {},
   "source": [
    "Operations on a single NumPy array : +=, -=, *= operators."
   ]
  },
  {
   "cell_type": "code",
   "execution_count": 38,
   "id": "23d50cd2-1deb-4038-838b-ba1d29f91a03",
   "metadata": {},
   "outputs": [
    {
     "name": "stdout",
     "output_type": "stream",
     "text": [
      "adding 1 to every element: [2 3 6 4]\n",
      "subracting 3 from every element: [-2 -1  2  0]\n",
      "multiplying 10 by each element: [10 20 50 30]\n",
      "squaring each element: [ 1  4 25  9]\n",
      "doubled each element of original arra: [ 2  4 10  6]\n",
      "original array: [[1 2 3]\n",
      " [3 4 5]\n",
      " [9 6 0]]\n",
      "transpose array: [[1 3 9]\n",
      " [2 4 6]\n",
      " [3 5 0]]\n"
     ]
    }
   ],
   "source": [
    "import numpy as np\n",
    "\n",
    "a = np.array([1, 2, 5, 3])\n",
    "\n",
    "print(\"adding 1 to every element:\", a+1) # add 1 to every element \n",
    "\n",
    "print(\"subracting 3 from every element:\", a-3) # subtract 3 from each element \n",
    "\n",
    "print(\"multiplying 10 by each element:\", a*10) # multiply each element by 10 \n",
    "\n",
    "print(\"squaring each element:\", a**2) # square each element \n",
    "\n",
    "# modify existing array \n",
    "a *= 2\n",
    "print(\"doubled each element of original arra:\", a)\n",
    "\n",
    "a= np.array([[1,2,3],[3,4,5],[9,6,0]]) # transpose of array \n",
    "\n",
    "print(\"original array:\", a)\n",
    "print(\"transpose array:\", a.T)"
   ]
  },
  {
   "cell_type": "markdown",
   "id": "f9987010-e584-464a-b1fd-f7fcc170606e",
   "metadata": {},
   "source": [
    "NumPy – Unary Operators :\n",
    "\n",
    "Many unary operations are provided as a method of ndarray class. This includes sum, min, max, etc. These functions can also be applied row-wise or column-wise by setting an axis parameter."
   ]
  },
  {
   "cell_type": "code",
   "execution_count": 39,
   "id": "e0ea9471-7034-42fa-acae-e8b4eaa5a773",
   "metadata": {},
   "outputs": [
    {
     "name": "stdout",
     "output_type": "stream",
     "text": [
      "Largest element is: 9\n",
      "Row-wise maximum elements: [6 7 9]\n",
      "Column-wise minimum elements: [1 1 2]\n",
      "Sum of all array elements: 38\n",
      "Cumulative sum along each row:\n",
      " [[ 1  6 12]\n",
      " [ 4 11 13]\n",
      " [ 3  4 13]]\n"
     ]
    }
   ],
   "source": [
    "import numpy as np \n",
    "  \n",
    "arr = np.array([[1, 5, 6], \n",
    "                [4, 7, 2], \n",
    "                [3, 1, 9]]) \n",
    "  \n",
    "# maximum element of array \n",
    "print (\"Largest element is:\", arr.max()) \n",
    "print (\"Row-wise maximum elements:\", \n",
    "                    arr.max(axis = 1)) \n",
    "  \n",
    "# minimum element of array \n",
    "print (\"Column-wise minimum elements:\", \n",
    "                        arr.min(axis = 0)) \n",
    "  \n",
    "# sum of array elements \n",
    "print (\"Sum of all array elements:\", \n",
    "                            arr.sum()) \n",
    "  \n",
    "# cumulative sum along each row \n",
    "print (\"Cumulative sum along each row:\\n\", \n",
    "                        arr.cumsum(axis = 1)) "
   ]
  },
  {
   "cell_type": "markdown",
   "id": "610a4b05-b971-4aa3-844a-923b81c33e05",
   "metadata": {},
   "source": [
    "NumPy – Binary Operators :\n",
    "\n",
    "These operations apply to the array elementwise and a new array is created.The basic arithmetic operators like +, -, /,  etc. In the case of +=, -=, = operators, the existing array is modified.\n"
   ]
  },
  {
   "cell_type": "code",
   "execution_count": 40,
   "id": "e725bdca-eea9-4ccc-895b-d7012d6ad6c7",
   "metadata": {},
   "outputs": [
    {
     "name": "stdout",
     "output_type": "stream",
     "text": [
      "Array sum:\n",
      " [[5 5]\n",
      " [5 5]]\n",
      "Array multiplication:\n",
      " [[4 6]\n",
      " [6 4]]\n",
      "Matrix multiplication:\n",
      " [[ 8  5]\n",
      " [20 13]]\n"
     ]
    }
   ],
   "source": [
    "import numpy as np \n",
    "  \n",
    "a = np.array([[1, 2], \n",
    "            [3, 4]]) \n",
    "b = np.array([[4, 3], \n",
    "            [2, 1]]) \n",
    "  \n",
    "# add arrays \n",
    "print (\"Array sum:\\n\", a + b) \n",
    "  \n",
    "# multiply arrays (elementwise multiplication) \n",
    "print (\"Array multiplication:\\n\", a*b) \n",
    "  \n",
    "# matrix multiplication \n",
    "print (\"Matrix multiplication:\\n\", a.dot(b)) "
   ]
  },
  {
   "cell_type": "markdown",
   "id": "3452188b-ee73-48df-a693-5a8f71754859",
   "metadata": {},
   "source": [
    "NymPy’s ufuncs :\n",
    "\n",
    "NumPy provides familiar mathematical functions such as sin, cos, exp, etc.\n",
    "\n",
    "All the operations we did above using overloaded operators can be done using ufuncs like np.add, np.subtract, np.multiply, np.divide, np.sum, etc. "
   ]
  },
  {
   "cell_type": "code",
   "execution_count": 43,
   "id": "2c8d0711-099b-4a4b-a265-7b5be843411d",
   "metadata": {},
   "outputs": [
    {
     "name": "stdout",
     "output_type": "stream",
     "text": [
      "Sine values of array elements: [0.0000000e+00 1.0000000e+00 1.2246468e-16]\n",
      "Exponent of array elements: [ 1.          2.71828183  7.3890561  20.08553692]\n",
      "Square root of array elements: [0.         1.         1.41421356 1.73205081]\n"
     ]
    }
   ],
   "source": [
    "import numpy as np \n",
    "  \n",
    "# create an array of sine values \n",
    "a = np.array([0, np.pi/2, np.pi]) \n",
    "print (\"Sine values of array elements:\", np.sin(a)) \n",
    "  \n",
    "# exponential values \n",
    "a = np.array([0, 1, 2, 3]) \n",
    "print (\"Exponent of array elements:\", np.exp(a)) \n",
    "  \n",
    "# square root of array values \n",
    "print (\"Square root of array elements:\", np.sqrt(a)) "
   ]
  },
  {
   "cell_type": "markdown",
   "id": "1c066302-5bbc-4056-a3e5-18b15045c503",
   "metadata": {},
   "source": [
    "NumPy Sorting Arrays :\n",
    "\n",
    "There is a simple np.sort() method for sorting Python NumPy arrays"
   ]
  },
  {
   "cell_type": "code",
   "execution_count": 44,
   "id": "81b1b8dc-a7d8-4a0f-8a38-4206873bfcd2",
   "metadata": {},
   "outputs": [
    {
     "name": "stdout",
     "output_type": "stream",
     "text": [
      "Array elements in sorted order:\n",
      " [-1  0  1  2  3  4  4  5  6]\n",
      "Row-wise sorted array:\n",
      " [[ 1  2  4]\n",
      " [ 3  4  6]\n",
      " [-1  0  5]]\n",
      "Column wise sort by applying merge-sort:\n",
      " [[ 0 -1  2]\n",
      " [ 1  4  5]\n",
      " [ 3  4  6]]\n",
      "\n",
      "Array sorted by names:\n",
      " [(b'Aakash', 2009, 9. ) (b'Ajay', 2008, 8.7) (b'Hrithik', 2009, 8.5)\n",
      " (b'Pankaj', 2008, 7.9)]\n",
      "Array sorted by graduation year and then cgpa:\n",
      " [(b'Pankaj', 2008, 7.9) (b'Ajay', 2008, 8.7) (b'Hrithik', 2009, 8.5)\n",
      " (b'Aakash', 2009, 9. )]\n"
     ]
    }
   ],
   "source": [
    "import numpy as np \n",
    "  \n",
    "a = np.array([[1, 4, 2], \n",
    "                 [3, 4, 6], \n",
    "              [0, -1, 5]]) \n",
    "  \n",
    "# sorted array \n",
    "print (\"Array elements in sorted order:\\n\", \n",
    "                    np.sort(a, axis = None)) \n",
    "  \n",
    "# sort array row-wise \n",
    "print (\"Row-wise sorted array:\\n\", \n",
    "                np.sort(a, axis = 1)) \n",
    "  \n",
    "# specify sort algorithm \n",
    "print (\"Column wise sort by applying merge-sort:\\n\", \n",
    "            np.sort(a, axis = 0, kind = 'mergesort')) \n",
    "  \n",
    "# Example to show sorting of structured array \n",
    "# set alias names for dtypes \n",
    "dtypes = [('name', 'S10'), ('grad_year', int), ('cgpa', float)] \n",
    "  \n",
    "# Values to be put in array \n",
    "values = [('Hrithik', 2009, 8.5), ('Ajay', 2008, 8.7),  \n",
    "           ('Pankaj', 2008, 7.9), ('Aakash', 2009, 9.0)] \n",
    "# Creating array \n",
    "arr = np.array(values, dtype = dtypes) \n",
    "print (\"\\nArray sorted by names:\\n\", \n",
    "            np.sort(arr, order = 'name')) \n",
    "              \n",
    "print (\"Array sorted by graduation year and then cgpa:\\n\", \n",
    "                np.sort(arr, order = ['grad_year', 'cgpa'])) \n"
   ]
  },
  {
   "cell_type": "code",
   "execution_count": null,
   "id": "c276d0ea-e7cc-4074-990e-b4fe607a0e51",
   "metadata": {},
   "outputs": [],
   "source": []
  },
  {
   "cell_type": "markdown",
   "id": "64707c83-259f-42f1-b1b2-1de5a3fa1511",
   "metadata": {},
   "source": [
    "Creating a Numpy Array :\n"
   ]
  },
  {
   "cell_type": "code",
   "execution_count": 48,
   "id": "ebd3e958-a2e2-49a8-8b50-e67dcc768e26",
   "metadata": {},
   "outputs": [
    {
     "name": "stdout",
     "output_type": "stream",
     "text": [
      "array with rank: [1 2 3]\n",
      "array with rank2: [[1 2 3]\n",
      " [4 5 6]]\n",
      "array created using passed tuple: [1 3 4]\n"
     ]
    }
   ],
   "source": [
    "import numpy as np\n",
    "\n",
    "arr = np.array([1, 2, 3]) # Creating a rank 1 Array\n",
    "print(\"array with rank:\",arr)\n",
    "\n",
    "arr = np.array([[1, 2, 3],[4, 5, 6]]) # Creating a rank 2 Array\n",
    "print(\"array with rank2:\",arr)\n",
    "\n",
    "arr = np.array((1, 3, 4)) # Creating an array from tuple\n",
    "print(\"array created using passed tuple:\", arr)"
   ]
  },
  {
   "cell_type": "markdown",
   "id": "7a97f438-d868-45b0-b655-e356a88a04fe",
   "metadata": {},
   "source": [
    "Accessing the array Index :"
   ]
  },
  {
   "cell_type": "code",
   "execution_count": 49,
   "id": "e5efaaf2-47db-4c45-b3ed-756a3f65d52d",
   "metadata": {},
   "outputs": [
    {
     "name": "stdout",
     "output_type": "stream",
     "text": [
      "Initial Array: \n",
      "[[-1.   2.   0.   4. ]\n",
      " [ 4.  -0.5  6.   0. ]\n",
      " [ 2.6  0.   7.   8. ]\n",
      " [ 3.  -7.   4.   2. ]]\n",
      "Array with first 2 rows and alternate columns(0 and 2):\n",
      " [[-1.  0.]\n",
      " [ 4.  6.]]\n",
      "\n",
      "Elements at indices (1, 3), (1, 2), (0, 1), (3, 0):\n",
      " [0. 6. 2. 3.]\n"
     ]
    }
   ],
   "source": [
    "import numpy as np\n",
    " \n",
    "# Initial Array\n",
    "arr = np.array([[-1, 2, 0, 4],\n",
    "                [4, -0.5, 6, 0],\n",
    "                [2.6, 0, 7, 8],\n",
    "                [3, -7, 4, 2.0]])\n",
    "print(\"Initial Array: \")\n",
    "print(arr)\n",
    " \n",
    "# Printing a range of Array\n",
    "# with the use of slicing method\n",
    "sliced_arr = arr[:2, ::2]\n",
    "print (\"Array with first 2 rows and\"\n",
    "    \" alternate columns(0 and 2):\\n\", sliced_arr)\n",
    " \n",
    "# Printing elements at\n",
    "# specific Indices\n",
    "Index_arr = arr[[1, 1, 0, 3], \n",
    "                [3, 2, 1, 0]]\n",
    "print (\"\\nElements at indices (1, 3), \"\n",
    "    \"(1, 2), (0, 1), (3, 0):\\n\", Index_arr)"
   ]
  },
  {
   "cell_type": "markdown",
   "id": "de930530-fb86-4b4d-990e-42bc2f15a850",
   "metadata": {},
   "source": [
    "Basic Array Operations :"
   ]
  },
  {
   "cell_type": "code",
   "execution_count": 50,
   "id": "e3ae662f-5f1d-4516-93cd-b2b696d2b6d9",
   "metadata": {},
   "outputs": [
    {
     "name": "stdout",
     "output_type": "stream",
     "text": [
      "Adding 1 to every element: [[2 3]\n",
      " [4 5]]\n",
      "\n",
      "Subtracting 2 from each element: [[ 2  1]\n",
      " [ 0 -1]]\n",
      "\n",
      "Sum of all array elements:  10\n",
      "\n",
      "Array sum:\n",
      " [[5 5]\n",
      " [5 5]]\n"
     ]
    }
   ],
   "source": [
    "import numpy as np\n",
    " \n",
    "# Defining Array 1\n",
    "a = np.array([[1, 2],\n",
    "              [3, 4]])\n",
    " \n",
    "# Defining Array 2\n",
    "b = np.array([[4, 3],\n",
    "              [2, 1]])\n",
    "               \n",
    "# Adding 1 to every element\n",
    "print (\"Adding 1 to every element:\", a + 1)\n",
    " \n",
    "# Subtracting 2 from each element\n",
    "print (\"\\nSubtracting 2 from each element:\", b - 2)\n",
    " \n",
    "# sum of array elements\n",
    "# Performing Unary operations\n",
    "print (\"\\nSum of all array \"\n",
    "       \"elements: \", a.sum())\n",
    " \n",
    "# Adding two arrays\n",
    "# Performing Binary operations\n",
    "print (\"\\nArray sum:\\n\", a + b)"
   ]
  },
  {
   "cell_type": "markdown",
   "id": "bc01e7ef-9f40-48eb-beea-1f84c1cf437c",
   "metadata": {},
   "source": [
    "Constructing a Datatype Object :"
   ]
  },
  {
   "cell_type": "code",
   "execution_count": 51,
   "id": "46b40b9e-7a75-4bcd-bec5-a717b23ceec0",
   "metadata": {},
   "outputs": [
    {
     "name": "stdout",
     "output_type": "stream",
     "text": [
      "Integer Datatype: \n",
      "int32\n",
      "\n",
      "Float Datatype: \n",
      "float64\n",
      "\n",
      "Forcing a Datatype: \n",
      "int64\n"
     ]
    }
   ],
   "source": [
    "import numpy as np\n",
    " \n",
    "# Integer datatype\n",
    "# guessed by Numpy\n",
    "x = np.array([1, 2])  \n",
    "print(\"Integer Datatype: \")\n",
    "print(x.dtype)         \n",
    " \n",
    "# Float datatype\n",
    "# guessed by Numpy\n",
    "x = np.array([1.0, 2.0]) \n",
    "print(\"\\nFloat Datatype: \")\n",
    "print(x.dtype)  \n",
    " \n",
    "# Forced Datatype\n",
    "x = np.array([1, 2], dtype = np.int64)   \n",
    "print(\"\\nForcing a Datatype: \")\n",
    "print(x.dtype)"
   ]
  },
  {
   "cell_type": "markdown",
   "id": "a182290c-6ed3-4291-b426-ce9840417688",
   "metadata": {},
   "source": [
    "Math Operations on DataType array :\n"
   ]
  },
  {
   "cell_type": "code",
   "execution_count": 52,
   "id": "c5ebdc3c-5dd9-4f09-88c4-3a579c203d80",
   "metadata": {},
   "outputs": [
    {
     "name": "stdout",
     "output_type": "stream",
     "text": [
      "Addition of Two Arrays: \n",
      "[[ 7. 13.]\n",
      " [ 4. 14.]]\n",
      "\n",
      "Addition of Array elements: \n",
      "19.0\n",
      "\n",
      "Square root of Array1 elements: \n",
      "[[2.         2.64575131]\n",
      " [1.41421356 2.44948974]]\n",
      "\n",
      "Transpose of Array: \n",
      "[[4. 2.]\n",
      " [7. 6.]]\n"
     ]
    }
   ],
   "source": [
    "import numpy as np\n",
    " \n",
    "# First Array\n",
    "arr1 = np.array([[4, 7], [2, 6]], \n",
    "                 dtype = np.float64)\n",
    "                  \n",
    "# Second Array\n",
    "arr2 = np.array([[3, 6], [2, 8]], \n",
    "                 dtype = np.float64) \n",
    " \n",
    "# Addition of two Arrays\n",
    "Sum = np.add(arr1, arr2)\n",
    "print(\"Addition of Two Arrays: \")\n",
    "print(Sum)\n",
    " \n",
    "# Addition of all Array elements\n",
    "# using predefined sum method\n",
    "Sum1 = np.sum(arr1)\n",
    "print(\"\\nAddition of Array elements: \")\n",
    "print(Sum1)\n",
    " \n",
    "# Square root of Array\n",
    "Sqrt = np.sqrt(arr1)\n",
    "print(\"\\nSquare root of Array1 elements: \")\n",
    "print(Sqrt)\n",
    " \n",
    "# Transpose of Array\n",
    "# using In-built function 'T'\n",
    "Trans_arr = arr1.T\n",
    "print(\"\\nTranspose of Array: \")\n",
    "print(Trans_arr)"
   ]
  },
  {
   "cell_type": "code",
   "execution_count": null,
   "id": "71024220-4acd-49f2-9090-371a84b232cb",
   "metadata": {},
   "outputs": [],
   "source": []
  },
  {
   "cell_type": "markdown",
   "id": "b670d3c6-4288-490c-beba-43b3182c5ce0",
   "metadata": {},
   "source": [
    "Dimensionalities of array:\n",
    "\n",
    "0D (zer-dimensional) =  Scalar – A single element\n",
    "\n",
    "1D (one-dimensional) =  Vector- A list of integers\n",
    "\n",
    "2D (two-dimensional) =  Matrix- A spreadsheet of data\n",
    "\n",
    "3D (three-dimensional) = Tensor- Storing a color image\n"
   ]
  },
  {
   "cell_type": "markdown",
   "id": "68212994-571c-481f-bc42-424eb22519ac",
   "metadata": {},
   "source": [
    "Create Array Object :\n"
   ]
  },
  {
   "cell_type": "code",
   "execution_count": 55,
   "id": "bb9ff24a-ff5a-41bf-af4d-58d23cd04b34",
   "metadata": {},
   "outputs": [
    {
     "name": "stdout",
     "output_type": "stream",
     "text": [
      "[1 2 3 4 5 6]\n"
     ]
    }
   ],
   "source": [
    "import numpy as np\n",
    "arr = np.array([1,2,3,4,5,6])\n",
    "print(arr)"
   ]
  },
  {
   "cell_type": "markdown",
   "id": "732b345f-c51f-4e9f-876d-4f6f94eaf42a",
   "metadata": {},
   "source": [
    "Create NumPy Array from a List :"
   ]
  },
  {
   "cell_type": "markdown",
   "id": "366620df-0d50-49dd-a17f-45a212524257",
   "metadata": {},
   "source": [
    "1. The following example shows how to initialize a array from a list. "
   ]
  },
  {
   "cell_type": "code",
   "execution_count": 56,
   "id": "b16190a1-8c71-4bde-a317-c6afa6fd9dab",
   "metadata": {},
   "outputs": [
    {
     "name": "stdout",
     "output_type": "stream",
     "text": [
      "[1 2 3 4]\n"
     ]
    }
   ],
   "source": [
    "import numpy as np\n",
    "li = [1,2,3,4]\n",
    "numpyArr = np.array(li)\n",
    "print(numpyArr)"
   ]
  },
  {
   "cell_type": "markdown",
   "id": "28959fe6-1639-40cf-ba56-48c9e8d1b8e7",
   "metadata": {},
   "source": [
    "2. Let’s take an example to check whether the numpyArr is a NumPy object or not. In this example, we are using the array() function to convert the list into a NumPy array and then check if it’s a NumPy object or not."
   ]
  },
  {
   "cell_type": "code",
   "execution_count": 58,
   "id": "ab099596-e85f-40a1-9be1-5326417ee5ec",
   "metadata": {},
   "outputs": [
    {
     "name": "stdout",
     "output_type": "stream",
     "text": [
      "li = [1, 2, 3, 4] and type(li) = <class 'list'>\n",
      "numpyArr = [1 2 3 4] and type(numpyArr) = <class 'numpy.ndarray'>\n"
     ]
    }
   ],
   "source": [
    "import numpy as np\n",
    "\n",
    "li = [1,2,3,4]\n",
    "numpyArr = np.array(li)\n",
    "\n",
    "print(\"li =\", li, \"and type(li) =\", type(li))\n",
    "print(\"numpyArr =\", numpyArr, \"and type(numpyArr) =\", type(numpyArr))"
   ]
  },
  {
   "cell_type": "markdown",
   "id": "db014b7c-871b-48bf-847c-ed176a76062b",
   "metadata": {},
   "source": [
    "Create a NumPy Array from a Tuple :"
   ]
  },
  {
   "cell_type": "code",
   "execution_count": 60,
   "id": "c88e2293-53ce-419c-b49c-8a60a66212be",
   "metadata": {},
   "outputs": [
    {
     "name": "stdout",
     "output_type": "stream",
     "text": [
      "tup = (1, 2, 3, 4) and type(tup) = <class 'tuple'>\n",
      "numpyArr = [1 2 3 4] and type(numpyArr) = <class 'numpy.ndarray'>\n"
     ]
    }
   ],
   "source": [
    "import numpy as np\n",
    "\n",
    "tup = (1,2,3,4)\n",
    "numpyArr = np.array(tup)\n",
    "\n",
    "print(\"tup =\", tup, \"and type(tup) =\", type(tup))\n",
    "print(\"numpyArr =\", numpyArr, \"and type(numpyArr) =\", type(numpyArr))"
   ]
  },
  {
   "cell_type": "markdown",
   "id": "9c7cbfcd-ee84-4517-b2a4-4ede77bf852f",
   "metadata": {},
   "source": [
    "One Dimensional Array:"
   ]
  },
  {
   "cell_type": "code",
   "execution_count": 62,
   "id": "ec167657-baeb-4c56-bf76-dc828ee396a9",
   "metadata": {},
   "outputs": [
    {
     "name": "stdout",
     "output_type": "stream",
     "text": [
      "List in python :  [1, 2, 3, 4]\n",
      "Numpy Array in python : [1 2 3 4]\n"
     ]
    }
   ],
   "source": [
    "import numpy as np\n",
    "\n",
    "# creating list\n",
    "list = [1, 2, 3, 4]\n",
    "\n",
    "# creating numpy array\n",
    "sample_array = np.array(list)\n",
    "\n",
    "print(\"List in python : \", list)\n",
    "\n",
    "print(\"Numpy Array in python :\",\n",
    "      sample_array)"
   ]
  },
  {
   "cell_type": "markdown",
   "id": "2b6cfc77-88f6-4b30-b3e5-f3fb99f68811",
   "metadata": {},
   "source": [
    "Multi-Dimensional Array:"
   ]
  },
  {
   "cell_type": "code",
   "execution_count": 63,
   "id": "f7ec8751-8605-4c33-abd2-9ce4d2f6dcd9",
   "metadata": {},
   "outputs": [
    {
     "name": "stdout",
     "output_type": "stream",
     "text": [
      "Numpy multi dimensional array in python\n",
      " [[ 1  2  3  4]\n",
      " [ 5  6  7  8]\n",
      " [ 9 10 11 12]]\n"
     ]
    }
   ],
   "source": [
    "import numpy as np\n",
    "\n",
    "# creating list \n",
    "list_1 = [1, 2, 3, 4]\n",
    "list_2 = [5, 6, 7, 8]\n",
    "list_3 = [9, 10, 11, 12]\n",
    "\n",
    "# creating numpy array\n",
    "sample_array = np.array([list_1, \n",
    "                         list_2,\n",
    "                         list_3])\n",
    "\n",
    "print(\"Numpy multi dimensional array in python\\n\",\n",
    "      sample_array)"
   ]
  },
  {
   "cell_type": "markdown",
   "id": "6385d2a6-2a0f-42ca-8c58-943716066417",
   "metadata": {},
   "source": [
    "Anatomy of an array :\n",
    "\n",
    "1. Axis: The Axis of an array describes the order of the indexing into the array.\n",
    "\n",
    "Axis 0 = one dimensional\n",
    "\n",
    "Axis 1 = Two dimensional\n",
    "\n",
    "Axis 2 = Three dimensional "
   ]
  },
  {
   "cell_type": "markdown",
   "id": "ca36e7fe-861a-45ea-a54e-db25ec6a5aea",
   "metadata": {},
   "source": [
    "2. Shape: The number of elements along with each axis. It is from a tuple."
   ]
  },
  {
   "cell_type": "code",
   "execution_count": 65,
   "id": "2b2ba5db-f999-4cf2-a98b-f5de79f3111c",
   "metadata": {},
   "outputs": [
    {
     "name": "stdout",
     "output_type": "stream",
     "text": [
      "Numpy array :\n",
      "[[ 1  2  3  4]\n",
      " [ 5  6  7  8]\n",
      " [ 9 10 11 12]]\n",
      "Shape of the array : (3, 4)\n"
     ]
    }
   ],
   "source": [
    "import numpy as np\n",
    "\n",
    "# creating list \n",
    "list_1 = [1, 2, 3, 4]\n",
    "list_2 = [5, 6, 7, 8]\n",
    "list_3 = [9, 10, 11, 12]\n",
    "\n",
    "# creating numpy array\n",
    "sample_array = np.array([list_1,\n",
    "                         list_2,\n",
    "                         list_3])\n",
    "arrays = sample_array.shape\n",
    "\n",
    "print(\"Numpy array :\")\n",
    "print(sample_array)\n",
    "\n",
    "# print shape of the array\n",
    "print(\"Shape of the array :\",arrays)"
   ]
  },
  {
   "cell_type": "markdown",
   "id": "4442d36a-3dcb-449e-abb5-eef30a536713",
   "metadata": {},
   "source": [
    "3. Rank: The rank of an array is simply the number of axes (or dimensions) it has."
   ]
  },
  {
   "cell_type": "markdown",
   "id": "3305875f-d75b-47a0-bb4c-7856f5d8d7c1",
   "metadata": {},
   "source": [
    "4. Data type objects (dtype):\n",
    "\n",
    " Data type objects (dtype) is an instance of numpy.dtype class. It describes how the bytes in the fixed-size block of memory corresponding to an array item should be interpreted."
   ]
  },
  {
   "cell_type": "code",
   "execution_count": 67,
   "id": "113a0c2f-15b2-4d69-96e8-609a1bf02428",
   "metadata": {},
   "outputs": [
    {
     "name": "stdout",
     "output_type": "stream",
     "text": [
      "Data type of the array 1 : int32\n",
      "Data type of array 2 : float64\n"
     ]
    }
   ],
   "source": [
    "# Import module\n",
    "import numpy as np\n",
    "\n",
    "# Creating the array \n",
    "sample_array_1 = np.array([[0, 4, 2]])\n",
    "\n",
    "sample_array_2 = np.array([[0.2, 0.4, 2.4]])\n",
    "\n",
    "# display data type\n",
    "print(\"Data type of the array 1 :\",\n",
    "      sample_array_1.dtype)\n",
    "\n",
    "print(\"Data type of array 2 :\",\n",
    "      sample_array_2.dtype)\n"
   ]
  },
  {
   "cell_type": "markdown",
   "id": "c5022578-f8bc-4dcd-83aa-ce0fecbab3e9",
   "metadata": {},
   "source": [
    "* numpy.fromiter(): The fromiter() function create a new one-dimensional array from an iterable object.\n",
    "\n",
    "  Syntax: numpy.fromiter(iterable, dtype, count=-1)"
   ]
  },
  {
   "cell_type": "code",
   "execution_count": 68,
   "id": "c83bd9d8-bfe5-42f7-8421-5313d64d051b",
   "metadata": {},
   "outputs": [
    {
     "name": "stdout",
     "output_type": "stream",
     "text": [
      "fromiter() array : [ 0.  1.  4.  9. 16. 25. 36. 49.]\n"
     ]
    }
   ],
   "source": [
    "import numpy as np\n",
    "\n",
    "# iterable\n",
    "iterable = (a*a for a in range(8))\n",
    "\n",
    "arr = np.fromiter(iterable, float)\n",
    "\n",
    "print(\"fromiter() array :\",arr)"
   ]
  },
  {
   "cell_type": "code",
   "execution_count": 69,
   "id": "8e3f6b6a-7aa3-47da-bb01-6a0f9a3d8583",
   "metadata": {},
   "outputs": [
    {
     "name": "stdout",
     "output_type": "stream",
     "text": [
      "fromiter() array : ['G' 'e' 'e' 'k' 'f' 'o' 'r' 'g' 'e' 'e' 'k' 's']\n"
     ]
    }
   ],
   "source": [
    "import numpy as np\n",
    "\n",
    "var = \"Geekforgeeks\"\n",
    "\n",
    "arr = np.fromiter(var, dtype = 'U2')\n",
    "\n",
    "print(\"fromiter() array :\",\n",
    "      arr)"
   ]
  },
  {
   "cell_type": "markdown",
   "id": "0fd52e6f-077c-4ed4-957b-aa3641f90d11",
   "metadata": {},
   "source": [
    "* numpy.empty(): This function create a new array of given shape and type, without initializing value."
   ]
  },
  {
   "cell_type": "code",
   "execution_count": 70,
   "id": "158ef37d-8f44-4f88-a5ef-a035e4b1f3a7",
   "metadata": {},
   "outputs": [
    {
     "data": {
      "text/plain": [
       "array([[ 1,  5,  9],\n",
       "       [ 2,  6, 10],\n",
       "       [ 3,  7, 11],\n",
       "       [ 4,  8, 12]])"
      ]
     },
     "execution_count": 70,
     "metadata": {},
     "output_type": "execute_result"
    }
   ],
   "source": [
    "import numpy as np\n",
    "\n",
    "np.empty([4, 3],\n",
    "         dtype = np.int32,\n",
    "         order = 'f')"
   ]
  },
  {
   "cell_type": "markdown",
   "id": "6f55b1eb-43f4-41f8-8734-d439c8dc6898",
   "metadata": {},
   "source": [
    "numpy.ones(): This function is used to get a new array of given shape and type, filled with ones(1).\n",
    "\n",
    "Syntax: numpy.ones(shape, dtype=None, order=’C’)"
   ]
  },
  {
   "cell_type": "code",
   "execution_count": 71,
   "id": "4b743f26-b62a-40c9-8302-b5eb4c2c1bee",
   "metadata": {},
   "outputs": [
    {
     "data": {
      "text/plain": [
       "array([[1, 1, 1],\n",
       "       [1, 1, 1],\n",
       "       [1, 1, 1],\n",
       "       [1, 1, 1]])"
      ]
     },
     "execution_count": 71,
     "metadata": {},
     "output_type": "execute_result"
    }
   ],
   "source": [
    "import numpy as np\n",
    "\n",
    "np.ones([4, 3],\n",
    "        dtype = np.int32,\n",
    "        order = 'f')"
   ]
  },
  {
   "cell_type": "code",
   "execution_count": 72,
   "id": "f7fca537-faf7-4e08-a932-6dcdcef99027",
   "metadata": {},
   "outputs": [
    {
     "data": {
      "text/plain": [
       "array([[0, 0, 0],\n",
       "       [0, 0, 0],\n",
       "       [0, 0, 0],\n",
       "       [0, 0, 0]])"
      ]
     },
     "execution_count": 72,
     "metadata": {},
     "output_type": "execute_result"
    }
   ],
   "source": [
    "import numpy as np\n",
    "np.zeros([4, 3],  #zeros\n",
    "         dtype = np.int32,\n",
    "         order = 'f')"
   ]
  },
  {
   "cell_type": "code",
   "execution_count": 73,
   "id": "b865753d-abac-4af8-8953-3492d772754c",
   "metadata": {},
   "outputs": [
    {
     "name": "stdout",
     "output_type": "stream",
     "text": [
      "('John', [6., 7.])\n",
      "Grades of John are:  [6. 7.]\n",
      "Names are:  ['Sarah' 'John']\n"
     ]
    }
   ],
   "source": [
    "import numpy as np\n",
    " \n",
    "dt = np.dtype([('name', np.unicode_, 16), ('grades', np.float64, (2,))])\n",
    " \n",
    "# x is a structured array with names and marks of students.\n",
    "# Data type of name of the student is np.unicode_ and \n",
    "# data type of marks is np.float(64)\n",
    "x = np.array([('Sarah', (8.0, 7.0)), ('John', (6.0, 7.0))], dtype=dt)\n",
    " \n",
    "print(x[1])\n",
    "print(\"Grades of John are: \",x[1]['grades'])\n",
    "print(\"Names are: \",x['name'])"
   ]
  },
  {
   "cell_type": "code",
   "execution_count": null,
   "id": "4aad2619-e91c-4d7c-affa-d9a2341a3685",
   "metadata": {},
   "outputs": [],
   "source": []
  },
  {
   "cell_type": "code",
   "execution_count": null,
   "id": "f2b7b5f4-739f-4f88-b505-5dd5d554888e",
   "metadata": {},
   "outputs": [],
   "source": []
  }
 ],
 "metadata": {
  "kernelspec": {
   "display_name": "Python 3 (ipykernel)",
   "language": "python",
   "name": "python3"
  },
  "language_info": {
   "codemirror_mode": {
    "name": "ipython",
    "version": 3
   },
   "file_extension": ".py",
   "mimetype": "text/x-python",
   "name": "python",
   "nbconvert_exporter": "python",
   "pygments_lexer": "ipython3",
   "version": "3.11.7"
  }
 },
 "nbformat": 4,
 "nbformat_minor": 5
}
