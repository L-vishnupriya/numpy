{
 "cells": [
  {
   "cell_type": "markdown",
   "id": "7e761d9e-4790-4fc3-9308-5a7598ed74ab",
   "metadata": {},
   "source": [
    "Working with date and time using Pandas :"
   ]
  },
  {
   "cell_type": "code",
   "execution_count": 1,
   "id": "61aed6a6-ca9c-4859-bf45-66022a0eb946",
   "metadata": {},
   "outputs": [
    {
     "name": "stdout",
     "output_type": "stream",
     "text": [
      "2000-09-17\n",
      "<class 'datetime.date'>\n"
     ]
    }
   ],
   "source": [
    "from datetime import date\n",
    "\n",
    "d= date(2000,9,17)\n",
    "\n",
    "print(d)\n",
    "\n",
    "print(type(d))\n"
   ]
  },
  {
   "cell_type": "markdown",
   "id": "993a0e19-cace-4a5e-8051-1a1256c9a9b2",
   "metadata": {},
   "source": [
    "Year, month, and day extraction :\n",
    "\n",
    "Retrieve the year, month, and day components from a Timestamp object."
   ]
  },
  {
   "cell_type": "code",
   "execution_count": 3,
   "id": "1d58e40c-93b0-40df-a50f-ee340a15eea8",
   "metadata": {},
   "outputs": [
    {
     "name": "stdout",
     "output_type": "stream",
     "text": [
      "2023\n",
      "10\n",
      "4\n"
     ]
    }
   ],
   "source": [
    "import pandas as pd\n",
    "\n",
    "# Creating a Timestamp object\n",
    "timestamp = pd.Timestamp('2023-10-04 15:30:00')\n",
    "\n",
    "# Extracting the year from the Timestamp\n",
    "year = timestamp.year\n",
    "\n",
    "# Printing the extracted year\n",
    "print(year)\n",
    "\n",
    "# Extracting the month from the Timestamp\n",
    "month = timestamp.month\n",
    "\n",
    "# Printing the extracted month\n",
    "print(month)\n",
    "\n",
    "# Extracting the day from the Timestamp\n",
    "day = timestamp.day\n",
    "\n",
    "# Printing the extracted day\n",
    "print(day)\n"
   ]
  },
  {
   "cell_type": "markdown",
   "id": "e32e4239-d0cb-47a5-a994-aaafb43201ff",
   "metadata": {},
   "source": [
    "Weekdays and quarters :\n",
    "\n",
    "Determine the weekday and quarter associated with a Timestamp."
   ]
  },
  {
   "cell_type": "code",
   "execution_count": 4,
   "id": "92509575-a06d-410c-9dc9-1dbcc812543e",
   "metadata": {},
   "outputs": [
    {
     "name": "stdout",
     "output_type": "stream",
     "text": [
      "0\n",
      "0\n",
      "2\n",
      "4\n"
     ]
    }
   ],
   "source": [
    "# Extracting the hour from the Timestamp\n",
    "hour = timestamp.hour\n",
    "\n",
    "# Printing the extracted hour\n",
    "print(hour)\n",
    "\n",
    "# Extracting the minute from the Timestamp\n",
    "minute = timestamp.minute\n",
    "\n",
    "# Printing the extracted minute\n",
    "print(minute)\n",
    "# Extracting the weekday from the Timestamp\n",
    "weekday = timestamp.weekday()\n",
    "\n",
    "# Printing the extracted weekday\n",
    "print(weekday)\n",
    "\n",
    "# Extracting the quarter from the Timestamp\n",
    "quarter = timestamp.quarter\n",
    "\n",
    "# Printing the extracted quarter\n",
    "print(quarter)\n"
   ]
  },
  {
   "cell_type": "markdown",
   "id": "f9eb62eb-4ce0-4ee0-a62e-3297723d6a37",
   "metadata": {},
   "source": [
    "Working with Time in Pandas :"
   ]
  },
  {
   "cell_type": "code",
   "execution_count": 5,
   "id": "66264f61-76bd-4a4e-91e8-94a8fbddd906",
   "metadata": {},
   "outputs": [
    {
     "name": "stdout",
     "output_type": "stream",
     "text": [
      "12:50:12.000040\n",
      "<class 'datetime.time'>\n"
     ]
    }
   ],
   "source": [
    "from datetime import time\n",
    "\n",
    "t = time(12,50,12,40)\n",
    "\n",
    "print(t)\n",
    "\n",
    "print(type(t))\n"
   ]
  },
  {
   "cell_type": "markdown",
   "id": "84ec3d9f-9e44-44bf-aa2a-98d493e91dce",
   "metadata": {},
   "source": [
    "Time periods and date offsets :"
   ]
  },
  {
   "cell_type": "code",
   "execution_count": 6,
   "id": "84cc26d0-da77-4b06-9d8c-d9244f19e0de",
   "metadata": {},
   "outputs": [
    {
     "name": "stdout",
     "output_type": "stream",
     "text": [
      "2023\n",
      "10\n",
      "4\n",
      "2026-01-14 00:00:00\n"
     ]
    }
   ],
   "source": [
    "# Creating a time period object\n",
    "time_period = pd.Period('2023-10-04', freq='M')\n",
    "\n",
    "# Extracting the year from the time period\n",
    "year = time_period.year\n",
    "\n",
    "# Printing the extracted year\n",
    "print(year)\n",
    "\n",
    "# Extracting the month from the time period\n",
    "month = time_period.month\n",
    "\n",
    "# Printing the extracted month\n",
    "print(month)\n",
    "\n",
    "# Extracting the quarter from the time period\n",
    "quarter = time_period.quarter\n",
    "\n",
    "# Printing the extracted quarter\n",
    "print(quarter)\n",
    "\n",
    "# Creating a date offset object\n",
    "date_offset = pd.DateOffset(years=2, months=3, days=10)\n",
    "\n",
    "# Adding the date offset to a Timestamp\n",
    "new_timestamp = timestamp + date_offset\n",
    "\n",
    "# Printing the new Timestamp\n",
    "print(new_timestamp)\n"
   ]
  },
  {
   "cell_type": "markdown",
   "id": "2e2e8a41-ad90-4784-b5d6-782634b0b9a4",
   "metadata": {},
   "source": [
    "Handling Time Zones :\n",
    "\n",
    "UTC and time zone conversion: \n",
    "\n",
    "Convert between UTC (Coordinated Universal Time) and local time zones.\n",
    "Time zone-aware data manipulation: \n",
    "\n",
    "Work with time zone-aware data, ensuring accurate date and time interpretations.\n",
    "Custom time zone settings: \n",
    "\n",
    "Specify custom time zone settings for data analysis and visualization."
   ]
  },
  {
   "cell_type": "code",
   "execution_count": 8,
   "id": "e435fe62-5d04-4d00-ae51-c6e134e21bf3",
   "metadata": {},
   "outputs": [
    {
     "data": {
      "text/plain": [
       "DatetimeIndex(['2011-01-01 00:00:00', '2011-01-01 01:00:00',\n",
       "               '2011-01-01 02:00:00', '2011-01-01 03:00:00',\n",
       "               '2011-01-01 04:00:00', '2011-01-01 05:00:00',\n",
       "               '2011-01-01 06:00:00', '2011-01-01 07:00:00',\n",
       "               '2011-01-01 08:00:00', '2011-01-01 09:00:00'],\n",
       "              dtype='datetime64[ns]', freq='H')"
      ]
     },
     "execution_count": 8,
     "metadata": {},
     "output_type": "execute_result"
    }
   ],
   "source": [
    "import pandas as pd\n",
    "\n",
    "# Create dates dataframe with frequency \n",
    "data = pd.date_range('1/1/2011', periods = 10, freq ='H')\n",
    "\n",
    "data\n"
   ]
  },
  {
   "cell_type": "code",
   "execution_count": 10,
   "id": "90cb6d6f-9f6e-4963-82b5-46b95082eab1",
   "metadata": {},
   "outputs": [
    {
     "data": {
      "text/html": [
       "<div>\n",
       "<style scoped>\n",
       "    .dataframe tbody tr th:only-of-type {\n",
       "        vertical-align: middle;\n",
       "    }\n",
       "\n",
       "    .dataframe tbody tr th {\n",
       "        vertical-align: top;\n",
       "    }\n",
       "\n",
       "    .dataframe thead th {\n",
       "        text-align: right;\n",
       "    }\n",
       "</style>\n",
       "<table border=\"1\" class=\"dataframe\">\n",
       "  <thead>\n",
       "    <tr style=\"text-align: right;\">\n",
       "      <th></th>\n",
       "      <th>date</th>\n",
       "      <th>year</th>\n",
       "      <th>month</th>\n",
       "      <th>day</th>\n",
       "      <th>hour</th>\n",
       "      <th>minute</th>\n",
       "    </tr>\n",
       "  </thead>\n",
       "  <tbody>\n",
       "    <tr>\n",
       "      <th>0</th>\n",
       "      <td>2011-01-01 00:00:00</td>\n",
       "      <td>2011</td>\n",
       "      <td>1</td>\n",
       "      <td>1</td>\n",
       "      <td>0</td>\n",
       "      <td>0</td>\n",
       "    </tr>\n",
       "    <tr>\n",
       "      <th>1</th>\n",
       "      <td>2011-01-01 01:00:00</td>\n",
       "      <td>2011</td>\n",
       "      <td>1</td>\n",
       "      <td>1</td>\n",
       "      <td>1</td>\n",
       "      <td>0</td>\n",
       "    </tr>\n",
       "    <tr>\n",
       "      <th>2</th>\n",
       "      <td>2011-01-01 02:00:00</td>\n",
       "      <td>2011</td>\n",
       "      <td>1</td>\n",
       "      <td>1</td>\n",
       "      <td>2</td>\n",
       "      <td>0</td>\n",
       "    </tr>\n",
       "  </tbody>\n",
       "</table>\n",
       "</div>"
      ],
      "text/plain": [
       "                 date  year  month  day  hour  minute\n",
       "0 2011-01-01 00:00:00  2011      1    1     0       0\n",
       "1 2011-01-01 01:00:00  2011      1    1     1       0\n",
       "2 2011-01-01 02:00:00  2011      1    1     2       0"
      ]
     },
     "execution_count": 10,
     "metadata": {},
     "output_type": "execute_result"
    }
   ],
   "source": [
    "# Create date and time with dataframe\n",
    "rng = pd.DataFrame()\n",
    "rng['date'] = pd.date_range('1/1/2011', periods = 72, freq ='H')\n",
    "\n",
    "# Print the dates in dd-mm-yy format\n",
    "rng[:5]\n",
    "\n",
    "# Create features for year, month, day, hour, and minute\n",
    "rng['year'] = rng['date'].dt.year\n",
    "rng['month'] = rng['date'].dt.month\n",
    "rng['day'] = rng['date'].dt.day\n",
    "rng['hour'] = rng['date'].dt.hour\n",
    "rng['minute'] = rng['date'].dt.minute\n",
    "\n",
    "# Print the dates divided into features\n",
    "rng.head(3)\n"
   ]
  },
  {
   "cell_type": "code",
   "execution_count": 12,
   "id": "7992f7de-e7cd-46d7-8314-a8abbd88f7a0",
   "metadata": {},
   "outputs": [
    {
     "data": {
      "text/plain": [
       "Timestamp('2024-05-07 17:50:34.606873')"
      ]
     },
     "execution_count": 12,
     "metadata": {},
     "output_type": "execute_result"
    }
   ],
   "source": [
    "import pandas as pd\n",
    "# Input present datetime using Timestamp\n",
    "t = pd.Timestamp.now()\n",
    "t\n"
   ]
  },
  {
   "cell_type": "code",
   "execution_count": 14,
   "id": "e3990c6c-91d6-4616-a24a-2fdd9346465d",
   "metadata": {},
   "outputs": [
    {
     "data": {
      "text/plain": [
       "datetime.datetime(2024, 5, 7, 17, 51, 59, 9468)"
      ]
     },
     "execution_count": 14,
     "metadata": {},
     "output_type": "execute_result"
    }
   ],
   "source": [
    "import pandas as pd\n",
    "\n",
    "# Input present datetime using Timestamp\n",
    "t = pd.Timestamp.now()\n",
    "\n",
    "# Convert timestamp to datetime\n",
    "dt = t.to_pydatetime()\n",
    "dt\n"
   ]
  },
  {
   "cell_type": "code",
   "execution_count": 18,
   "id": "4a93d2bc-acbc-44ec-ad26-8afc87e753e5",
   "metadata": {},
   "outputs": [
    {
     "name": "stdout",
     "output_type": "stream",
     "text": [
      "2024\n",
      "5\n",
      "7\n",
      "17\n",
      "51\n",
      "59\n"
     ]
    }
   ],
   "source": [
    "# Directly access and print the features\n",
    "a=t.year\n",
    "print(a)\n",
    "b=t.month\n",
    "print(b)\n",
    "c=t.day\n",
    "print(c)\n",
    "d=t.hour\n",
    "print(d)\n",
    "e=t.minute\n",
    "print(e)\n",
    "f=t.second\n",
    "print(f)"
   ]
  },
  {
   "cell_type": "code",
   "execution_count": 20,
   "id": "70c5fa24-01ab-4c25-a148-cf4460b1fcf2",
   "metadata": {},
   "outputs": [
    {
     "data": {
      "text/html": [
       "<div>\n",
       "<style scoped>\n",
       "    .dataframe tbody tr th:only-of-type {\n",
       "        vertical-align: middle;\n",
       "    }\n",
       "\n",
       "    .dataframe tbody tr th {\n",
       "        vertical-align: top;\n",
       "    }\n",
       "\n",
       "    .dataframe thead th {\n",
       "        text-align: right;\n",
       "    }\n",
       "</style>\n",
       "<table border=\"1\" class=\"dataframe\">\n",
       "  <thead>\n",
       "    <tr style=\"text-align: right;\">\n",
       "      <th></th>\n",
       "      <th>City</th>\n",
       "      <th>Colors Reported</th>\n",
       "      <th>Shape Reported</th>\n",
       "      <th>State</th>\n",
       "      <th>Time</th>\n",
       "    </tr>\n",
       "  </thead>\n",
       "  <tbody>\n",
       "    <tr>\n",
       "      <th>0</th>\n",
       "      <td>Ithaca</td>\n",
       "      <td>NaN</td>\n",
       "      <td>TRIANGLE</td>\n",
       "      <td>NY</td>\n",
       "      <td>6/1/1930 22:00</td>\n",
       "    </tr>\n",
       "    <tr>\n",
       "      <th>1</th>\n",
       "      <td>Willingboro</td>\n",
       "      <td>NaN</td>\n",
       "      <td>OTHER</td>\n",
       "      <td>NJ</td>\n",
       "      <td>6/30/1930 20:00</td>\n",
       "    </tr>\n",
       "    <tr>\n",
       "      <th>2</th>\n",
       "      <td>Holyoke</td>\n",
       "      <td>NaN</td>\n",
       "      <td>OVAL</td>\n",
       "      <td>CO</td>\n",
       "      <td>2/15/1931 14:00</td>\n",
       "    </tr>\n",
       "    <tr>\n",
       "      <th>3</th>\n",
       "      <td>Abilene</td>\n",
       "      <td>NaN</td>\n",
       "      <td>DISK</td>\n",
       "      <td>KS</td>\n",
       "      <td>6/1/1931 13:00</td>\n",
       "    </tr>\n",
       "    <tr>\n",
       "      <th>4</th>\n",
       "      <td>New York Worlds Fair</td>\n",
       "      <td>NaN</td>\n",
       "      <td>LIGHT</td>\n",
       "      <td>NY</td>\n",
       "      <td>4/18/1933 19:00</td>\n",
       "    </tr>\n",
       "  </tbody>\n",
       "</table>\n",
       "</div>"
      ],
      "text/plain": [
       "                   City Colors Reported Shape Reported State             Time\n",
       "0                Ithaca             NaN       TRIANGLE    NY   6/1/1930 22:00\n",
       "1           Willingboro             NaN          OTHER    NJ  6/30/1930 20:00\n",
       "2               Holyoke             NaN           OVAL    CO  2/15/1931 14:00\n",
       "3               Abilene             NaN           DISK    KS   6/1/1931 13:00\n",
       "4  New York Worlds Fair             NaN          LIGHT    NY  4/18/1933 19:00"
      ]
     },
     "execution_count": 20,
     "metadata": {},
     "output_type": "execute_result"
    }
   ],
   "source": [
    "import pandas as pd\n",
    "\n",
    "url = 'http://bit.ly/uforeports'\n",
    "\n",
    "# read csv file\n",
    "df = pd.read_csv(url)\t\t \n",
    "df.head()\n"
   ]
  },
  {
   "cell_type": "code",
   "execution_count": 21,
   "id": "17c9818c-68bf-4ddd-8f9f-e37c2cb97ea8",
   "metadata": {},
   "outputs": [
    {
     "data": {
      "text/html": [
       "<div>\n",
       "<style scoped>\n",
       "    .dataframe tbody tr th:only-of-type {\n",
       "        vertical-align: middle;\n",
       "    }\n",
       "\n",
       "    .dataframe tbody tr th {\n",
       "        vertical-align: top;\n",
       "    }\n",
       "\n",
       "    .dataframe thead th {\n",
       "        text-align: right;\n",
       "    }\n",
       "</style>\n",
       "<table border=\"1\" class=\"dataframe\">\n",
       "  <thead>\n",
       "    <tr style=\"text-align: right;\">\n",
       "      <th></th>\n",
       "      <th>City</th>\n",
       "      <th>Colors Reported</th>\n",
       "      <th>Shape Reported</th>\n",
       "      <th>State</th>\n",
       "      <th>Time</th>\n",
       "    </tr>\n",
       "  </thead>\n",
       "  <tbody>\n",
       "    <tr>\n",
       "      <th>0</th>\n",
       "      <td>Ithaca</td>\n",
       "      <td>NaN</td>\n",
       "      <td>TRIANGLE</td>\n",
       "      <td>NY</td>\n",
       "      <td>1930-06-01 22:00:00</td>\n",
       "    </tr>\n",
       "    <tr>\n",
       "      <th>1</th>\n",
       "      <td>Willingboro</td>\n",
       "      <td>NaN</td>\n",
       "      <td>OTHER</td>\n",
       "      <td>NJ</td>\n",
       "      <td>1930-06-30 20:00:00</td>\n",
       "    </tr>\n",
       "    <tr>\n",
       "      <th>2</th>\n",
       "      <td>Holyoke</td>\n",
       "      <td>NaN</td>\n",
       "      <td>OVAL</td>\n",
       "      <td>CO</td>\n",
       "      <td>1931-02-15 14:00:00</td>\n",
       "    </tr>\n",
       "    <tr>\n",
       "      <th>3</th>\n",
       "      <td>Abilene</td>\n",
       "      <td>NaN</td>\n",
       "      <td>DISK</td>\n",
       "      <td>KS</td>\n",
       "      <td>1931-06-01 13:00:00</td>\n",
       "    </tr>\n",
       "    <tr>\n",
       "      <th>4</th>\n",
       "      <td>New York Worlds Fair</td>\n",
       "      <td>NaN</td>\n",
       "      <td>LIGHT</td>\n",
       "      <td>NY</td>\n",
       "      <td>1933-04-18 19:00:00</td>\n",
       "    </tr>\n",
       "  </tbody>\n",
       "</table>\n",
       "</div>"
      ],
      "text/plain": [
       "                   City Colors Reported Shape Reported State  \\\n",
       "0                Ithaca             NaN       TRIANGLE    NY   \n",
       "1           Willingboro             NaN          OTHER    NJ   \n",
       "2               Holyoke             NaN           OVAL    CO   \n",
       "3               Abilene             NaN           DISK    KS   \n",
       "4  New York Worlds Fair             NaN          LIGHT    NY   \n",
       "\n",
       "                 Time  \n",
       "0 1930-06-01 22:00:00  \n",
       "1 1930-06-30 20:00:00  \n",
       "2 1931-02-15 14:00:00  \n",
       "3 1931-06-01 13:00:00  \n",
       "4 1933-04-18 19:00:00  "
      ]
     },
     "execution_count": 21,
     "metadata": {},
     "output_type": "execute_result"
    }
   ],
   "source": [
    "# Convert the Time column to datetime format\n",
    "df['Time'] = pd.to_datetime(df.Time)\n",
    "\n",
    "df.head()\n"
   ]
  },
  {
   "cell_type": "code",
   "execution_count": 22,
   "id": "76dd85d4-1797-4860-92f8-a9cb31fd8815",
   "metadata": {},
   "outputs": [
    {
     "data": {
      "text/plain": [
       "City                       object\n",
       "Colors Reported            object\n",
       "Shape Reported             object\n",
       "State                      object\n",
       "Time               datetime64[ns]\n",
       "dtype: object"
      ]
     },
     "execution_count": 22,
     "metadata": {},
     "output_type": "execute_result"
    }
   ],
   "source": [
    "# shows the type of each column data\n",
    "df.dtypes\n"
   ]
  },
  {
   "cell_type": "code",
   "execution_count": 23,
   "id": "89b9b4c2-d2a6-4641-a61f-cbf834fc1c01",
   "metadata": {},
   "outputs": [
    {
     "data": {
      "text/plain": [
       "0    22\n",
       "1    20\n",
       "2    14\n",
       "3    13\n",
       "4    19\n",
       "Name: Time, dtype: int32"
      ]
     },
     "execution_count": 23,
     "metadata": {},
     "output_type": "execute_result"
    }
   ],
   "source": [
    "# Get hour detail from time data\n",
    "df.Time.dt.hour.head()\n"
   ]
  },
  {
   "cell_type": "code",
   "execution_count": 25,
   "id": "29a1f655-46bb-45e5-b82b-c39e73d27ed4",
   "metadata": {},
   "outputs": [
    {
     "data": {
      "text/plain": [
       "0    152\n",
       "1    181\n",
       "2     46\n",
       "3    152\n",
       "4    108\n",
       "Name: Time, dtype: int32"
      ]
     },
     "execution_count": 25,
     "metadata": {},
     "output_type": "execute_result"
    }
   ],
   "source": [
    "# Get ordinal day of the year\n",
    "df.Time.dt.dayofyear.head()\n"
   ]
  },
  {
   "cell_type": "code",
   "execution_count": 27,
   "id": "a3313adb-0490-47d3-924c-96b8f99e7ee1",
   "metadata": {},
   "outputs": [
    {
     "data": {
      "image/png": "[encoded data removed]",
      "text/plain": [
       "<Figure size 1000x600 with 1 Axes>"
      ]
     },
     "metadata": {},
     "output_type": "display_data"
    }
   ],
   "source": [
    "import pandas as pd\n",
    "import matplotlib.pyplot as plt\n",
    "\n",
    "# Create a DataFrame with a datetime column\n",
    "df = pd.DataFrame({'Time': pd.date_range('2024-05-01', periods=100, freq='H')})\n",
    "\n",
    "# Convert the 'Time' column to datetime format\n",
    "df['Time'] = pd.to_datetime(df.Time)\n",
    "\n",
    "# Extract the hour of the day from the 'Time' column\n",
    "df['Hour'] = df['Time'].dt.hour\n",
    "\n",
    "# Create a histogram to visualize UFO sightings by hour\n",
    "plt.figure(figsize=(10, 6))\n",
    "plt.hist(df['Hour'], bins=24, range=(0, 24), edgecolor='black', alpha=0.7)\n",
    "plt.xlabel('Hour of the Day')\n",
    "plt.ylabel('Number of UFO Sightings')\n",
    "plt.title('UFO Sightings by Hour of the Day')\n",
    "plt.xticks(range(0, 25))\n",
    "plt.grid(True)\n",
    "plt.show()\n"
   ]
  },
  {
   "cell_type": "markdown",
   "id": "46f9b521-d41e-46ae-8537-f3d5957f1479",
   "metadata": {},
   "source": [
    "Pandas Timestamp.timestamp :"
   ]
  },
  {
   "cell_type": "code",
   "execution_count": 28,
   "id": "c469dce5-86eb-4731-94fd-eee8064d50d9",
   "metadata": {},
   "outputs": [
    {
     "name": "stdout",
     "output_type": "stream",
     "text": [
      "Unix Time: 1665577845.0\n"
     ]
    }
   ],
   "source": [
    "import pandas as pd\n",
    "\n",
    "# Create a Timestamp object\n",
    "timestamp = pd.Timestamp(\"2022-10-12 12:30:45\")\n",
    "\n",
    "# Convert to Unix time\n",
    "unix_time = timestamp.timestamp()\n",
    "\n",
    "print(\"Unix Time:\", unix_time)\n"
   ]
  },
  {
   "cell_type": "code",
   "execution_count": 29,
   "id": "c2346fdf-ec5b-4e5f-9990-70b233b43e3f",
   "metadata": {},
   "outputs": [
    {
     "name": "stdout",
     "output_type": "stream",
     "text": [
      "2011-11-21 10:00:49-06:00\n"
     ]
    },
    {
     "data": {
      "text/plain": [
       "1321891249.0"
      ]
     },
     "execution_count": 29,
     "metadata": {},
     "output_type": "execute_result"
    }
   ],
   "source": [
    "# importing pandas as pd\n",
    "import pandas as pd\n",
    "\n",
    "# Create the Timestamp object\n",
    "ts = pd.Timestamp(year = 2011, month = 11, day = 21, \n",
    "\t\t\t\thour = 10, second = 49, tz = 'US/Central') \n",
    "\n",
    "# Print the Timestamp object\n",
    "print(ts)\n",
    "# return the number of seconds\n",
    "ts.timestamp()\n"
   ]
  },
  {
   "cell_type": "code",
   "execution_count": 30,
   "id": "10cfd1ba-3df2-4579-b726-e186de0d0248",
   "metadata": {},
   "outputs": [
    {
     "name": "stdout",
     "output_type": "stream",
     "text": [
      "1673746200.0\n"
     ]
    }
   ],
   "source": [
    "# importing pandas as pd\n",
    "import pandas as pd\n",
    "\n",
    "timestamp_with_tz = pd.Timestamp(\"2023-01-15 10:30:00\", tz=\"Asia/Tokyo\")\n",
    "unix_time = timestamp_with_tz.timestamp()\n",
    "\n",
    "print(unix_time)\n"
   ]
  },
  {
   "cell_type": "code",
   "execution_count": 31,
   "id": "1e567178-d53b-468e-9893-b2a2685e6979",
   "metadata": {},
   "outputs": [
    {
     "name": "stdout",
     "output_type": "stream",
     "text": [
      "2009-05-31 04:00:49+02:00\n"
     ]
    }
   ],
   "source": [
    "# importing pandas as pd\n",
    "import pandas as pd\n",
    "\n",
    "# Create the Timestamp object\n",
    "ts = pd.Timestamp(year = 2009, month = 5, day = 31, \n",
    "\t\t\t\thour = 4, second = 49, tz = 'Europe/Berlin')\n",
    "\n",
    "# Print the Timestamp object\n",
    "print(ts)\n"
   ]
  },
  {
   "cell_type": "markdown",
   "id": "9d101cd4-523c-48ff-a024-506b5bfb2621",
   "metadata": {},
   "source": [
    "Pandas Timestamp.now :"
   ]
  },
  {
   "cell_type": "code",
   "execution_count": 32,
   "id": "a92bbe89-6164-4390-993c-727947165197",
   "metadata": {},
   "outputs": [
    {
     "name": "stdout",
     "output_type": "stream",
     "text": [
      "Current Timestamp: 2024-05-07 18:58:18.894153\n"
     ]
    }
   ],
   "source": [
    "import pandas as pd\n",
    "\n",
    "# Capture the current timestamp\n",
    "current_time = pd.Timestamp.now()\n",
    "\n",
    "print(\"Current Timestamp:\", current_time)\n"
   ]
  },
  {
   "cell_type": "code",
   "execution_count": 33,
   "id": "7f96e09c-642c-45f0-9de3-fef72489a429",
   "metadata": {},
   "outputs": [
    {
     "name": "stdout",
     "output_type": "stream",
     "text": [
      "2011-11-21 10:00:49-06:00\n"
     ]
    },
    {
     "data": {
      "text/plain": [
       "Timestamp('2024-05-07 18:59:50.360383')"
      ]
     },
     "execution_count": 33,
     "metadata": {},
     "output_type": "execute_result"
    }
   ],
   "source": [
    "# importing pandas as pd\n",
    "import pandas as pd\n",
    "\n",
    "# Create the Timestamp object\n",
    "ts = pd.Timestamp(year = 2011, month = 11, day = 21,\n",
    "\t\thour = 10, second = 49, tz = 'US/Central')\n",
    "\n",
    "# Print the Timestamp object\n",
    "print(ts)\n",
    "# return the current time\n",
    "ts.now()\n"
   ]
  },
  {
   "cell_type": "code",
   "execution_count": 34,
   "id": "8de379f5-36e4-40aa-9252-8b3f44a32944",
   "metadata": {},
   "outputs": [
    {
     "name": "stdout",
     "output_type": "stream",
     "text": [
      "                   timestamp  temperature\n",
      "0 2024-05-03 21:33:34.237463         21.2\n",
      "1 2024-05-04 21:33:34.237463         23.2\n",
      "2 2024-05-05 21:33:34.237463         27.2\n",
      "3 2024-05-06 21:33:34.237463         29.2\n",
      "4 2024-05-07 21:33:34.237463         31.2\n"
     ]
    }
   ],
   "source": [
    "import pandas as pd\n",
    "\n",
    "# Generate timestamps for the last 5 days\n",
    "timestamps = pd.date_range(end=pd.Timestamp.now(), periods=5, freq=\"D\")\n",
    "\n",
    "# Create a DataFrame with timestamped data\n",
    "data = {\n",
    "\t\"timestamp\": timestamps,\n",
    "\t\"temperature\": [21.2, 23.2, 27.2, 29.2, 31.2]\n",
    "}\n",
    "df = pd.DataFrame(data)\n",
    "\n",
    "print(df)\n"
   ]
  },
  {
   "cell_type": "code",
   "execution_count": 35,
   "id": "cdfb88e8-d8c3-4869-b450-5103c1e7a8b6",
   "metadata": {},
   "outputs": [
    {
     "name": "stdout",
     "output_type": "stream",
     "text": [
      "                            temperature  humidity\n",
      "2024-05-01 21:33:50.818847         23.3        43\n",
      "2024-05-02 21:33:50.818847         34.5        58\n",
      "2024-05-03 21:33:50.818847         22.1        54\n",
      "2024-05-04 21:33:50.818847         22.0        34\n",
      "2024-05-05 21:33:50.818847         31.3        47\n",
      "2024-05-06 21:33:50.818847         33.4        56\n",
      "2024-05-07 21:33:50.818847         43.2        40\n"
     ]
    }
   ],
   "source": [
    "import pandas as pd\n",
    "\n",
    "# Generate timestamps for the last 7 days\n",
    "timestamps = pd.date_range(end=pd.Timestamp.now(), periods=7, freq=\"D\")\n",
    "\n",
    "# Create a DataFrame with timestamped indices\n",
    "data = {\n",
    "\t\"temperature\": [23.3, 34.5, 22.1, 22, 31.3, 33.4, 43.2],\n",
    "\t\"humidity\": [43, 58, 54, 34, 47, 56, 40]\n",
    "}\n",
    "df = pd.DataFrame(data, index=timestamps)\n",
    "\n",
    "print(df)\n"
   ]
  },
  {
   "cell_type": "markdown",
   "id": "19df2849-b069-4996-824c-df1ef3497542",
   "metadata": {},
   "source": [
    "Pandas Timestamp.isoformat :"
   ]
  },
  {
   "cell_type": "code",
   "execution_count": 36,
   "id": "8efe2864-f55d-40b9-ae6d-871b08112253",
   "metadata": {},
   "outputs": [
    {
     "name": "stdout",
     "output_type": "stream",
     "text": [
      "Timestamp Object: 2015-06-26 07:35:00+05:30\n",
      "ISO 8601 Format: 2015-06-26T07:35:00+05:30\n"
     ]
    }
   ],
   "source": [
    "import pandas as pd\n",
    "\n",
    "# Create a Timestamp object in ISO format\n",
    "time_stamp_obj = pd.Timestamp('2015-06-26 07:35:00', tz='Asia/Kolkata')\n",
    "\n",
    "# Print the Timestamp object\n",
    "print(\"Timestamp Object:\", time_stamp_obj)\n",
    "\n",
    "# Convert the Timestamp object to ISO format\n",
    "iso_8601 = time_stamp_obj.isoformat()\n",
    "print(\"ISO 8601 Format:\", iso_8601)\n"
   ]
  },
  {
   "cell_type": "code",
   "execution_count": 37,
   "id": "2c910f98-f5c4-4e85-9d04-504f48f31f50",
   "metadata": {},
   "outputs": [
    {
     "name": "stdout",
     "output_type": "stream",
     "text": [
      "2011-11-21 10:00:49-06:00\n"
     ]
    }
   ],
   "source": [
    "# importing pandas as pd\n",
    "import pandas as pd\n",
    "\n",
    "# Create the Timestamp object\n",
    "ts = pd.Timestamp(year = 2011, month = 11, day = 21,\n",
    "\t\t\t\thour = 10, second = 49, tz = 'US/Central')\n",
    "\n",
    "# Print the Timestamp object\n",
    "print(ts)\n"
   ]
  },
  {
   "cell_type": "code",
   "execution_count": 38,
   "id": "e8e092d4-5ab8-4e96-ad61-b9d1c6b82f34",
   "metadata": {},
   "outputs": [
    {
     "data": {
      "text/plain": [
       "'2011-11-21T10:00:49-06:00'"
      ]
     },
     "execution_count": 38,
     "metadata": {},
     "output_type": "execute_result"
    }
   ],
   "source": [
    "# convert to ISO format\n",
    "ts.isoformat()\n"
   ]
  },
  {
   "cell_type": "code",
   "execution_count": 39,
   "id": "a64e75a4-9f22-4474-8d30-f16eeb20e317",
   "metadata": {},
   "outputs": [
    {
     "name": "stdout",
     "output_type": "stream",
     "text": [
      "2009-05-31 04:00:49+02:00\n"
     ]
    }
   ],
   "source": [
    "# importing pandas as pd\n",
    "import pandas as pd\n",
    "\n",
    "# Create the Timestamp object\n",
    "ts = pd.Timestamp(year = 2009, month = 5, day = 31,\n",
    "\t\t\t\thour = 4, second = 49, tz = 'Europe/Berlin')\n",
    "\n",
    "# Print the Timestamp object\n",
    "print(ts)\n"
   ]
  },
  {
   "cell_type": "code",
   "execution_count": 40,
   "id": "66c03602-4c5a-41fd-ac86-f39f24609196",
   "metadata": {},
   "outputs": [
    {
     "data": {
      "text/plain": [
       "'2009-05-31T04:00:49+02:00'"
      ]
     },
     "execution_count": 40,
     "metadata": {},
     "output_type": "execute_result"
    }
   ],
   "source": [
    "# convert to ISO format\n",
    "ts.isoformat()\n"
   ]
  },
  {
   "cell_type": "markdown",
   "id": "28e4b525-1f93-4482-9ab9-2ef7c71718fb",
   "metadata": {},
   "source": [
    "Pandas Timestamp.date :"
   ]
  },
  {
   "cell_type": "code",
   "execution_count": 41,
   "id": "d3a1d9b0-0b87-4e97-832e-e2767fa4cb1b",
   "metadata": {},
   "outputs": [
    {
     "name": "stdout",
     "output_type": "stream",
     "text": [
      "2011-11-21 10:00:49-06:00\n"
     ]
    }
   ],
   "source": [
    "# importing pandas as pd \n",
    "import pandas as pd \n",
    "\n",
    "# Create the Timestamp object \n",
    "ts = pd.Timestamp(year = 2011, month = 11, day = 21, \n",
    "\t\thour = 10, second = 49, tz = 'US/Central') \n",
    "\n",
    "# Print the Timestamp object \n",
    "print(ts) \n"
   ]
  },
  {
   "cell_type": "code",
   "execution_count": 42,
   "id": "ed381171-0e50-4f58-a577-ae08fac9df99",
   "metadata": {},
   "outputs": [
    {
     "data": {
      "text/plain": [
       "datetime.date(2011, 11, 21)"
      ]
     },
     "execution_count": 42,
     "metadata": {},
     "output_type": "execute_result"
    }
   ],
   "source": [
    "# return as a datetime object \n",
    "ts.date() \n"
   ]
  },
  {
   "cell_type": "code",
   "execution_count": 43,
   "id": "f0252fb6-affe-4401-816c-3e54a9415578",
   "metadata": {},
   "outputs": [
    {
     "name": "stdout",
     "output_type": "stream",
     "text": [
      "2009-05-31 04:00:49+02:00\n"
     ]
    }
   ],
   "source": [
    "# importing pandas as pd \n",
    "import pandas as pd \n",
    "\n",
    "# Create the Timestamp object \n",
    "ts = pd.Timestamp(year = 2009, month = 5, day = 31, \n",
    "\t\thour = 4, second = 49, tz = 'Europe/Berlin') \n",
    "\n",
    "# Print the Timestamp object \n",
    "print(ts) \n"
   ]
  },
  {
   "cell_type": "markdown",
   "id": "edb7b013-7ee7-498b-8db4-078e4dee3419",
   "metadata": {},
   "source": [
    "Pandas Timestamp.replace :"
   ]
  },
  {
   "cell_type": "code",
   "execution_count": 44,
   "id": "c268a094-e9c6-4a13-aa18-a88363d6e5d4",
   "metadata": {},
   "outputs": [
    {
     "name": "stdout",
     "output_type": "stream",
     "text": [
      "2000-10-15 13:00:00\n"
     ]
    }
   ],
   "source": [
    "import pandas as pd\n",
    "t = pd.Timestamp('2000-10-15 00:00:00')\n",
    "t = t.replace(hour=13, minute=0, second=0)\n",
    "print(t)\n"
   ]
  },
  {
   "cell_type": "code",
   "execution_count": 45,
   "id": "8cf5a0b1-972d-4182-9c20-1b6dbf322ca1",
   "metadata": {},
   "outputs": [
    {
     "name": "stdout",
     "output_type": "stream",
     "text": [
      "Org_Timestamp: 2022-06-15 12:30:45\n",
      "Mod_Timestamp: 2023-10-15 12:30:45\n"
     ]
    }
   ],
   "source": [
    "import pandas as pd\n",
    "\n",
    "# Create a Timestamp object\n",
    "timestamp = pd.Timestamp(\"2022-06-15 12:30:45\")\n",
    "\n",
    "# Replace the year\n",
    "modified_timestamp = timestamp.replace(year=2023, month=10)\n",
    "\n",
    "print(\"Org_Timestamp:\", timestamp)\n",
    "print(\"Mod_Timestamp:\", modified_timestamp)\n"
   ]
  },
  {
   "cell_type": "code",
   "execution_count": 46,
   "id": "47fb1fa2-c8a0-4c98-a12a-7d15b1832892",
   "metadata": {},
   "outputs": [
    {
     "name": "stdout",
     "output_type": "stream",
     "text": [
      "2011-11-21 10:00:49-06:00\n"
     ]
    }
   ],
   "source": [
    "# importing pandas as pd\n",
    "import pandas as pd\n",
    "\n",
    "# Create the Timestamp object\n",
    "ts = pd.Timestamp(year = 2011, month = 11, day = 21,\n",
    "\t\t\t\thour = 10, second = 49, tz = 'US/Central')\n",
    "\n",
    "# Print the Timestamp object\n",
    "print(ts)\n"
   ]
  },
  {
   "cell_type": "code",
   "execution_count": 47,
   "id": "765f424c-e483-42b5-a1d2-1f3ef3a72be0",
   "metadata": {},
   "outputs": [
    {
     "data": {
      "text/plain": [
       "Timestamp('2019-11-21 10:00:49-0600', tz='US/Central')"
      ]
     },
     "execution_count": 47,
     "metadata": {},
     "output_type": "execute_result"
    }
   ],
   "source": [
    "# replace year\n",
    "ts.replace(year = 2019)\n"
   ]
  },
  {
   "cell_type": "code",
   "execution_count": 48,
   "id": "f7679ab9-28e9-4578-a4ee-ca3a9c78cdce",
   "metadata": {},
   "outputs": [
    {
     "data": {
      "text/plain": [
       "Timestamp('2019-12-21 01:00:49-0600', tz='US/Central')"
      ]
     },
     "execution_count": 48,
     "metadata": {},
     "output_type": "execute_result"
    }
   ],
   "source": [
    "# replace year, month and hour value\n",
    "ts.replace(year = 2019, month = 12, hour = 1)\n"
   ]
  },
  {
   "cell_type": "markdown",
   "id": "d42df4cc-6828-4f78-ab79-cc9e51811c06",
   "metadata": {},
   "source": [
    "Pandas.to_datetime() :"
   ]
  },
  {
   "cell_type": "code",
   "execution_count": 49,
   "id": "d84ee1ca-f4e6-43c0-b320-cbb6ed29d982",
   "metadata": {},
   "outputs": [
    {
     "name": "stdout",
     "output_type": "stream",
     "text": [
      "2023-09-17 14:30:00\n"
     ]
    }
   ],
   "source": [
    "import pandas as pd\n",
    "\n",
    "# date string\n",
    "d_string = \"2023-09-17 14:30:00\"\n",
    "\n",
    "# Convert the string to datetime\n",
    "dt_obj = pd.to_datetime(d_string)\n",
    "\n",
    "print(dt_obj)\n"
   ]
  },
  {
   "cell_type": "code",
   "execution_count": 50,
   "id": "abcf39ba-c671-4a43-9396-764361ded6f4",
   "metadata": {},
   "outputs": [
    {
     "name": "stdout",
     "output_type": "stream",
     "text": [
      "2024-07-23 02:08:20\n"
     ]
    }
   ],
   "source": [
    "import pandas as pd\n",
    "\n",
    "# Sample numerical value representing seconds since the Unix epoch\n",
    "unix_timestamp = 1721700500\n",
    "\n",
    "# Convert to datetime using 's' (seconds) as the unit\n",
    "dt_obj = pd.to_datetime(unix_timestamp, unit='s')\n",
    "\n",
    "print(dt_obj)\n"
   ]
  },
  {
   "cell_type": "markdown",
   "id": "28159cb1-c0be-4a9b-b3c1-dd260636b2a4",
   "metadata": {},
   "source": [
    "pandas.date_range() method :"
   ]
  },
  {
   "cell_type": "code",
   "execution_count": 51,
   "id": "4b66563a-ac14-4ca2-b7eb-48a4a3cafd80",
   "metadata": {},
   "outputs": [
    {
     "name": "stdout",
     "output_type": "stream",
     "text": [
      "2018-01-01 00:00:00\n",
      "2018-01-01 05:00:00\n",
      "2018-01-01 10:00:00\n",
      "2018-01-01 15:00:00\n",
      "2018-01-01 20:00:00\n",
      "2018-01-02 01:00:00\n",
      "2018-01-02 06:00:00\n",
      "2018-01-02 11:00:00\n",
      "2018-01-02 16:00:00\n",
      "2018-01-02 21:00:00\n",
      "2018-01-03 02:00:00\n",
      "2018-01-03 07:00:00\n",
      "2018-01-03 12:00:00\n",
      "2018-01-03 17:00:00\n",
      "2018-01-03 22:00:00\n",
      "2018-01-04 03:00:00\n",
      "2018-01-04 08:00:00\n",
      "2018-01-04 13:00:00\n",
      "2018-01-04 18:00:00\n",
      "2018-01-04 23:00:00\n"
     ]
    }
   ],
   "source": [
    "# importing pandas as pd\n",
    "import pandas as pd\n",
    "\n",
    "per1 = pd.date_range(start ='1-1-2018', \n",
    "\t\tend ='1-05-2018', freq ='5H')\n",
    "\n",
    "for val in per1:\n",
    "\tprint(val)\n"
   ]
  },
  {
   "cell_type": "code",
   "execution_count": 52,
   "id": "cef6fc65-f22e-4fd1-be2d-d6251e3a7f8a",
   "metadata": {},
   "outputs": [
    {
     "name": "stdout",
     "output_type": "stream",
     "text": [
      "DatetimeIndex(['2018-01-31', '2018-02-28', '2018-03-31', '2018-04-30',\n",
      "               '2018-05-31', '2018-06-30', '2018-07-31'],\n",
      "              dtype='datetime64[ns]', freq='M') \n",
      "\n",
      " DatetimeIndex(['2018-01-31', '2018-04-30', '2018-07-31', '2018-10-31'], dtype='datetime64[ns]', freq='3M')\n"
     ]
    }
   ],
   "source": [
    "# importing pandas as pd\n",
    "import pandas as pd\n",
    "\n",
    "dRan1 = pd.date_range(start ='1-1-2018',\n",
    "\t\tend ='8-01-2018', freq ='M')\n",
    "\n",
    "dRan2 = pd.date_range(start ='1-1-2018', \n",
    "\t\tend ='11-01-2018', freq ='3M')\n",
    "\n",
    "print(dRan1, '\\n\\n', dRan2)\n"
   ]
  },
  {
   "cell_type": "code",
   "execution_count": 53,
   "id": "92b24cd5-5d77-44af-98da-7f508dbedba0",
   "metadata": {},
   "outputs": [
    {
     "name": "stdout",
     "output_type": "stream",
     "text": [
      "DatetimeIndex(['2018-01-01', '2018-01-02', '2018-01-03', '2018-01-04',\n",
      "               '2018-01-05', '2018-01-06', '2018-01-07', '2018-01-08',\n",
      "               '2018-01-09', '2018-01-10', '2018-01-11', '2018-01-12',\n",
      "               '2018-01-13'],\n",
      "              dtype='datetime64[ns]', freq='D') \n",
      "\n",
      " DatetimeIndex(['2017-12-20', '2017-12-21', '2017-12-22', '2017-12-23',\n",
      "               '2017-12-24', '2017-12-25', '2017-12-26', '2017-12-27',\n",
      "               '2017-12-28', '2017-12-29', '2017-12-30', '2017-12-31',\n",
      "               '2018-01-01'],\n",
      "              dtype='datetime64[ns]', freq='D') \n",
      "\n",
      " DatetimeIndex(['2017-01-03 00:00:00', '2017-02-02 06:00:00',\n",
      "               '2017-03-04 12:00:00', '2017-04-03 18:00:00',\n",
      "               '2017-05-04 00:00:00', '2017-06-03 06:00:00',\n",
      "               '2017-07-03 12:00:00', '2017-08-02 18:00:00',\n",
      "               '2017-09-02 00:00:00', '2017-10-02 06:00:00',\n",
      "               '2017-11-01 12:00:00', '2017-12-01 18:00:00',\n",
      "               '2018-01-01 00:00:00'],\n",
      "              dtype='datetime64[ns]', freq=None)\n"
     ]
    }
   ],
   "source": [
    "# importing pandas as pd \n",
    "import pandas as pd \n",
    "\n",
    "# Specify start and periods, the number of periods (days). \n",
    "dRan1 = pd.date_range(start ='1-1-2018', periods = 13) \n",
    "\n",
    "# Specify end and periods, the number of periods (days). \n",
    "dRan2 = pd.date_range(end ='1-1-2018', periods = 13) \n",
    "\n",
    "# Specify start, end, and periods; the frequency \n",
    "# is generated automatically (linearly spaced). \n",
    "dRan3 = pd.date_range(start ='01-03-2017', \n",
    "\t\t\tend ='1-1-2018', periods = 13) \n",
    "\n",
    "print(dRan1, \"\\n\\n\", dRan2, '\\n\\n', dRan3)\n"
   ]
  },
  {
   "cell_type": "code",
   "execution_count": 54,
   "id": "1beea9a0-8d3d-478c-80ec-53e1093ac6dc",
   "metadata": {},
   "outputs": [
    {
     "data": {
      "text/plain": [
       "DatetimeIndex(['2018-01-01 00:00:00+09:00', '2018-01-02 00:00:00+09:00',\n",
       "               '2018-01-03 00:00:00+09:00', '2018-01-04 00:00:00+09:00',\n",
       "               '2018-01-05 00:00:00+09:00', '2018-01-06 00:00:00+09:00',\n",
       "               '2018-01-07 00:00:00+09:00', '2018-01-08 00:00:00+09:00',\n",
       "               '2018-01-09 00:00:00+09:00', '2018-01-10 00:00:00+09:00',\n",
       "               '2018-01-11 00:00:00+09:00', '2018-01-12 00:00:00+09:00',\n",
       "               '2018-01-13 00:00:00+09:00'],\n",
       "              dtype='datetime64[ns, Asia/Tokyo]', freq='D')"
      ]
     },
     "execution_count": 54,
     "metadata": {},
     "output_type": "execute_result"
    }
   ],
   "source": [
    "# importing pandas as pd\n",
    "import pandas as pd\n",
    "\n",
    "# Specify start and periods, the number of periods (days).\n",
    "dRan1 = pd.date_range(start='1-1-2018', periods=13, tz='Asia/Tokyo')\n",
    "\n",
    "dRan1\n"
   ]
  },
  {
   "cell_type": "code",
   "execution_count": null,
   "id": "e54ef2c2-915b-4775-8a3c-1a8c15572915",
   "metadata": {},
   "outputs": [],
   "source": []
  }
 ],
 "metadata": {
  "kernelspec": {
   "display_name": "Python 3 (ipykernel)",
   "language": "python",
   "name": "python3"
  },
  "language_info": {
   "codemirror_mode": {
    "name": "ipython",
    "version": 3
   },
   "file_extension": ".py",
   "mimetype": "text/x-python",
   "name": "python",
   "nbconvert_exporter": "python",
   "pygments_lexer": "ipython3",
   "version": "3.11.7"
  }
 },
 "nbformat": 4,
 "nbformat_minor": 5
}
