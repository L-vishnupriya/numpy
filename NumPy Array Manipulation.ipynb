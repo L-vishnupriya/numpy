{
 "cells": [
  {
   "cell_type": "markdown",
   "id": "151e4973-2d0f-449f-b70a-b1f5a40abcf7",
   "metadata": {},
   "source": [
    "NumPy Copy and View of Array :"
   ]
  },
  {
   "cell_type": "markdown",
   "id": "765c1453-860a-44f5-ab6d-3d05599ca567",
   "metadata": {},
   "source": [
    "View of Array in NumPy :\n",
    "\n",
    "The view is just a view of the original ndarray and the view does not own the data. \n",
    "\n",
    "You can create an array view using the view() function of the NumPy library.\n",
    "\n",
    "This is also known as Shallow Copy. "
   ]
  },
  {
   "cell_type": "code",
   "execution_count": 1,
   "id": "90968c90-9778-4fba-9c88-d1ac0c6360bc",
   "metadata": {},
   "outputs": [
    {
     "name": "stdout",
     "output_type": "stream",
     "text": [
      "id of arr 2427759931728\n",
      "id of v 2427759932208\n",
      "original array-  [12  4  6  8 10]\n",
      "view-  [12  4  6  8 10]\n"
     ]
    }
   ],
   "source": [
    "import numpy as np  \n",
    "# creating array  \n",
    "arr = np.array([2, 4, 6, 8, 10])  \n",
    "# creating view  \n",
    "v = arr.view()  \n",
    "# both arr and v have different id  \n",
    "print(\"id of arr\", id(arr))  \n",
    "print(\"id of v\", id(v))  \n",
    "# changing original array  \n",
    "# will effect view  \n",
    "arr[0] = 12\n",
    "# printing array and view  \n",
    "print(\"original array- \", arr)  \n",
    "print(\"view- \", v)"
   ]
  },
  {
   "cell_type": "markdown",
   "id": "053480a6-b07c-4c33-9b90-755b24a9e011",
   "metadata": {},
   "source": [
    "Copy of Array in NumPy :\n",
    "\n",
    "The copy is completely a new array and the copy owns the data. \n",
    "\n",
    "You can create a copy of an array using the copy() function of the NumPy library.\n",
    "\n",
    "This is also known as Deep Copy."
   ]
  },
  {
   "cell_type": "code",
   "execution_count": 2,
   "id": "c83c7e42-a233-4f96-ae6d-423a7c422d5a",
   "metadata": {},
   "outputs": [
    {
     "name": "stdout",
     "output_type": "stream",
     "text": [
      "id of arr 2427759932112\n",
      "id of c 2427760235920\n",
      "original array-  [12  4  6  8 10]\n",
      "copy-  [ 2  4  6  8 10]\n"
     ]
    }
   ],
   "source": [
    "import numpy as np \n",
    "  \n",
    "# creating array \n",
    "arr = np.array([2, 4, 6, 8, 10]) \n",
    "  \n",
    "# creating copy of array \n",
    "c = arr.copy() \n",
    "  \n",
    "# both arr and c have different id \n",
    "print(\"id of arr\", id(arr)) \n",
    "print(\"id of c\", id(c)) \n",
    "  \n",
    "# changing original array \n",
    "# this will not effect copy \n",
    "arr[0] = 12\n",
    "  \n",
    "# printing array and copy \n",
    "print(\"original array- \", arr) \n",
    "print(\"copy- \", c) "
   ]
  },
  {
   "cell_type": "markdown",
   "id": "933a1f4a-c46d-4122-b92c-8fd7ce05e8a0",
   "metadata": {},
   "source": [
    "Assigning Array to Variable :"
   ]
  },
  {
   "cell_type": "code",
   "execution_count": 3,
   "id": "7b4ca851-b398-4479-ba1c-19f69bd6e67f",
   "metadata": {},
   "outputs": [
    {
     "name": "stdout",
     "output_type": "stream",
     "text": [
      "id of arr 2427760235728\n",
      "id of nc 2427760235728\n",
      "original array-  [12  4  6  8 10]\n",
      "assigned array-  [12  4  6  8 10]\n"
     ]
    }
   ],
   "source": [
    "import numpy as np \n",
    "  \n",
    "# creating array \n",
    "arr = np.array([2, 4, 6, 8, 10]) \n",
    "  \n",
    "# assigning arr to nc \n",
    "nc = arr \n",
    "  \n",
    "# both arr and nc have same id \n",
    "print(\"id of arr\", id(arr)) \n",
    "print(\"id of nc\", id(nc)) \n",
    "  \n",
    "# updating nc \n",
    "nc[0]= 12\n",
    "  \n",
    "# printing the values \n",
    "print(\"original array- \", arr) \n",
    "print(\"assigned array- \", nc) "
   ]
  },
  {
   "cell_type": "markdown",
   "id": "61fcee59-2155-4753-bb39-578ec96b9134",
   "metadata": {},
   "source": [
    "check if the Array is a View or a Copy :"
   ]
  },
  {
   "cell_type": "code",
   "execution_count": 6,
   "id": "b11eb3d3-fc64-4bb7-aa71-183796a3342c",
   "metadata": {},
   "outputs": [
    {
     "name": "stdout",
     "output_type": "stream",
     "text": [
      "None\n",
      "-----------\n",
      "[ 2  4  6  8 10]\n"
     ]
    }
   ],
   "source": [
    "import numpy as np \n",
    "  \n",
    "# creating array \n",
    "arr = np.array([2, 4, 6, 8, 10]) \n",
    "  \n",
    "# creating copy of array \n",
    "c = arr.copy() \n",
    "  \n",
    "# creating view of array \n",
    "v = arr.view() \n",
    "  \n",
    "# printing base attribute of copy and view \n",
    "print(c.base) \n",
    "print(\"-----------\")\n",
    "print(v.base) "
   ]
  },
  {
   "cell_type": "markdown",
   "id": "96bfba49-e40f-445d-a463-b028fbf76ec4",
   "metadata": {},
   "source": [
    "Copy 1D Numpy Arrays into Another Using np.copy() Function :"
   ]
  },
  {
   "cell_type": "code",
   "execution_count": 7,
   "id": "f53b651d-c171-48d1-917c-4243fb1d1d54",
   "metadata": {},
   "outputs": [
    {
     "name": "stdout",
     "output_type": "stream",
     "text": [
      "Original array: \n",
      "[ 1.54  2.99  3.42  4.87  6.94  8.21  7.65 10.5  77.5 ]\n",
      "\n",
      "Copied array: \n",
      "[ 1.54  2.99  3.42  4.87  6.94  8.21  7.65 10.5  77.5 ]\n"
     ]
    }
   ],
   "source": [
    "# importing Numpy package\n",
    "import numpy as np\n",
    " \n",
    "# Creating a numpy array using np.array()\n",
    "org_array = np.array([1.54, 2.99, 3.42, 4.87, 6.94,\n",
    "                      8.21, 7.65, 10.50, 77.5])\n",
    " \n",
    "print(\"Original array: \")\n",
    " \n",
    "# printing the Numpy array\n",
    "print(org_array)\n",
    " \n",
    "# Now copying the org_array to copy_array\n",
    "# using np.copy() function\n",
    "copy_array = np.copy(org_array)\n",
    " \n",
    "print(\"\\nCopied array: \")\n",
    " \n",
    "# printing the copied Numpy array\n",
    "print(copy_array)"
   ]
  },
  {
   "cell_type": "markdown",
   "id": "2198d907-4f26-4805-ba03-4eb57f466ab2",
   "metadata": {},
   "source": [
    "Copy Given 2-D Array to Another Array Using np.copy() Function :"
   ]
  },
  {
   "cell_type": "code",
   "execution_count": 8,
   "id": "9d4a4ebe-d174-4d7f-b22e-7bf01274a534",
   "metadata": {},
   "outputs": [
    {
     "name": "stdout",
     "output_type": "stream",
     "text": [
      "Original array: \n",
      "[[23 46 85]\n",
      " [43 56 99]\n",
      " [11 34 55]]\n",
      "\n",
      "Copied array: \n",
      "[[23 46 85]\n",
      " [43 56 99]\n",
      " [11 34 55]]\n"
     ]
    }
   ],
   "source": [
    "import numpy as np\n",
    " \n",
    "# Creating a 2-D numpy array using np.array()\n",
    "org_array = np.array([[23, 46, 85],\n",
    "                      [43, 56, 99],\n",
    "                      [11, 34, 55]])\n",
    " \n",
    "print(\"Original array: \")\n",
    " \n",
    "# printing the Numpy array\n",
    "print(org_array)\n",
    " \n",
    "# Now copying the org_array to copy_array\n",
    "# using np.copy() function\n",
    "copy_array = np.copy(org_array)\n",
    " \n",
    "print(\"\\nCopied array: \")\n",
    " \n",
    "# printing the copied Numpy array\n",
    "print(copy_array)"
   ]
  },
  {
   "cell_type": "markdown",
   "id": "360db070-0f94-49e2-b7b4-e9d5bfa65b69",
   "metadata": {},
   "source": [
    "NumPy Array Copy Using Assignment Operator :"
   ]
  },
  {
   "cell_type": "code",
   "execution_count": 9,
   "id": "e1d03571-b249-4398-9c43-a5bf1cc60d9b",
   "metadata": {},
   "outputs": [
    {
     "name": "stdout",
     "output_type": "stream",
     "text": [
      "Original Array: \n",
      " [[99 22 33]\n",
      " [44 77 13]]\n",
      "\n",
      "Copied Array: \n",
      " [[99 22 33]\n",
      " [44 77 13]]\n"
     ]
    }
   ],
   "source": [
    "import numpy as np\n",
    " \n",
    "# Create a 2-D Numpy array using np.array()\n",
    "org_array = np.array([[99, 22, 33],\n",
    "                      [44, 77, 66]])\n",
    " \n",
    "# Copying org_array to copy_array\n",
    "# using Assignment operator\n",
    "copy_array = org_array\n",
    " \n",
    "# modifying org_array\n",
    "org_array[1, 2] = 13\n",
    " \n",
    "# checking if copy_array has remained the same\n",
    " \n",
    "# printing original array\n",
    "print('Original Array: \\n', org_array)\n",
    " \n",
    "# printing copied array\n",
    "print('\\nCopied Array: \\n', copy_array)"
   ]
  },
  {
   "cell_type": "markdown",
   "id": "67fe1efc-8372-4900-81d9-eb7ad783f116",
   "metadata": {},
   "source": [
    "Appending a Single Value to a 1D Array :"
   ]
  },
  {
   "cell_type": "code",
   "execution_count": 10,
   "id": "69fb5b90-cae9-412a-a84d-9033cb52d14c",
   "metadata": {},
   "outputs": [
    {
     "name": "stdout",
     "output_type": "stream",
     "text": [
      "Original Array :  [1 8 3 3 5]\n",
      "Array after appending :  [1 8 3 3 5 7]\n"
     ]
    }
   ],
   "source": [
    "import numpy as np\n",
    " \n",
    "# creating an array\n",
    "arr = np.array([1, 8, 3, 3, 5])\n",
    "print('Original Array : ', arr)\n",
    " \n",
    "# appending to the array\n",
    "arr = np.append(arr, [7])\n",
    "print('Array after appending : ', arr)"
   ]
  },
  {
   "cell_type": "markdown",
   "id": "80e58218-2cca-48bf-ac38-74646f470d26",
   "metadata": {},
   "source": [
    "Appending Another Array at the End of a 1D Array :"
   ]
  },
  {
   "cell_type": "code",
   "execution_count": 11,
   "id": "faa8fcc0-f1e2-427b-946e-c7dc64f4fc44",
   "metadata": {},
   "outputs": [
    {
     "name": "stdout",
     "output_type": "stream",
     "text": [
      "First array is :  [1 2 3]\n",
      "Second array is :  [4 5 6]\n",
      "Array after appending :  [1 2 3 4 5 6]\n"
     ]
    }
   ],
   "source": [
    "import numpy as np\n",
    " \n",
    "# creating an array\n",
    "arr1 = np.array([1, 2, 3])\n",
    "print('First array is : ', arr1)\n",
    " \n",
    "# creating another array\n",
    "arr2 = np.array([4, 5, 6])\n",
    "print('Second array is : ', arr2)\n",
    " \n",
    "# appending arr2 to arr1\n",
    "arr = np.append(arr1, arr2)\n",
    "print('Array after appending : ', arr)"
   ]
  },
  {
   "cell_type": "markdown",
   "id": "381b5874-d1e8-4dd0-8fe3-50018f4addca",
   "metadata": {},
   "source": [
    "Appending Values at the End Using Concatenation :"
   ]
  },
  {
   "cell_type": "code",
   "execution_count": 14,
   "id": "d3cdba25-d3fb-4e0c-b523-84dd8d89631a",
   "metadata": {},
   "outputs": [
    {
     "name": "stdout",
     "output_type": "stream",
     "text": [
      "[[1 2]\n",
      " [3 4]\n",
      " [5 6]]\n"
     ]
    }
   ],
   "source": [
    "import numpy as np\n",
    " \n",
    "arr1 = np.array([[1, 2], [3, 4]])\n",
    "arr2 = np.array([[5, 6]])\n",
    " \n",
    "combined = np.concatenate((arr1, arr2), axis=0)\n",
    "print(combined)"
   ]
  },
  {
   "cell_type": "markdown",
   "id": "198f694b-057e-4ac9-a830-8c649d843fea",
   "metadata": {},
   "source": [
    "Appending with a Different Array Type :"
   ]
  },
  {
   "cell_type": "code",
   "execution_count": 15,
   "id": "9292712b-8edd-4d0c-8b7a-cafcd09bb58a",
   "metadata": {},
   "outputs": [
    {
     "name": "stdout",
     "output_type": "stream",
     "text": [
      "[1. 2. 3. 4. 5.]\n"
     ]
    }
   ],
   "source": [
    "import numpy as np\n",
    " \n",
    "arr = np.array([1, 2, 3])\n",
    "arr_float = np.array([4.0, 5.0])\n",
    " \n",
    "combined = np.append(arr, arr_float)\n",
    "print(combined)  # Output: [1. 2. 3. 4. 5.]"
   ]
  },
  {
   "cell_type": "markdown",
   "id": "6117bdc7-f84d-4a32-a564-96d63cdd5413",
   "metadata": {},
   "source": [
    "Appending Using List Comprehension and numpy.concatenate :"
   ]
  },
  {
   "cell_type": "code",
   "execution_count": 16,
   "id": "9eaeea23-832b-4d0b-af97-81c1045135a2",
   "metadata": {},
   "outputs": [
    {
     "name": "stdout",
     "output_type": "stream",
     "text": [
      "[1 2 3 4 5 6 7 8 9]\n"
     ]
    }
   ],
   "source": [
    "import numpy as np\n",
    " \n",
    "arr = np.array([1, 2, 3, 4, 5])\n",
    "values_to_append = [np.array([6, 7]), np.array([8, 9])]\n",
    "combined = np.concatenate([arr] + values_to_append)\n",
    "print(combined)"
   ]
  },
  {
   "cell_type": "markdown",
   "id": "0d09e7f9-1821-4095-9d30-ccd76dbc4ef6",
   "metadata": {},
   "source": [
    "Appending Values at the End of the N-Dimensional Array :"
   ]
  },
  {
   "cell_type": "code",
   "execution_count": 17,
   "id": "b667dbfe-08e0-4416-90c7-075739385762",
   "metadata": {},
   "outputs": [
    {
     "name": "stdout",
     "output_type": "stream",
     "text": [
      "Original Array\n",
      "[[ 1  2  3  4  5  6]\n",
      " [ 7  8  9 10 11 12]] \n",
      "\n",
      "Array to be appended column wise\n",
      "[[ 5  6  7  8  9 10]]\n",
      "Array after appending the values column wise\n",
      "[[ 1  2  3  4  5  6]\n",
      " [ 7  8  9 10 11 12]\n",
      " [ 5  6  7  8  9 10]] \n",
      "\n",
      "Array to be appended row wise\n",
      "[[1]\n",
      " [2]]\n",
      "Array after appending the values row wise\n",
      "[[ 1  2  3  4  5  6  1]\n",
      " [ 7  8  9 10 11 12  2]]\n"
     ]
    }
   ],
   "source": [
    "import numpy as np\n",
    " \n",
    "# create an array\n",
    "arr = np.arange(1, 13).reshape(2, 6)\n",
    "print('Original Array')\n",
    "print(arr, '\\n')\n",
    " \n",
    "# create another array which is\n",
    "# to be appended column-wise\n",
    "col = np.arange(5, 11).reshape(1, 6)\n",
    "print('Array to be appended column wise')\n",
    "print(col)\n",
    "arr_col = np.append(arr, col, axis=0)\n",
    "print('Array after appending the values column wise')\n",
    "print(arr_col, '\\n')\n",
    " \n",
    "# create an array which is\n",
    "# to be appended row wise\n",
    "row = np.array([1, 2]).reshape(2, 1)\n",
    "print('Array to be appended row wise')\n",
    "print(row)\n",
    "arr_row = np.append(arr, row, axis=1)\n",
    "print('Array after appending the values row wise')\n",
    "print(arr_row)"
   ]
  },
  {
   "cell_type": "markdown",
   "id": "c0e0b5fc-c0d2-4135-8554-4fa29889f037",
   "metadata": {},
   "source": [
    "swap columns of a given NumPy array :"
   ]
  },
  {
   "cell_type": "code",
   "execution_count": 19,
   "id": "0d581ac9-65e9-429e-a5e5-5a260570895f",
   "metadata": {},
   "outputs": [
    {
     "name": "stdout",
     "output_type": "stream",
     "text": [
      "Original array:\n",
      "[[ 0  1  2]\n",
      " [ 3  4  5]\n",
      " [ 6  7  8]\n",
      " [ 9 10 11]]\n",
      "After swapping arrays the last column and first column:\n",
      "[[ 0  2  1]\n",
      " [ 3  5  4]\n",
      " [ 6  8  7]\n",
      " [ 9 11 10]]\n"
     ]
    }
   ],
   "source": [
    "import numpy as np\n",
    " \n",
    " \n",
    "# creating array with shape(4,3)\n",
    "my_array = np.arange(12).reshape(4, 3)\n",
    "print(\"Original array:\")\n",
    "print(my_array)\n",
    " \n",
    "# swapping the column with index of \n",
    "# original array\n",
    "my_array[:, [1, 2]] = my_array[:, [2, 1]]\n",
    "print(\"After swapping arrays the last column and first column:\")\n",
    "print(my_array)"
   ]
  },
  {
   "cell_type": "markdown",
   "id": "f393c482-0445-4be8-9f83-bdfe156e066a",
   "metadata": {},
   "source": [
    "Swapping the column of an array with the user chooses :"
   ]
  },
  {
   "cell_type": "code",
   "execution_count": 20,
   "id": "df0f3891-f5e4-402f-a849-00052d598c4f",
   "metadata": {},
   "outputs": [
    {
     "name": "stdout",
     "output_type": "stream",
     "text": [
      "Original Array : \n",
      "[[ 0  1  2]\n",
      " [ 3  4  5]\n",
      " [ 6  7  8]\n",
      " [ 9 10 11]]\n",
      " After Swapping :\n",
      "[[ 1  0  2]\n",
      " [ 4  3  5]\n",
      " [ 7  6  8]\n",
      " [10  9 11]]\n"
     ]
    }
   ],
   "source": [
    "import numpy as np\n",
    " \n",
    " \n",
    "# Creating array\n",
    "my_array = np.arange(12).reshape(4, 3)\n",
    "print(\"Original Array : \")\n",
    "print(my_array)\n",
    "# creating function for swap\n",
    " \n",
    "def Swap(arr, start_index, last_index):\n",
    "    arr[:, [start_index, last_index]] = arr[:, [last_index, start_index]]\n",
    " \n",
    "# passing parameter into the function\n",
    "Swap(my_array, 0, 1)\n",
    "print(\" After Swapping :\")\n",
    "print(my_array)"
   ]
  },
  {
   "cell_type": "markdown",
   "id": "a3be86e1-9aea-4de3-b641-c4e0aecef279",
   "metadata": {},
   "source": [
    "Insert a new axis within a NumPy array :\n",
    "\n",
    "Using numpy.newaxis() :"
   ]
  },
  {
   "cell_type": "code",
   "execution_count": 21,
   "id": "47cbcc26-b394-475e-b1c0-d34ecace4af9",
   "metadata": {},
   "outputs": [
    {
     "name": "stdout",
     "output_type": "stream",
     "text": [
      "(5, 5)\n",
      "(1, 5, 5, 1, 1)\n"
     ]
    }
   ],
   "source": [
    "import numpy as np\n",
    " \n",
    "arr = np.arange(5*5).reshape(5, 5)\n",
    "print(arr.shape)\n",
    " \n",
    "# promoting 2D array to a 5D array\n",
    "# arr[None, ..., None, None]\n",
    "arr_5D = arr[np.newaxis, ..., np.newaxis, np.newaxis]\n",
    " \n",
    "print(arr_5D.shape)"
   ]
  },
  {
   "cell_type": "markdown",
   "id": "4db17f25-4788-4fd2-b366-60ac571093e5",
   "metadata": {},
   "source": [
    "Using numpy.expand_dims() :"
   ]
  },
  {
   "cell_type": "code",
   "execution_count": 22,
   "id": "3a479f39-b94d-4ead-b972-d178b0549a2f",
   "metadata": {},
   "outputs": [
    {
     "name": "stdout",
     "output_type": "stream",
     "text": [
      "(3, 1, 4)\n"
     ]
    }
   ],
   "source": [
    "import numpy as np\n",
    " \n",
    "x = np.zeros((3, 4))\n",
    "y = np.expand_dims(x, axis=1).shape\n",
    "print(y)"
   ]
  },
  {
   "cell_type": "markdown",
   "id": "5f99f37b-2013-4984-9f84-84a0f817acb7",
   "metadata": {},
   "source": [
    "Simultaneously Insert Many New Axes in the Array :"
   ]
  },
  {
   "cell_type": "code",
   "execution_count": 24,
   "id": "0b6f1249-13db-455c-bf91-ecc20e4bd447",
   "metadata": {},
   "outputs": [
    {
     "name": "stdout",
     "output_type": "stream",
     "text": [
      "(5, 5)\n",
      "(1, 5, 5, 1, 1)\n"
     ]
    }
   ],
   "source": [
    "import numpy as np\n",
    "\n",
    "arr = np.arange(5*5).reshape(5,5)\n",
    "print(arr.shape)\n",
    "\n",
    "newaxes = (0, 3, -1)\n",
    "arr_5D = np.expand_dims(arr, axis=newaxes)\n",
    "print(arr_5D.shape)\n"
   ]
  },
  {
   "cell_type": "markdown",
   "id": "50e92697-8e08-408b-accf-13c4d00e8765",
   "metadata": {},
   "source": [
    "Using numpy.reshape() for a Single Axis :"
   ]
  },
  {
   "cell_type": "code",
   "execution_count": 27,
   "id": "c40bcd76-ccea-4120-9220-686371906aeb",
   "metadata": {},
   "outputs": [
    {
     "name": "stdout",
     "output_type": "stream",
     "text": [
      "[[0 1 2]\n",
      " [3 4 5]]\n"
     ]
    }
   ],
   "source": [
    "import numpy as np\n",
    "arr = np.arange(6)\n",
    "arr_reshape = arr.reshape((2, 3))\n",
    "print(arr_reshape)"
   ]
  },
  {
   "cell_type": "markdown",
   "id": "5cbd0677-d846-45cd-91ca-470b2e8499a0",
   "metadata": {},
   "source": [
    "numpy.hstack() in Python :"
   ]
  },
  {
   "cell_type": "code",
   "execution_count": 28,
   "id": "65fed9c4-13a7-41c1-83a5-d9dd68fb5de8",
   "metadata": {},
   "outputs": [
    {
     "name": "stdout",
     "output_type": "stream",
     "text": [
      "1st Input array : \n",
      " [1 2 3]\n",
      "2nd Input array : \n",
      " [4 5 6]\n",
      "Output horizontally stacked array:\n",
      "  [1 2 3 4 5 6]\n"
     ]
    }
   ],
   "source": [
    "import numpy as geek \n",
    "  \n",
    "# input array \n",
    "in_arr1 = geek.array([ 1, 2, 3] ) \n",
    "print (\"1st Input array : \\n\", in_arr1)  \n",
    "  \n",
    "in_arr2 = geek.array([ 4, 5, 6] ) \n",
    "print (\"2nd Input array : \\n\", in_arr2)  \n",
    "  \n",
    "# Stacking the two arrays horizontally \n",
    "out_arr = geek.hstack((in_arr1, in_arr2)) \n",
    "print (\"Output horizontally stacked array:\\n \", out_arr) "
   ]
  },
  {
   "cell_type": "code",
   "execution_count": 29,
   "id": "eb18c3fc-ca8e-4eb1-b7ff-36ff0b18c8d3",
   "metadata": {},
   "outputs": [
    {
     "name": "stdout",
     "output_type": "stream",
     "text": [
      "1st Input array : \n",
      " [[ 1  2  3]\n",
      " [-1 -2 -3]]\n",
      "2nd Input array : \n",
      " [[ 4  5  6]\n",
      " [-4 -5 -6]]\n",
      "Output stacked array :\n",
      "  [[ 1  2  3  4  5  6]\n",
      " [-1 -2 -3 -4 -5 -6]]\n"
     ]
    }
   ],
   "source": [
    "import numpy as geek \n",
    "  \n",
    "# input array \n",
    "in_arr1 = geek.array([[ 1, 2, 3], [ -1, -2, -3]] ) \n",
    "print (\"1st Input array : \\n\", in_arr1)  \n",
    "  \n",
    "in_arr2 = geek.array([[ 4, 5, 6], [ -4, -5, -6]] ) \n",
    "print (\"2nd Input array : \\n\", in_arr2)  \n",
    "  \n",
    "# Stacking the two arrays horizontally \n",
    "out_arr = geek.hstack((in_arr1, in_arr2)) \n",
    "print (\"Output stacked array :\\n \", out_arr) "
   ]
  },
  {
   "cell_type": "markdown",
   "id": "56497e59-2bee-4331-a447-fa4552a11c57",
   "metadata": {},
   "source": [
    "numpy.vstack() in python :"
   ]
  },
  {
   "cell_type": "code",
   "execution_count": 30,
   "id": "fb6d5cf4-2749-42c8-b0bb-e9bf009887d8",
   "metadata": {},
   "outputs": [
    {
     "name": "stdout",
     "output_type": "stream",
     "text": [
      "1st Input array : \n",
      " [1 2 3]\n",
      "2nd Input array : \n",
      " [4 5 6]\n",
      "Output vertically stacked array:\n",
      "  [[1 2 3]\n",
      " [4 5 6]]\n"
     ]
    }
   ],
   "source": [
    "import numpy as geek \n",
    "  \n",
    "# input array \n",
    "in_arr1 = geek.array([ 1, 2, 3] ) \n",
    "print (\"1st Input array : \\n\", in_arr1)  \n",
    "  \n",
    "in_arr2 = geek.array([ 4, 5, 6] ) \n",
    "print (\"2nd Input array : \\n\", in_arr2)  \n",
    "  \n",
    "# Stacking the two arrays vertically \n",
    "out_arr = geek.vstack((in_arr1, in_arr2)) \n",
    "print (\"Output vertically stacked array:\\n \", out_arr) "
   ]
  },
  {
   "cell_type": "code",
   "execution_count": 31,
   "id": "b22d4142-0fe3-4cf4-8d56-34492baab7a4",
   "metadata": {},
   "outputs": [
    {
     "name": "stdout",
     "output_type": "stream",
     "text": [
      "1st Input array : \n",
      " [[ 1  2  3]\n",
      " [-1 -2 -3]]\n",
      "2nd Input array : \n",
      " [[ 4  5  6]\n",
      " [-4 -5 -6]]\n",
      "Output stacked array :\n",
      "  [[ 1  2  3]\n",
      " [-1 -2 -3]\n",
      " [ 4  5  6]\n",
      " [-4 -5 -6]]\n"
     ]
    }
   ],
   "source": [
    "import numpy as geek \n",
    "  \n",
    "# input array \n",
    "in_arr1 = geek.array([[ 1, 2, 3], [ -1, -2, -3]] ) \n",
    "print (\"1st Input array : \\n\", in_arr1)  \n",
    "  \n",
    "in_arr2 = geek.array([[ 4, 5, 6], [ -4, -5, -6]] ) \n",
    "print (\"2nd Input array : \\n\", in_arr2)  \n",
    "  \n",
    "# Stacking the two arrays vertically \n",
    "out_arr = geek.vstack((in_arr1, in_arr2)) \n",
    "print (\"Output stacked array :\\n \", out_arr) "
   ]
  },
  {
   "cell_type": "markdown",
   "id": "b6dc7167-edab-4884-95f4-859f18b0f10b",
   "metadata": {},
   "source": [
    "Joining NumPy Array :"
   ]
  },
  {
   "cell_type": "markdown",
   "id": "959293d9-3577-4292-84d6-a952c07ba7b1",
   "metadata": {},
   "source": [
    "Using numpy.concatenate() :\n",
    "\n",
    "The concatenate function in NumPy joins two or more arrays along a specified axis. "
   ]
  },
  {
   "cell_type": "code",
   "execution_count": 33,
   "id": "649622fe-36ff-4f41-ade0-0fdc3f8ef9cb",
   "metadata": {},
   "outputs": [
    {
     "name": "stdout",
     "output_type": "stream",
     "text": [
      "[1 2 3 4]\n"
     ]
    }
   ],
   "source": [
    "import numpy as np \n",
    "  \n",
    "array_1 = np.array([1, 2]) \n",
    "array_2 = np.array([3, 4]) \n",
    "  \n",
    "array_new = np.concatenate((array_1, array_2)) \n",
    "print(array_new) "
   ]
  },
  {
   "cell_type": "code",
   "execution_count": 34,
   "id": "c69c4b1b-1222-41f5-85e2-530b25de6e90",
   "metadata": {},
   "outputs": [
    {
     "name": "stdout",
     "output_type": "stream",
     "text": [
      "[[1 2 5 6]\n",
      " [3 4 7 8]]\n"
     ]
    }
   ],
   "source": [
    "import numpy as np \n",
    "  \n",
    "array_1 = np.array([[1, 2], [3, 4]]) \n",
    "array_2 = np.array([[5, 6], [7, 8]]) \n",
    "  \n",
    "array_new = np.concatenate((array_1, array_2), axis=1) \n",
    "print(array_new) "
   ]
  },
  {
   "cell_type": "markdown",
   "id": "2b0e101c-6291-44dd-bed5-0bfe0e498b33",
   "metadata": {},
   "source": [
    "Using numpy.stack() :\n",
    "\n",
    "The stack() function of NumPy joins two or more arrays along a new axis."
   ]
  },
  {
   "cell_type": "code",
   "execution_count": 35,
   "id": "df0aef4c-b8bd-4e24-b4a3-d9b7a0bb690f",
   "metadata": {},
   "outputs": [
    {
     "name": "stdout",
     "output_type": "stream",
     "text": [
      "[[1 5]\n",
      " [2 6]\n",
      " [3 7]\n",
      " [4 8]]\n"
     ]
    }
   ],
   "source": [
    "import numpy as np \n",
    "  \n",
    "array_1 = np.array([1, 2, 3, 4]) \n",
    "array_2 = np.array([5, 6, 7, 8]) \n",
    "  \n",
    "array_new = np.stack((array_1, array_2), axis=1) \n",
    "print(array_new) "
   ]
  },
  {
   "cell_type": "markdown",
   "id": "d718d162-18bf-4f5b-b97b-262e653b1336",
   "metadata": {},
   "source": [
    "numpy.block() :\n",
    "\n",
    "numpy.block is used to create nd-arrays from nested blocks of lists."
   ]
  },
  {
   "cell_type": "code",
   "execution_count": 38,
   "id": "98e9d680-c9eb-478d-aeff-d04b798a7a93",
   "metadata": {},
   "outputs": [
    {
     "name": "stdout",
     "output_type": "stream",
     "text": [
      "[[1 1 2 2 2]\n",
      " [1 1 2 2 2]\n",
      " [3 3 4 4 4]\n",
      " [3 3 4 4 4]\n",
      " [3 3 4 4 4]]\n"
     ]
    }
   ],
   "source": [
    "import numpy as np \n",
    "  \n",
    "block_1 = np.array([[1, 1], [1, 1]]) \n",
    "block_2 = np.array([[2, 2, 2], [2, 2, 2]]) \n",
    "block_3 = np.array([[3, 3], [3, 3], [3, 3]]) \n",
    "block_4 = np.array([[4, 4, 4], [4, 4, 4], [4, 4, 4]]) \n",
    "  \n",
    "block_new = np.block([ \n",
    "    [block_1, block_2], \n",
    "    [block_3, block_4] \n",
    "]) \n",
    "  \n",
    "print(block_new) "
   ]
  },
  {
   "cell_type": "markdown",
   "id": "ed04a36b-7268-4f34-a62e-ac5876eb8ce1",
   "metadata": {},
   "source": [
    "Combining a one and a two-dimensional NumPy Array :"
   ]
  },
  {
   "cell_type": "code",
   "execution_count": 39,
   "id": "a9480757-ef6e-4836-91c7-531716dc7049",
   "metadata": {},
   "outputs": [
    {
     "name": "stdout",
     "output_type": "stream",
     "text": [
      "One dimensional array:\n",
      "[0 1 2 3 4]\n",
      "\n",
      "Two dimensional array:\n",
      "[[0 1 2 3 4]\n",
      " [5 6 7 8 9]]\n",
      "0:0\n",
      "1:1\n",
      "2:2\n",
      "3:3\n",
      "4:4\n",
      "0:5\n",
      "1:6\n",
      "2:7\n",
      "3:8\n",
      "4:9\n"
     ]
    }
   ],
   "source": [
    "import numpy as np \n",
    "  \n",
    "num_1d = np.arange(5) \n",
    "print(\"One dimensional array:\") \n",
    "print(num_1d) \n",
    "  \n",
    "num_2d = np.arange(10).reshape(2,5) \n",
    "print(\"\\nTwo dimensional array:\") \n",
    "print(num_2d) \n",
    "  \n",
    "# Combine 1-D and 2-D arrays and display  \n",
    "# their elements using numpy.nditer()  \n",
    "for a, b in np.nditer([num_1d, num_2d]): \n",
    "    print(\"%d:%d\" % (a, b),)"
   ]
  },
  {
   "cell_type": "code",
   "execution_count": 40,
   "id": "dc1b9f3c-8742-4e67-8ea8-e1af455b611d",
   "metadata": {},
   "outputs": [
    {
     "name": "stdout",
     "output_type": "stream",
     "text": [
      "One dimensional array:\n",
      "[0 1 2 3 4 5 6]\n",
      "\n",
      "Two dimensional array:\n",
      "[[ 0  1  2  3  4  5  6]\n",
      " [ 7  8  9 10 11 12 13]\n",
      " [14 15 16 17 18 19 20]]\n",
      "0:0\n",
      "1:1\n",
      "2:2\n",
      "3:3\n",
      "4:4\n",
      "5:5\n",
      "6:6\n",
      "0:7\n",
      "1:8\n",
      "2:9\n",
      "3:10\n",
      "4:11\n",
      "5:12\n",
      "6:13\n",
      "0:14\n",
      "1:15\n",
      "2:16\n",
      "3:17\n",
      "4:18\n",
      "5:19\n",
      "6:20\n"
     ]
    }
   ],
   "source": [
    "import numpy as np \n",
    "  \n",
    "num_1d = np.arange(7) \n",
    "print(\"One dimensional array:\") \n",
    "print(num_1d) \n",
    "  \n",
    "num_2d = np.arange(21).reshape(3,7) \n",
    "print(\"\\nTwo dimensional array:\") \n",
    "print(num_2d) \n",
    "  \n",
    "# Combine 1-D and 2-D arrays and display  \n",
    "# their elements using numpy.nditer()  \n",
    "for a, b in np.nditer([num_1d, num_2d]): \n",
    "    print(\"%d:%d\" % (a, b),)"
   ]
  },
  {
   "cell_type": "code",
   "execution_count": 41,
   "id": "c713e03d-257a-4bc7-acc1-981c3f25b04c",
   "metadata": {},
   "outputs": [
    {
     "name": "stdout",
     "output_type": "stream",
     "text": [
      "One dimensional array:\n",
      "[0 1]\n",
      "\n",
      "Two dimensional array:\n",
      "[[ 0  1]\n",
      " [ 2  3]\n",
      " [ 4  5]\n",
      " [ 6  7]\n",
      " [ 8  9]\n",
      " [10 11]]\n",
      "0:0\n",
      "1:1\n",
      "0:2\n",
      "1:3\n",
      "0:4\n",
      "1:5\n",
      "0:6\n",
      "1:7\n",
      "0:8\n",
      "1:9\n",
      "0:10\n",
      "1:11\n"
     ]
    }
   ],
   "source": [
    "import numpy as np \n",
    "  \n",
    "num_1d = np.arange(2) \n",
    "print(\"One dimensional array:\") \n",
    "print(num_1d) \n",
    "  \n",
    "num_2d = np.arange(12).reshape(6,2) \n",
    "print(\"\\nTwo dimensional array:\") \n",
    "print(num_2d) \n",
    "  \n",
    "# Combine 1-D and 2-D arrays and display \n",
    "# their elements using numpy.nditer()  \n",
    "for a, b in np.nditer([num_1d, num_2d]): \n",
    "    print(\"%d:%d\" % (a, b),)"
   ]
  },
  {
   "cell_type": "markdown",
   "id": "8cc31f3f-a216-4c43-9716-63a88cd51e7c",
   "metadata": {},
   "source": [
    "Numpy np.ma.concatenate() method :"
   ]
  },
  {
   "cell_type": "code",
   "execution_count": 42,
   "id": "34f82680-04e0-49e0-a5e4-b866eddb41ec",
   "metadata": {},
   "outputs": [
    {
     "name": "stdout",
     "output_type": "stream",
     "text": [
      "[1 2 3 4 5 6]\n"
     ]
    }
   ],
   "source": [
    "import numpy as np \n",
    "import numpy.ma as ma \n",
    "  \n",
    "gfg1 = np.array([1, 2, 3]) \n",
    "gfg2 = np.array([4, 5, 6]) \n",
    "  \n",
    "# using np.ma.concatenate() method \n",
    "gfg = ma.concatenate([gfg1, gfg2]) \n",
    "  \n",
    "print(gfg) "
   ]
  },
  {
   "cell_type": "code",
   "execution_count": 46,
   "id": "8d1e9ed0-345c-4794-9c0b-d08bee729598",
   "metadata": {},
   "outputs": [
    {
     "name": "stdout",
     "output_type": "stream",
     "text": [
      "[[11 22 33]\n",
      " [41 52 63]]\n"
     ]
    }
   ],
   "source": [
    "import numpy as np \n",
    "import numpy.ma as ma \n",
    "  \n",
    "gfg1 = np.array([11, 22, 33]) \n",
    "gfg2 = np.array([41, 52, 63]) \n",
    "  \n",
    "# using np.ma.concatenate() method \n",
    "gfg = ma.concatenate([[gfg1], [gfg2]]) \n",
    "  \n",
    "print(gfg) "
   ]
  },
  {
   "cell_type": "markdown",
   "id": "bc92d9f9-6f82-482b-9d40-6e5ea52d507f",
   "metadata": {},
   "source": [
    "Numpy dstack() method :"
   ]
  },
  {
   "cell_type": "code",
   "execution_count": 47,
   "id": "ac6f1bc4-fbb8-41f5-a74e-90057f790bde",
   "metadata": {},
   "outputs": [
    {
     "name": "stdout",
     "output_type": "stream",
     "text": [
      "[[[1 4]\n",
      "  [2 5]\n",
      "  [3 6]]]\n"
     ]
    }
   ],
   "source": [
    "import numpy as np \n",
    "  \n",
    "gfg1 = np.array([1, 2, 3]) \n",
    "gfg2 = np.array([4, 5, 6]) \n",
    "  \n",
    "# using numpy.dstack() method \n",
    "print(np.dstack((gfg1, gfg2))) "
   ]
  },
  {
   "cell_type": "code",
   "execution_count": 48,
   "id": "74745738-074b-4f1c-afbe-814bf4bc9f6d",
   "metadata": {},
   "outputs": [
    {
     "name": "stdout",
     "output_type": "stream",
     "text": [
      "[[[10 41]]\n",
      "\n",
      " [[ 2 55]]\n",
      "\n",
      " [[13  6]]]\n"
     ]
    }
   ],
   "source": [
    "import numpy as np \n",
    "  \n",
    "gfg1 = np.array([[10], [2], [13]]) \n",
    "gfg2 = np.array([[41], [55], [6]]) \n",
    "  \n",
    "# using numpy.dstack() method \n",
    "print(np.dstack((gfg1, gfg2))) "
   ]
  },
  {
   "cell_type": "markdown",
   "id": "b2c1074e-a094-4754-9077-fef41ad49b49",
   "metadata": {},
   "source": [
    "NumPy Splitting Array :"
   ]
  },
  {
   "cell_type": "code",
   "execution_count": 51,
   "id": "673b8749-da8a-4506-8e3f-e59fe39fde04",
   "metadata": {},
   "outputs": [
    {
     "name": "stdout",
     "output_type": "stream",
     "text": [
      "[array([1, 2]), array([3, 4]), array([5, 6])]\n"
     ]
    }
   ],
   "source": [
    "import numpy as np\n",
    "Arr = np.array([1, 2, 3, 4, 5, 6])\n",
    "array = np.array_split(Arr, 3)\n",
    "print(array)"
   ]
  },
  {
   "cell_type": "markdown",
   "id": "6a806a2a-c296-4c5f-a792-7a128eeda878",
   "metadata": {},
   "source": [
    "Splitting Arrays Into Equal Parts using numpy.split() :"
   ]
  },
  {
   "cell_type": "code",
   "execution_count": 52,
   "id": "3fe84a90-7b8d-4c7c-9911-2881795fc9de",
   "metadata": {},
   "outputs": [
    {
     "name": "stdout",
     "output_type": "stream",
     "text": [
      "Array:\n",
      "[0 1 2 3 4 5]\n",
      "\n",
      "Result after numpy.split():\n",
      "[array([0, 1, 2]), array([3, 4, 5])]\n"
     ]
    }
   ],
   "source": [
    "import numpy as np\n",
    " \n",
    "# Creating an example array\n",
    "array = np.arange(6)\n",
    " \n",
    "# Splitting the array into 2 equal parts along the first axis (axis=0)\n",
    "result = np.split(array, 2)\n",
    " \n",
    "print(\"Array:\")\n",
    "print(array)\n",
    "print(\"\\nResult after numpy.split():\")\n",
    "print(result)"
   ]
  },
  {
   "cell_type": "markdown",
   "id": "b544aa4b-57f1-4d03-b635-2af7cf614a0c",
   "metadata": {},
   "source": [
    "Unequal Splitting of Arrays using numpy.array_split() :"
   ]
  },
  {
   "cell_type": "code",
   "execution_count": 56,
   "id": "1666ead6-173e-4e9b-ad08-a515f0aeb7a9",
   "metadata": {},
   "outputs": [
    {
     "name": "stdout",
     "output_type": "stream",
     "text": [
      "Array:\n",
      "[ 0  1  2  3  4  5  6  7  8  9 10 11 12]\n",
      "\n",
      "Result after numpy.array_split():\n",
      "[array([0, 1, 2, 3]), array([4, 5, 6]), array([7, 8, 9]), array([10, 11, 12])]\n"
     ]
    }
   ],
   "source": [
    "import numpy as np\n",
    " \n",
    "# Creating an example array\n",
    "array = np.arange(13)\n",
    " \n",
    "# Splitting the array into 4 unequal parts along the first axis (axis=0)\n",
    "result = np.array_split(array, 4)\n",
    " \n",
    "print(\"Array:\")\n",
    "print(array)\n",
    "print(\"\\nResult after numpy.array_split():\")\n",
    "print(result)"
   ]
  },
  {
   "cell_type": "markdown",
   "id": "a7a0ee8a-1bf6-4fda-a823-e1090a2b808f",
   "metadata": {},
   "source": [
    "Splitting NumPy 2D Arrays :"
   ]
  },
  {
   "cell_type": "code",
   "execution_count": 58,
   "id": "b9c8172c-7aa9-476c-ac5f-8950e4b73617",
   "metadata": {},
   "outputs": [
    {
     "name": "stdout",
     "output_type": "stream",
     "text": [
      "2D Array:\n",
      "[[3 2 1]\n",
      " [8 9 7]\n",
      " [4 6 5]]\n",
      "\n",
      "Result after numpy.split() along axis=1:\n",
      "[array([[3],\n",
      "       [8],\n",
      "       [4]]), array([[2],\n",
      "       [9],\n",
      "       [6]]), array([[1],\n",
      "       [7],\n",
      "       [5]])]\n"
     ]
    }
   ],
   "source": [
    "import numpy as np\n",
    " \n",
    "# Creating a 2D array\n",
    "array = np.array([[3, 2, 1], [8, 9, 7], [4, 6, 5]])\n",
    " \n",
    "# Splitting the array into 3 equal parts along the second axis (axis=1)\n",
    "result = np.split(array, 3, axis=1)\n",
    " \n",
    "print(\"2D Array:\")\n",
    "print(array)\n",
    "print(\"\\nResult after numpy.split() along axis=1:\")\n",
    "print(result)"
   ]
  },
  {
   "cell_type": "markdown",
   "id": "82968e0d-3e41-4de5-b616-f7e89e40e128",
   "metadata": {},
   "source": [
    "Vertical Splitting of Arrays using numpy.vsplit() :"
   ]
  },
  {
   "cell_type": "code",
   "execution_count": 59,
   "id": "0a75f47e-3fc4-4971-adb6-b8d5314aace6",
   "metadata": {},
   "outputs": [
    {
     "name": "stdout",
     "output_type": "stream",
     "text": [
      "Matrix:\n",
      "[[ 1  2  3]\n",
      " [ 4  5  6]\n",
      " [ 7  8  9]\n",
      " [10 11 12]]\n",
      "\n",
      "Result after numpy.vsplit():\n",
      "[array([[1, 2, 3],\n",
      "       [4, 5, 6]]), array([[ 7,  8,  9],\n",
      "       [10, 11, 12]])]\n"
     ]
    }
   ],
   "source": [
    "import numpy as np\n",
    " \n",
    "# Creating an example matrix\n",
    "matrix = np.array([[1, 2, 3],\n",
    "                            [4, 5, 6],\n",
    "                            [7, 8, 9],\n",
    "                            [10, 11, 12]])\n",
    " \n",
    "# Vertical splitting into 2 subarrays along axis=0\n",
    "result = np.vsplit(matrix, 2)\n",
    " \n",
    "print(\"Matrix:\")\n",
    "print(matrix)\n",
    "print(\"\\nResult after numpy.vsplit():\")\n",
    "print(result)"
   ]
  },
  {
   "cell_type": "markdown",
   "id": "ee84e259-07eb-4a26-9b15-911214d9090f",
   "metadata": {},
   "source": [
    "Horizontal Splitting of Arrays using numpy.hsplit() :"
   ]
  },
  {
   "cell_type": "code",
   "execution_count": 60,
   "id": "7a2d546b-15ca-48e1-a8dc-f150302b4269",
   "metadata": {},
   "outputs": [
    {
     "name": "stdout",
     "output_type": "stream",
     "text": [
      "2D Array:\n",
      "[[ 1  2  3  4]\n",
      " [ 5  6  7  8]\n",
      " [ 9 10 11 12]]\n",
      "\n",
      "Result after numpy.hsplit():\n",
      "[array([[ 1,  2],\n",
      "       [ 5,  6],\n",
      "       [ 9, 10]]), array([[ 3,  4],\n",
      "       [ 7,  8],\n",
      "       [11, 12]])]\n"
     ]
    }
   ],
   "source": [
    "import numpy as np\n",
    " \n",
    "# Creating an example 2D array\n",
    "array = np.array([[1, 2, 3, 4],\n",
    "                           [5, 6, 7, 8],\n",
    "                           [9, 10, 11, 12]])\n",
    " \n",
    "# Horizontal splitting into 2 subarrays along axis=1\n",
    "result = np.hsplit(array, 2)\n",
    " \n",
    "print(\"2D Array:\")\n",
    "print(array)\n",
    "print(\"\\nResult after numpy.hsplit():\")\n",
    "print(result)"
   ]
  },
  {
   "cell_type": "markdown",
   "id": "7ece2bda-c53e-4b79-a2df-6b11721bbfbd",
   "metadata": {},
   "source": [
    "Splitting Arrays Along the Third Axis using numpy.dsplit() :"
   ]
  },
  {
   "cell_type": "code",
   "execution_count": 61,
   "id": "b0dd5cc4-cfc3-42e7-9cd0-fe3191f0263e",
   "metadata": {},
   "outputs": [
    {
     "name": "stdout",
     "output_type": "stream",
     "text": [
      "Original 3D Array:\n",
      "[[[ 0  1  2  3]\n",
      "  [ 4  5  6  7]\n",
      "  [ 8  9 10 11]]\n",
      "\n",
      " [[12 13 14 15]\n",
      "  [16 17 18 19]\n",
      "  [20 21 22 23]]]\n",
      "\n",
      "Result after numpy.dsplit():\n",
      "[array([[[ 0,  1],\n",
      "        [ 4,  5],\n",
      "        [ 8,  9]],\n",
      "\n",
      "       [[12, 13],\n",
      "        [16, 17],\n",
      "        [20, 21]]]), array([[[ 2,  3],\n",
      "        [ 6,  7],\n",
      "        [10, 11]],\n",
      "\n",
      "       [[14, 15],\n",
      "        [18, 19],\n",
      "        [22, 23]]])]\n"
     ]
    }
   ],
   "source": [
    "import numpy as np\n",
    "\n",
    "# Creating an example 3D array\n",
    "original_3d_array = np.arange(24).reshape((2, 3, 4))\n",
    "\n",
    "# Splitting along axis=2 (third axis)\n",
    "result = np.dsplit(original_3d_array, 2)\n",
    "\n",
    "print(\"Original 3D Array:\")\n",
    "print(original_3d_array)\n",
    "print(\"\\nResult after numpy.dsplit():\")\n",
    "print(result)\n"
   ]
  },
  {
   "cell_type": "markdown",
   "id": "b1f41591-de55-4908-8bbf-470a49fc0095",
   "metadata": {},
   "source": [
    "compare two NumPy arrays :"
   ]
  },
  {
   "cell_type": "code",
   "execution_count": 62,
   "id": "352a192b-ace4-4cec-a1b3-b892db6f6c52",
   "metadata": {},
   "outputs": [
    {
     "name": "stdout",
     "output_type": "stream",
     "text": [
      "True\n"
     ]
    }
   ],
   "source": [
    "import numpy as np\n",
    " \n",
    "an_array = np.array([[1, 2], [3, 4]])\n",
    "another_array = np.array([[1, 2], [3, 4]])\n",
    " \n",
    "comparison = an_array == another_array\n",
    "equal_arrays = comparison.all()\n",
    " \n",
    "print(equal_arrays)"
   ]
  },
  {
   "cell_type": "code",
   "execution_count": 63,
   "id": "fd37cad5-577a-4525-9874-5f4a0c7b0c6a",
   "metadata": {},
   "outputs": [
    {
     "name": "stdout",
     "output_type": "stream",
     "text": [
      "Array a:  [101  99  87]\n",
      "Array b:  [897  97 111]\n",
      "a > b\n",
      "[False  True False]\n",
      "a >= b\n",
      "[False  True False]\n",
      "a < b\n",
      "[ True False  True]\n",
      "a <= b\n",
      "[ True False  True]\n"
     ]
    }
   ],
   "source": [
    "import numpy as np\n",
    " \n",
    " \n",
    "a = np.array([101, 99, 87])\n",
    "b = np.array([897, 97, 111])\n",
    " \n",
    "print(\"Array a: \", a)\n",
    "print(\"Array b: \", b)\n",
    " \n",
    "print(\"a > b\")\n",
    "print(np.greater(a, b))\n",
    " \n",
    "print(\"a >= b\")\n",
    "print(np.greater_equal(a, b))\n",
    " \n",
    "print(\"a < b\")\n",
    "print(np.less(a, b))\n",
    " \n",
    "print(\"a <= b\")\n",
    "print(np.less_equal(a, b))"
   ]
  },
  {
   "cell_type": "markdown",
   "id": "e07a7fb2-5664-43de-b6a4-6a1c7d718fe3",
   "metadata": {},
   "source": [
    "Using array_equal()  :"
   ]
  },
  {
   "cell_type": "code",
   "execution_count": 64,
   "id": "448b4fb5-b5d3-47a0-887b-57538f83ae83",
   "metadata": {},
   "outputs": [
    {
     "name": "stdout",
     "output_type": "stream",
     "text": [
      "Equal\n"
     ]
    }
   ],
   "source": [
    "import numpy as np\n",
    " \n",
    "arr1 = np.array([[1, 2], [3, 4]])\n",
    "arr2 = np.array([[1, 2], [3, 4]])\n",
    " \n",
    " \n",
    "# Comparing the arrays\n",
    "if np.array_equal(arr1, arr2):\n",
    "    print(\"Equal\")\n",
    "else:\n",
    "    print(\"Not Equal\")"
   ]
  },
  {
   "cell_type": "markdown",
   "id": "eaf78ed4-8472-4ade-8522-acdcc78614e3",
   "metadata": {},
   "source": [
    "The union of two NumPy arrays :"
   ]
  },
  {
   "cell_type": "code",
   "execution_count": 65,
   "id": "3690f951-a80a-4a1b-9e59-f95019f27b1b",
   "metadata": {},
   "outputs": [
    {
     "name": "stdout",
     "output_type": "stream",
     "text": [
      "array1  [10 20 30 40]\n",
      "array2  [20 40 60 80]\n",
      "Union of two arrays : [10 20 30 40 60 80]\n"
     ]
    }
   ],
   "source": [
    "import numpy as np \n",
    "  \n",
    "  \n",
    "arr1 = np.array([10, 20, 30, 40]) \n",
    "print(\"array1 \", arr1) \n",
    "  \n",
    "arr2 = np.array([20, 40, 60, 80]) \n",
    "print(\"array2 \", arr2) \n",
    "  \n",
    "# print union of the two arrays \n",
    "print(\"Union of two arrays :\", np.union1d(arr1, arr2)) "
   ]
  },
  {
   "cell_type": "code",
   "execution_count": 66,
   "id": "3970b389-2136-4b3a-989c-b78e5862f0a1",
   "metadata": {},
   "outputs": [
    {
     "name": "stdout",
     "output_type": "stream",
     "text": [
      "array1 \n",
      "[[1 2 3]\n",
      " [4 5 6]]\n",
      "array2  [ 0  5 10]\n",
      "Union of two arrays [ 0  1  2  3  4  5  6 10]\n"
     ]
    }
   ],
   "source": [
    "import numpy as np \n",
    "  \n",
    "  \n",
    "# 2-d array \n",
    "arr1 = np.array([[1, 2, 3], [4, 5, 6]]) \n",
    "print(\"array1 \") \n",
    "print(arr1) \n",
    "  \n",
    "arr2 = np.array([0, 5, 10]) \n",
    "print(\"array2 \", arr2) \n",
    "  \n",
    "# print union of 2-d array and 1-d array \n",
    "print(\"Union of two arrays\", np.union1d(arr1, arr2)) "
   ]
  },
  {
   "cell_type": "markdown",
   "id": "68b3b8fa-5d02-405a-9de8-2cc65c4c476f",
   "metadata": {},
   "source": [
    "If we want to find union of more than two arrays, then we can find that by using functools.reduce function."
   ]
  },
  {
   "cell_type": "code",
   "execution_count": 67,
   "id": "f0d1fcb4-7542-4475-ae8e-3a9fda183554",
   "metadata": {},
   "outputs": [
    {
     "name": "stdout",
     "output_type": "stream",
     "text": [
      "Union  [0 1 2 3 4 5 6]\n"
     ]
    }
   ],
   "source": [
    "import numpy as np \n",
    "from functools import reduce\n",
    "  \n",
    "  \n",
    "array = reduce(np.union1d, ([1, 2, 3], [1, 3, 5], \n",
    "                            [2, 4, 6], [0, 0, 0])) \n",
    "print(\"Union \", array) "
   ]
  },
  {
   "cell_type": "markdown",
   "id": "bf8e50da-8411-4c39-bef9-5b3e491399e9",
   "metadata": {},
   "source": [
    "unique rows in a NumPy array :"
   ]
  },
  {
   "cell_type": "code",
   "execution_count": 71,
   "id": "8d0258d5-04ef-4be1-84bb-96cfb8e8d00a",
   "metadata": {},
   "outputs": [
    {
     "name": "stdout",
     "output_type": "stream",
     "text": [
      "Original Array :\n",
      "[[11 11 12 11]\n",
      " [13 11 12 11]\n",
      " [16 11 12 11]\n",
      " [11 11 12 11]]\n",
      "Unique Rows:\n",
      "[11 12 13 16]\n"
     ]
    }
   ],
   "source": [
    "import numpy as np\n",
    " \n",
    "# Create a 2D numpy array\n",
    "arr2D = np.array([[11, 11, 12, 11],\n",
    "                     [13, 11, 12, 11],\n",
    "                     [16, 11, 12, 11],\n",
    "                     [11, 11, 12, 11]])\n",
    " \n",
    "print('Original Array :' ,\n",
    "      arr2D, sep = '\\n')\n",
    " \n",
    "uniqueRows = np.unique(arr2D)  # there is no axis so it gives unique number only.it has axis means give the unique row\n",
    "                        \n",
    " \n",
    "# print the output result\n",
    "print('Unique Rows:',\n",
    "      uniqueRows, sep = '\\n')"
   ]
  },
  {
   "cell_type": "code",
   "execution_count": 69,
   "id": "705433e8-523d-48e7-af67-d720463c624e",
   "metadata": {},
   "outputs": [
    {
     "name": "stdout",
     "output_type": "stream",
     "text": [
      "Unique Rows:\n",
      "[[11 11 12 11]\n",
      " [13 11 12 11]\n",
      " [16 11 12 11]]\n"
     ]
    }
   ],
   "source": [
    "import numpy as np\n",
    " \n",
    "# Create a 2D numpy array\n",
    "arr2D = np.array([[11, 11, 12, 11],\n",
    "                     [13, 11, 12, 11],\n",
    "                     [16, 11, 12, 11],\n",
    "                     [11, 11, 12, 11]])\n",
    " \n",
    "uniqueRows = np.unique(arr2D, axis=0)\n",
    "                        \n",
    " \n",
    "# print the output result\n",
    "print('Unique Rows:',\n",
    "      uniqueRows, sep = '\\n')"
   ]
  },
  {
   "cell_type": "code",
   "execution_count": 72,
   "id": "d475d203-c24a-4b9c-91b4-01f0d975f61c",
   "metadata": {},
   "outputs": [
    {
     "name": "stdout",
     "output_type": "stream",
     "text": [
      "Unique Rows:\n",
      "[[11 11 12]\n",
      " [11 13 12]\n",
      " [11 16 12]\n",
      " [11 11 12]]\n"
     ]
    }
   ],
   "source": [
    "# import library\n",
    "import numpy as np\n",
    " \n",
    "# Create a 2D numpy array\n",
    "arr2D = np.array([[11, 11, 12, 11],\n",
    "                     [13, 11, 12, 11],\n",
    "                     [16, 11, 12, 11],\n",
    "                     [11, 11, 12, 11]])\n",
    " \n",
    "uniqueRows = np.unique(arr2D, axis=1)\n",
    "                        \n",
    " \n",
    "# print the output result\n",
    "print('Unique Rows:',\n",
    "      uniqueRows, sep = '\\n')"
   ]
  },
  {
   "cell_type": "code",
   "execution_count": 73,
   "id": "c1a2e5ab-0bb8-4e46-9be7-13d7f2060c0c",
   "metadata": {},
   "outputs": [
    {
     "name": "stdout",
     "output_type": "stream",
     "text": [
      "Unique Rows:\n",
      "(array([11, 12, 13, 16]), array([0, 2, 4, 8], dtype=int64))\n"
     ]
    }
   ],
   "source": [
    "import numpy as np\n",
    " \n",
    "# Create a 2D numpy array\n",
    "arr2D = np.array([[11, 11, 12, 11],\n",
    "                     [13, 11, 12, 11],\n",
    "                     [16, 11, 12, 11],\n",
    "                     [11, 11, 12, 11]])\n",
    " \n",
    "uniqueRows = np.unique(arr2D, return_index=True)\n",
    "                        \n",
    " \n",
    "# print the output result\n",
    "print('Unique Rows:',\n",
    "      uniqueRows, sep = '\\n')"
   ]
  },
  {
   "cell_type": "code",
   "execution_count": 74,
   "id": "73340f6f-a039-477b-853d-451144f3595c",
   "metadata": {},
   "outputs": [
    {
     "name": "stdout",
     "output_type": "stream",
     "text": [
      "Unique Rows:\n",
      "(array([11, 12, 13, 16]), array([0, 0, 1, 0, 2, 0, 1, 0, 3, 0, 1, 0, 0, 0, 1, 0], dtype=int64))\n"
     ]
    }
   ],
   "source": [
    "import numpy as np\n",
    " \n",
    "# Create a 2D numpy array\n",
    "arr2D = np.array([[11, 11, 12, 11],\n",
    "                     [13, 11, 12, 11],\n",
    "                     [16, 11, 12, 11],\n",
    "                     [11, 11, 12, 11]])\n",
    " \n",
    "uniqueRows = np.unique(arr2D, return_inverse=True)\n",
    "                        \n",
    " \n",
    "# print the output result\n",
    "print('Unique Rows:',\n",
    "      uniqueRows, sep = '\\n')"
   ]
  },
  {
   "cell_type": "markdown",
   "id": "f4f9bb68-ce9d-4cfa-bd0f-235de961b266",
   "metadata": {},
   "source": [
    "Numpy np.unique() method :"
   ]
  },
  {
   "cell_type": "code",
   "execution_count": 75,
   "id": "d9445820-8cb4-42b6-b258-c1df28aa128b",
   "metadata": {},
   "outputs": [
    {
     "name": "stdout",
     "output_type": "stream",
     "text": [
      "[1 2 3 4 6 8]\n"
     ]
    }
   ],
   "source": [
    "import numpy as np \n",
    "  \n",
    "a = [1, 2, 2, 4, 3, 6, 4, 8] \n",
    "  \n",
    "# using np.unique() method \n",
    "gfg = np.unique(a) \n",
    "  \n",
    "print(gfg) "
   ]
  },
  {
   "cell_type": "code",
   "execution_count": 76,
   "id": "8601cf12-35ed-4c5f-8eec-6e497799222e",
   "metadata": {},
   "outputs": [
    {
     "name": "stdout",
     "output_type": "stream",
     "text": [
      "[ 1.   3.6  5.  10.  10.2 14.8 15.  21.4]\n"
     ]
    }
   ],
   "source": [
    "import numpy as np \n",
    "  \n",
    "a = [[10.2, 21.4, 3.6, 14.8], [1.0, 5.0, 10.0, 15.0]] \n",
    "  \n",
    "# using np.unique() method \n",
    "gfg = np.unique(a) \n",
    "  \n",
    "print(gfg) "
   ]
  },
  {
   "cell_type": "markdown",
   "id": "e1e79b4a-471c-4bbc-bf92-324b0a5f6adc",
   "metadata": {},
   "source": [
    "numpy.trim_zeros() in Python :"
   ]
  },
  {
   "cell_type": "code",
   "execution_count": 77,
   "id": "67506f6c-9be3-4b68-b1d0-b01b29fa7677",
   "metadata": {},
   "outputs": [
    {
     "name": "stdout",
     "output_type": "stream",
     "text": [
      "[ 1  5  7  0  6  2  9  0 10]\n"
     ]
    }
   ],
   "source": [
    "import numpy as geek  \n",
    "  \n",
    "gfg = geek.array((0, 0, 0, 0, 1, 5, 7, 0, 6, 2, 9, 0, 10, 0, 0)) \n",
    "  \n",
    "# without trim parameter \n",
    "# returns an array without leading and trailing zeros  \n",
    "  \n",
    "res = geek.trim_zeros(gfg) \n",
    "print(res) "
   ]
  },
  {
   "cell_type": "code",
   "execution_count": 78,
   "id": "6cc1b802-f8a6-4384-add2-722485e4d8ca",
   "metadata": {},
   "outputs": [
    {
     "name": "stdout",
     "output_type": "stream",
     "text": [
      "[ 1  5  7  0  6  2  9  0 10  0  0]\n"
     ]
    }
   ],
   "source": [
    "import numpy as geek  \n",
    "gfg = geek.array((0, 0, 0, 0, 1, 5, 7, 0, 6, 2, 9, 0, 10, 0, 0)) \n",
    "  \n",
    "# without trim parameter \n",
    "# returns an array without any leading  zeros  \n",
    "  \n",
    "res = geek.trim_zeros(gfg, 'f') \n",
    "print(res) "
   ]
  },
  {
   "cell_type": "code",
   "execution_count": 79,
   "id": "2bcfebc8-9176-4e0d-aa9b-0493cbbae0fe",
   "metadata": {},
   "outputs": [
    {
     "name": "stdout",
     "output_type": "stream",
     "text": [
      "[ 0  0  0  0  1  5  7  0  6  2  9  0 10]\n"
     ]
    }
   ],
   "source": [
    "import numpy as geek  \n",
    "gfg = geek.array((0, 0, 0, 0, 1, 5, 7, 0, 6, 2, 9, 0, 10, 0, 0)) \n",
    "  \n",
    "# without trim parameter \n",
    "# returns an array without any trailing  zeros  \n",
    "  \n",
    "res = geek.trim_zeros(gfg, 'b') \n",
    "print(res) "
   ]
  },
  {
   "cell_type": "code",
   "execution_count": null,
   "id": "fe886625-476f-4449-8cf9-3ba6e857b3ab",
   "metadata": {},
   "outputs": [],
   "source": []
  }
 ],
 "metadata": {
  "kernelspec": {
   "display_name": "Python 3 (ipykernel)",
   "language": "python",
   "name": "python3"
  },
  "language_info": {
   "codemirror_mode": {
    "name": "ipython",
    "version": 3
   },
   "file_extension": ".py",
   "mimetype": "text/x-python",
   "name": "python",
   "nbconvert_exporter": "python",
   "pygments_lexer": "ipython3",
   "version": "3.11.7"
  }
 },
 "nbformat": 4,
 "nbformat_minor": 5
}
