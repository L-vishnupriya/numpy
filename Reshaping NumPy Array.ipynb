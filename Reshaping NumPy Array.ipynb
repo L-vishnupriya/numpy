{
 "cells": [
  {
   "cell_type": "markdown",
   "id": "74428c31-3cfb-48d3-85da-0a82ff0fd36e",
   "metadata": {},
   "source": [
    "Reshape NumPy Array :"
   ]
  },
  {
   "cell_type": "code",
   "execution_count": 1,
   "id": "d2222d0b-f3a1-4fd0-8415-3e3e3ed4bb45",
   "metadata": {},
   "outputs": [
    {
     "name": "stdout",
     "output_type": "stream",
     "text": [
      "Array : [ 1  2  3  4  5  6  7  8  9 10 11 12 13 14 15 16]\n",
      "First Reshaped Array : \n",
      "[[ 1  2  3  4]\n",
      " [ 5  6  7  8]\n",
      " [ 9 10 11 12]\n",
      " [13 14 15 16]]\n",
      "Second Reshaped Array : \n",
      "[[ 1  2  3  4  5  6  7  8]\n",
      " [ 9 10 11 12 13 14 15 16]]\n"
     ]
    }
   ],
   "source": [
    "# importing numpy\n",
    "import numpy as np\n",
    "\n",
    "# creating a numpy array\n",
    "array = np.array([1, 2, 3, 4, 5, 6, 7, 8, 9, 10, 11, 12, 13, 14, 15, 16])\n",
    "\n",
    "# printing array\n",
    "print(\"Array : \" + str(array))\n",
    "\n",
    "# length of array\n",
    "n = array.size\n",
    "\n",
    "# N-D array N dimension\n",
    "N = 4\n",
    "\n",
    "# calculating M\n",
    "M = n//N\n",
    "\n",
    "# reshaping numpy array\n",
    "# converting it to 2-D from 1-D array\n",
    "reshaped1 = array.reshape((N, M))\n",
    "\n",
    "# printing reshaped array\n",
    "print(\"First Reshaped Array : \")\n",
    "print(reshaped1)\n",
    "\n",
    "# creating another reshaped array\n",
    "reshaped2 = np.reshape(array, (2, 8))\n",
    "\n",
    "# printing reshaped array\n",
    "print(\"Second Reshaped Array : \")\n",
    "print(reshaped2)\n"
   ]
  },
  {
   "cell_type": "code",
   "execution_count": 2,
   "id": "1e963978-55cd-4541-b142-a16ff0145d5b",
   "metadata": {},
   "outputs": [
    {
     "name": "stdout",
     "output_type": "stream",
     "text": [
      "Array : [ 1  2  3  4  5  6  7  8  9 10 11 12 13 14 15 16]\n",
      "Reshaped 3-D Array : \n",
      "[[[ 1  2  3  4]\n",
      "  [ 5  6  7  8]]\n",
      "\n",
      " [[ 9 10 11 12]\n",
      "  [13 14 15 16]]]\n"
     ]
    }
   ],
   "source": [
    "# importing numpy\n",
    "import numpy as np\n",
    "\n",
    "# creating a numpy array\n",
    "array = np.array([1, 2, 3, 4, 5, 6, 7, 8, 9, 10, 11, 12, 13, 14, 15, 16])\n",
    "\n",
    "# printing array\n",
    "print(\"Array : \" + str(array))\n",
    "\n",
    "\n",
    "# reshaping numpy array\n",
    "# converting it to 3-D from 1-D array\n",
    "reshaped = array.reshape((2, 2, 4))\n",
    "\n",
    "# printing reshaped array\n",
    "print(\"Reshaped 3-D Array : \")\n",
    "print(reshaped)\n"
   ]
  },
  {
   "cell_type": "code",
   "execution_count": 3,
   "id": "db33e4aa-74ba-4575-886a-3c2c47f8d898",
   "metadata": {},
   "outputs": [
    {
     "name": "stdout",
     "output_type": "stream",
     "text": [
      " 2-D Array : \n",
      "[[1 2 3]\n",
      " [4 5 6]\n",
      " [7 8 9]]\n",
      "Reshaped 1-D Array : \n",
      "[1 2 3 4 5 6 7 8 9]\n"
     ]
    }
   ],
   "source": [
    "# importing numpy\n",
    "import numpy as np\n",
    "\n",
    "# creating a numpy array\n",
    "array = np.array([[1, 2, 3],\n",
    "\t\t\t\t[4, 5, 6],\n",
    "\t\t\t\t[7, 8, 9]])\n",
    "\n",
    "# printing array\n",
    "print(\" 2-D Array : \")\n",
    "print(array)\n",
    "\n",
    "\n",
    "# reshaping numpy array\n",
    "# converting it to 1-D from 2-D array\n",
    "reshaped = array.reshape((9))\n",
    "\n",
    "# or we can use unknown dimension\n",
    "# reshaped = array.reshape((-1))\n",
    "\n",
    "# printing reshaped array\n",
    "print(\"Reshaped 1-D Array : \")\n",
    "print(reshaped)\n"
   ]
  },
  {
   "cell_type": "code",
   "execution_count": 4,
   "id": "14961296-dca7-45a9-9a58-0e461dbe30ca",
   "metadata": {},
   "outputs": [
    {
     "name": "stdout",
     "output_type": "stream",
     "text": [
      "Array : [ 1  2  3  4  5  6  7  8  9 10 11 12 13 14 15 16]\n",
      "First Reshaped Array : \n",
      "[[[ 1  2  3  4]\n",
      "  [ 5  6  7  8]]\n",
      "\n",
      " [[ 9 10 11 12]\n",
      "  [13 14 15 16]]]\n",
      "Second Reshaped Array : \n",
      "[[ 1  2  3  4]\n",
      " [ 5  6  7  8]\n",
      " [ 9 10 11 12]\n",
      " [13 14 15 16]]\n"
     ]
    }
   ],
   "source": [
    "# importing numpy\n",
    "import numpy as np\n",
    "\n",
    "# creating a numpy array\n",
    "array = np.array([1, 2, 3, 4, 5, 6, 7, 8, 9, 10, 11, 12, 13, 14, 15, 16])\n",
    "\n",
    "# printing array\n",
    "print(\"Array : \" + str(array))\n",
    "\n",
    "\n",
    "# reshaping numpy array\n",
    "# converting it to 3-D from 1-D array\n",
    "reshaped1 = array.reshape((2, 2, -1))\n",
    "\n",
    "# printing reshaped array\n",
    "print(\"First Reshaped Array : \")\n",
    "print(reshaped1)\n",
    "\n",
    "\n",
    "# converting it to 2-D array\n",
    "reshaped2 = array.reshape((4, -1))\n",
    "\n",
    "# printing reshaped array\n",
    "print(\"Second Reshaped Array : \")\n",
    "print(reshaped2)\n"
   ]
  },
  {
   "cell_type": "markdown",
   "id": "f498bb87-db30-44ef-bfc4-8fa3313f3987",
   "metadata": {},
   "source": [
    " Numpy matrix.resize() :"
   ]
  },
  {
   "cell_type": "code",
   "execution_count": 12,
   "id": "ca8cace8-2ac9-4d61-95ae-615377f83dac",
   "metadata": {},
   "outputs": [
    {
     "name": "stdout",
     "output_type": "stream",
     "text": [
      "[[64  1 12  3]]\n"
     ]
    }
   ],
   "source": [
    "# import the important module in python \n",
    "import numpy as np \n",
    "\t\t\n",
    "# make matrix with numpy \n",
    "gfg = np.matrix('[64, 1; 12, 3]') \n",
    "\t\t\n",
    "# applying matrix.resize() method \n",
    "gfg.resize((1, 4)) \n",
    "\t\n",
    "print(gfg) \n"
   ]
  },
  {
   "cell_type": "code",
   "execution_count": 14,
   "id": "38a3207c-3da1-47cf-b44e-882b2cf2bfe9",
   "metadata": {},
   "outputs": [
    {
     "name": "stdout",
     "output_type": "stream",
     "text": [
      "[[1 2 4]\n",
      " [5 7 8]]\n"
     ]
    }
   ],
   "source": [
    "# import the important module in python \n",
    "import numpy as np \n",
    "\t\t\n",
    "# make a matrix with numpy \n",
    "g = np.matrix('[1, 2; 4, 5; 7, 8]') \n",
    "\t\t\n",
    "# applying matrix.resize() method \n",
    "g.resize((2, 3)) \n",
    "\t\n",
    "print(g) \n"
   ]
  },
  {
   "cell_type": "markdown",
   "id": "72291d68-c2c9-4594-bfe1-bd88197cb9e6",
   "metadata": {},
   "source": [
    "Numpy matrix.reshape() :"
   ]
  },
  {
   "cell_type": "code",
   "execution_count": 15,
   "id": "e52fc58d-6612-4ce1-95bd-1884a3bd5df2",
   "metadata": {},
   "outputs": [
    {
     "name": "stdout",
     "output_type": "stream",
     "text": [
      "[[64  1 12  3]]\n"
     ]
    }
   ],
   "source": [
    "# import the important module in python \n",
    "import numpy as np \n",
    "\t\t\n",
    "# make matrix with numpy \n",
    "gfg = np.matrix('[64, 1; 12, 3]') \n",
    "\t\t\n",
    "# applying matrix.reshape() method \n",
    "geeks = gfg.reshape((1, 4)) \n",
    "\t\n",
    "print(geeks) \n"
   ]
  },
  {
   "cell_type": "code",
   "execution_count": 16,
   "id": "bd19dd61-960a-44f0-90a5-69c7f1390e4f",
   "metadata": {},
   "outputs": [
    {
     "name": "stdout",
     "output_type": "stream",
     "text": [
      "[[1 2 4]\n",
      " [5 7 8]]\n"
     ]
    }
   ],
   "source": [
    "# import the important module in python \n",
    "import numpy as np \n",
    "\t\t\n",
    "# make a matrix with numpy \n",
    "gfg = np.matrix('[1, 2; 4, 5; 7, 8]') \n",
    "\t\t\n",
    "# applying matrix.reshape() method \n",
    "geeks = gfg.reshape((2, 3)) \n",
    "\t\n",
    "print(geeks) \n"
   ]
  },
  {
   "cell_type": "markdown",
   "id": "48e0f582-3756-4950-8125-f8b915578d81",
   "metadata": {},
   "source": [
    "NumPy Array Shape :"
   ]
  },
  {
   "cell_type": "code",
   "execution_count": 17,
   "id": "52c4343c-10a1-46cd-8136-d05d3523e9c1",
   "metadata": {},
   "outputs": [
    {
     "name": "stdout",
     "output_type": "stream",
     "text": [
      "(2, 4)\n",
      "(2, 2, 2)\n"
     ]
    }
   ],
   "source": [
    "import numpy as npy\n",
    "\n",
    "# creating a 2-d array\n",
    "arr1 = npy.array([[1, 3, 5, 7], [2, 4, 6, 8]])\n",
    "\n",
    "# creating a 3-d array\n",
    "arr2 = npy.array([[[1, 2], [3, 4]], [[5, 6], [7, 8]]])\n",
    "\n",
    "print(arr1.shape)\n",
    "print(arr2.shape)\n"
   ]
  },
  {
   "cell_type": "code",
   "execution_count": 18,
   "id": "d7dfd3d5-0f98-485b-9a32-2be6dce9af3f",
   "metadata": {},
   "outputs": [
    {
     "name": "stdout",
     "output_type": "stream",
     "text": [
      "[[[[[[ 2  4  6  8 10]]]]]]\n",
      "shape of an array : (1, 1, 1, 1, 1, 5)\n"
     ]
    }
   ],
   "source": [
    "import numpy as npy\n",
    "\n",
    "# creating an array of 6 dimension\n",
    "# using ndim\n",
    "arr = npy.array([2, 4, 6, 8, 10], ndmin=6)\n",
    "\n",
    "# printing array\n",
    "print(arr)\n",
    "\n",
    "# verifying the value of last dimension\n",
    "# as 5\n",
    "print('shape of an array :', arr.shape)\n"
   ]
  },
  {
   "cell_type": "code",
   "execution_count": 19,
   "id": "41425f79-d0e5-4bcf-bf27-11f528c35e67",
   "metadata": {},
   "outputs": [
    {
     "name": "stdout",
     "output_type": "stream",
     "text": [
      "Array of Tuples:\n",
      "[[1 2]\n",
      " [3 4]\n",
      " [5 6]\n",
      " [7 8]]\n",
      "\n",
      "Shape of Array: (4, 2)\n"
     ]
    }
   ],
   "source": [
    "import numpy as np\n",
    "\n",
    "# Create an array of tuples\n",
    "array_of_tuples = np.array([(1, 2), (3, 4), (5, 6), (7, 8)])\n",
    "\n",
    "# Display the array\n",
    "print(\"Array of Tuples:\")\n",
    "print(array_of_tuples)\n",
    "\n",
    "# Determine and display the shape\n",
    "shape = array_of_tuples.shape\n",
    "print(\"\\nShape of Array:\", shape)\n"
   ]
  },
  {
   "cell_type": "markdown",
   "id": "f08481dc-a450-457e-8554-79e1b14e69f5",
   "metadata": {},
   "source": [
    "Change the dimension of a NumPy array :"
   ]
  },
  {
   "cell_type": "code",
   "execution_count": 20,
   "id": "322215b3-1fb2-4765-afd6-1cd9723db2cb",
   "metadata": {},
   "outputs": [
    {
     "name": "stdout",
     "output_type": "stream",
     "text": [
      "Initialised array\n",
      "[1 2 3 4]\n",
      "current shape of the array\n",
      "(4,)\n",
      "changing shape to 2,2\n",
      "[[1 2]\n",
      " [3 4]]\n"
     ]
    }
   ],
   "source": [
    "# importing numpy\n",
    "import numpy as np\n",
    "\n",
    "\n",
    "def main():\n",
    "\n",
    "\t# initialising array\n",
    "\tprint('Initialised array')\n",
    "\tgfg = np.array([1, 2, 3, 4])\n",
    "\tprint(gfg)\n",
    "\n",
    "\t# checking current shape\n",
    "\tprint('current shape of the array')\n",
    "\tprint(gfg.shape)\n",
    "\t\n",
    "\t# modifying array according to new dimensions\n",
    "\tprint('changing shape to 2,2')\n",
    "\tgfg.shape = (2, 2)\n",
    "\tprint(gfg)\n",
    "\n",
    "if __name__ == \"__main__\":\n",
    "\tmain()\n"
   ]
  },
  {
   "cell_type": "code",
   "execution_count": 21,
   "id": "8a6f36e5-6cc8-4921-87ed-719fc67f1d00",
   "metadata": {},
   "outputs": [
    {
     "name": "stdout",
     "output_type": "stream",
     "text": [
      "initialised array\n",
      "[1 2 3 4 5 6 7 8 9]\n",
      "3x3 order C array\n",
      "[[1 2 3]\n",
      " [4 5 6]\n",
      " [7 8 9]]\n",
      "3x3 order F array\n",
      "[[1 4 7]\n",
      " [2 5 8]\n",
      " [3 6 9]]\n",
      "3x3 order A array\n",
      "[[1 2 3]\n",
      " [4 5 6]\n",
      " [7 8 9]]\n"
     ]
    }
   ],
   "source": [
    "# importing numpy\n",
    "import numpy as np\n",
    "\n",
    "\n",
    "def main():\n",
    "\n",
    "\t# initialising array\n",
    "\tgfg = np.arange(1, 10)\n",
    "\tprint('initialised array')\n",
    "\tprint(gfg)\n",
    "\t\n",
    "\t# reshaping array into a 3x3 with order C\n",
    "\tprint('3x3 order C array')\n",
    "\tprint(np.reshape(gfg, (3, 3), order='C'))\n",
    "\n",
    "\t# reshaping array into a 3x3 with order F\n",
    "\tprint('3x3 order F array')\n",
    "\tprint(np.reshape(gfg, (3, 3), order='F'))\n",
    "\n",
    "\t# reshaping array into a 3x3 with order A\n",
    "\tprint('3x3 order A array')\n",
    "\tprint(np.reshape(gfg, (3, 3), order='A'))\n",
    "\n",
    "\n",
    "if __name__ == \"__main__\":\n",
    "\tmain()\n"
   ]
  },
  {
   "cell_type": "code",
   "execution_count": 22,
   "id": "9defd997-4889-4a76-a7d5-5a68b3fde6ec",
   "metadata": {},
   "outputs": [
    {
     "name": "stdout",
     "output_type": "stream",
     "text": [
      "initialised array\n",
      "[1 2 3 4 5 6 7 8 9]\n",
      "3x3 array\n",
      "[[1 2 3]\n",
      " [4 5 6]\n",
      " [7 8 9]]\n",
      "4x4 array\n",
      "[[1 2 3 4]\n",
      " [5 6 7 8]\n",
      " [9 1 2 3]\n",
      " [4 5 6 7]]\n",
      "5x5 array\n",
      "[[1 2 3 4 5]\n",
      " [6 7 8 9 0]\n",
      " [0 0 0 0 0]\n",
      " [0 0 0 0 0]\n",
      " [0 0 0 0 0]]\n"
     ]
    }
   ],
   "source": [
    "# importing numpy\n",
    "import numpy as np\n",
    "\n",
    "\n",
    "def main():\n",
    "\n",
    "\t# initialise array\n",
    "\tgfg = np.arange(1, 10)\n",
    "\tprint('initialised array')\n",
    "\tprint(gfg)\n",
    "\t\n",
    "\t# resized array with dimensions in\n",
    "\t# range of original array\n",
    "\tgfg1=np.resize(gfg, (3, 3))\n",
    "\tprint('3x3 array')\n",
    "\tprint(gfg1)\n",
    "\t\n",
    "\t# resized array with dimensions larger than\n",
    "\t# original array\n",
    "\tgfg2=np.resize(gfg, (4, 4))\n",
    "\t\n",
    "\t# extra spaces will be filled with repeated\n",
    "\t# copies of original array\n",
    "\tprint('4x4 array')\n",
    "\tprint(gfg2)\n",
    "\t\n",
    "\t# resize array with dimensions larger than \n",
    "\t# original array\n",
    "\tgfg.resize(5, 5)\n",
    "\t\n",
    "\t# extra spaces will be filled with zeros\n",
    "\tprint('5x5 array')\n",
    "\tprint(gfg)\n",
    "\n",
    "\n",
    "if __name__ == \"__main__\":\n",
    "\tmain()\n"
   ]
  },
  {
   "cell_type": "markdown",
   "id": "594da8da-d96d-4be7-b4d0-dc656befaa2c",
   "metadata": {},
   "source": [
    "numpy.ndarray.resize() function :"
   ]
  },
  {
   "cell_type": "code",
   "execution_count": 23,
   "id": "d0aa6aba-324a-4a31-947d-d0f8172c2422",
   "metadata": {},
   "outputs": [
    {
     "name": "stdout",
     "output_type": "stream",
     "text": [
      "None\n"
     ]
    }
   ],
   "source": [
    "# Python program explaining \n",
    "# numpy.ndarray.resize() function \n",
    "\t\t\n",
    "# importing numpy as geek \n",
    "import numpy as geek \n",
    "\t\n",
    "arr = geek.array([[0, 1], [2, 3]]) \n",
    "\n",
    "# this function change the shape and size \n",
    "# of the array & return None \n",
    "gfg = arr.resize((2, 1)) \n",
    "\n",
    "print (gfg) \n"
   ]
  },
  {
   "cell_type": "code",
   "execution_count": 24,
   "id": "6d76c0a9-9db0-429f-98a7-04adce6c7746",
   "metadata": {},
   "outputs": [
    {
     "name": "stdout",
     "output_type": "stream",
     "text": [
      "None\n"
     ]
    }
   ],
   "source": [
    "# Python program explaining \n",
    "# numpy.ndarray.resize() function \n",
    "\t\t\n",
    "# importing numpy as geek \n",
    "import numpy as geek \n",
    "\t\n",
    "arr = geek.array([[0, 1], [2, 3]], order = 'F') \n",
    "\n",
    "# this function change the shape and size \n",
    "# of the array & return None \n",
    "gfg = arr.resize((2, 1)) \n",
    "\n",
    "print (gfg) \n"
   ]
  },
  {
   "cell_type": "markdown",
   "id": "2cc14547-57bd-4821-82dc-3542e9fa031e",
   "metadata": {},
   "source": [
    "Flatten a Matrix in Python using NumPy :"
   ]
  },
  {
   "cell_type": "code",
   "execution_count": 25,
   "id": "e2040c54-04a2-487d-9493-5abda397b676",
   "metadata": {},
   "outputs": [
    {
     "name": "stdout",
     "output_type": "stream",
     "text": [
      "[2 3 4 5]\n"
     ]
    }
   ],
   "source": [
    "# importing numpy as np \n",
    "import numpy as np \n",
    "\n",
    "# declare matrix with np \n",
    "gfg = np.array([[2, 3], [4, 5]]) \n",
    "\n",
    "# using array.flatten() method \n",
    "flat_gfg = gfg.flatten() \n",
    "print(flat_gfg) \n"
   ]
  },
  {
   "cell_type": "code",
   "execution_count": 26,
   "id": "931c06f6-f289-42a9-ba8e-4c6f82da8d13",
   "metadata": {},
   "outputs": [
    {
     "data": {
      "text/plain": [
       "array([ 6,  9,  8,  5, 18, 21])"
      ]
     },
     "execution_count": 26,
     "metadata": {},
     "output_type": "execute_result"
    }
   ],
   "source": [
    "# importing numpy as np \n",
    "import numpy as np \n",
    "\n",
    "# declare matrix with np \n",
    "gfg = np.array([[6, 9], [8, 5], [18, 21]]) \n",
    "\n",
    "# using array.flatten() method \n",
    "gfg.flatten() \n"
   ]
  },
  {
   "cell_type": "code",
   "execution_count": 27,
   "id": "c22524f7-6730-463c-a008-67bb58c5f3a0",
   "metadata": {},
   "outputs": [
    {
     "name": "stdout",
     "output_type": "stream",
     "text": [
      "[ 6  9 12  8  5  2 18 21 24]\n"
     ]
    }
   ],
   "source": [
    "# importing numpy as np \n",
    "import numpy as np \n",
    "\n",
    "# declare matrix with np \n",
    "gfg = np.array([[6, 9, 12], [8, 5, 2], [18, 21, 24]]) \n",
    "\n",
    "# using array.flatten() method \n",
    "flat_gfg = gfg.flatten(order='A') \n",
    "print(flat_gfg) \n"
   ]
  },
  {
   "cell_type": "markdown",
   "id": "40f65c1a-1907-4def-ad64-ae38a5c38d5d",
   "metadata": {},
   "source": [
    "numpy.moveaxis() function :"
   ]
  },
  {
   "cell_type": "code",
   "execution_count": 28,
   "id": "357a73ad-3c21-47b2-a4ab-77af01dc0ed1",
   "metadata": {},
   "outputs": [
    {
     "name": "stdout",
     "output_type": "stream",
     "text": [
      "(2, 3, 4, 1)\n"
     ]
    }
   ],
   "source": [
    "# Python program explaining \n",
    "# numpy.moveaxis() function \n",
    "\n",
    "# importing numpy as geek \n",
    "import numpy as geek \n",
    "\n",
    "arr = geek.zeros((1, 2, 3, 4)) \n",
    "\n",
    "gfg = geek.moveaxis(arr, 0, -1).shape \n",
    "\n",
    "print (gfg) \n"
   ]
  },
  {
   "cell_type": "code",
   "execution_count": 29,
   "id": "b755397b-1d2d-4b9b-b085-874797c805fa",
   "metadata": {},
   "outputs": [
    {
     "name": "stdout",
     "output_type": "stream",
     "text": [
      "(4, 1, 2, 3)\n"
     ]
    }
   ],
   "source": [
    "# Python program explaining \n",
    "# numpy.moveaxis() function \n",
    "\n",
    "# importing numpy as geek \n",
    "import numpy as geek \n",
    "\n",
    "arr = geek.zeros((1, 2, 3, 4)) \n",
    "\n",
    "gfg = geek.moveaxis(arr, -1, 0).shape \n",
    "\n",
    "print (gfg) \n"
   ]
  },
  {
   "cell_type": "markdown",
   "id": "d6b0ed0d-6d86-4283-b14c-7993966d1ece",
   "metadata": {},
   "source": [
    "numpy.swapaxes() function :"
   ]
  },
  {
   "cell_type": "code",
   "execution_count": 30,
   "id": "28e1b563-121d-4f55-938f-9d37005af7cf",
   "metadata": {},
   "outputs": [
    {
     "name": "stdout",
     "output_type": "stream",
     "text": [
      "[[2]\n",
      " [4]\n",
      " [6]]\n"
     ]
    }
   ],
   "source": [
    "# Python program explaining \n",
    "# numpy.swapaxes() function \n",
    "\n",
    "# importing numpy as geek \n",
    "import numpy as geek \n",
    "\n",
    "arr = geek.array([[2, 4, 6]]) \n",
    "\n",
    "gfg = geek.swapaxes(arr, 0, 1) \n",
    "\n",
    "print (gfg) \n"
   ]
  },
  {
   "cell_type": "code",
   "execution_count": 31,
   "id": "9f5610e7-67b6-423d-88b1-41cdbbbd87df",
   "metadata": {},
   "outputs": [
    {
     "name": "stdout",
     "output_type": "stream",
     "text": [
      "[[[0 4]\n",
      "  [2 6]]\n",
      "\n",
      " [[1 5]\n",
      "  [3 7]]]\n"
     ]
    }
   ],
   "source": [
    "# Python program explaining \n",
    "# numpy.swapaxes() function \n",
    "\n",
    "# importing numpy as geek \n",
    "import numpy as geek \n",
    "\n",
    "arr = geek.array([[[0, 1], [2, 3]], [[4, 5], [6, 7]]]) \n",
    "\n",
    "gfg = geek.swapaxes(arr, 0, 2) \n",
    "\n",
    "print (gfg) \n"
   ]
  },
  {
   "cell_type": "markdown",
   "id": "2c359167-ebaf-4f09-b617-a861bcf8edcc",
   "metadata": {},
   "source": [
    "Numpy matrix.swapaxes() :"
   ]
  },
  {
   "cell_type": "code",
   "execution_count": 32,
   "id": "73af4ba8-f867-4349-8a9e-c1cdbae836c9",
   "metadata": {},
   "outputs": [
    {
     "name": "stdout",
     "output_type": "stream",
     "text": [
      "[[ 4 12]\n",
      " [ 1  3]]\n"
     ]
    }
   ],
   "source": [
    "# import the important module in python \n",
    "import numpy as np \n",
    "\t\t\t\n",
    "# make matrix with numpy \n",
    "gfg = np.matrix('[4, 1; 12, 3]') \n",
    "\t\t\t\n",
    "# applying matrix.swapaxes() method \n",
    "geek = gfg.swapaxes(0, 1) \n",
    "\n",
    "print(geek) \n"
   ]
  },
  {
   "cell_type": "code",
   "execution_count": 33,
   "id": "c19aca1d-8742-4ba6-8cae-cca50ed21799",
   "metadata": {},
   "outputs": [
    {
     "name": "stdout",
     "output_type": "stream",
     "text": [
      "[[ 4  1  9]\n",
      " [12  3  1]\n",
      " [ 4  5  6]]\n"
     ]
    }
   ],
   "source": [
    "# import the important module in python \n",
    "import numpy as np \n",
    "\t\t\t\n",
    "# make matrix with numpy \n",
    "gfg = np.matrix('[4, 1, 9; 12, 3, 1; 4, 5, 6]') \n",
    "\t\t\t\n",
    "# applying matrix.swapaxes() method \n",
    "geek = gfg.swapaxes(1, 1) \n",
    "\n",
    "print(geek) \n"
   ]
  },
  {
   "cell_type": "markdown",
   "id": "e9abe316-327b-480c-8336-ebcdfb691ccf",
   "metadata": {},
   "source": [
    "numpy.vsplit() function :"
   ]
  },
  {
   "cell_type": "code",
   "execution_count": 34,
   "id": "0e0bddda-e9e4-48be-a250-6f7322f17b26",
   "metadata": {},
   "outputs": [
    {
     "name": "stdout",
     "output_type": "stream",
     "text": [
      "[array([[0., 1., 2.],\n",
      "       [3., 4., 5.],\n",
      "       [6., 7., 8.]])]\n"
     ]
    }
   ],
   "source": [
    "# Python program explaining \n",
    "# numpy.vsplit() function \n",
    "\n",
    "# importing numpy as geek \n",
    "import numpy as geek \n",
    "\n",
    "arr = geek.arange(9.0).reshape(3, 3) \n",
    "\n",
    "gfg = geek.vsplit(arr, 1) \n",
    "\n",
    "print (gfg) \n"
   ]
  },
  {
   "cell_type": "code",
   "execution_count": 35,
   "id": "9358443d-bd36-4b04-8d88-f3da09565ba7",
   "metadata": {},
   "outputs": [
    {
     "name": "stdout",
     "output_type": "stream",
     "text": [
      "[array([[ 0.,  1.,  2.,  3.,  4.,  5.],\n",
      "       [ 6.,  7.,  8.,  9., 10., 11.],\n",
      "       [12., 13., 14., 15., 16., 17.]]), array([[18., 19., 20., 21., 22., 23.],\n",
      "       [24., 25., 26., 27., 28., 29.],\n",
      "       [30., 31., 32., 33., 34., 35.]])]\n"
     ]
    }
   ],
   "source": [
    "# Python program explaining \n",
    "# numpy.vsplit() function \n",
    "\n",
    "# importing numpy as geek \n",
    "import numpy as geek \n",
    "\n",
    "arr = geek.arange(36.0).reshape(6, 6) \n",
    "\n",
    "gfg = geek.vsplit(arr, 2) \n",
    "\n",
    "print (gfg) \n"
   ]
  },
  {
   "cell_type": "markdown",
   "id": "c6d0b25d-f803-4e3a-bd73-acaab8215a6a",
   "metadata": {},
   "source": [
    "numpy.hsplit() function :"
   ]
  },
  {
   "cell_type": "code",
   "execution_count": 36,
   "id": "e265a594-b6ff-4705-a301-a5aa0485fa1f",
   "metadata": {},
   "outputs": [
    {
     "name": "stdout",
     "output_type": "stream",
     "text": [
      "[array([[ 0.,  1.],\n",
      "       [ 4.,  5.],\n",
      "       [ 8.,  9.],\n",
      "       [12., 13.]]), array([[ 2.,  3.],\n",
      "       [ 6.,  7.],\n",
      "       [10., 11.],\n",
      "       [14., 15.]])]\n"
     ]
    }
   ],
   "source": [
    "# Python program explaining \n",
    "# numpy.hsplit() function \n",
    "\n",
    "# importing numpy as geek \n",
    "import numpy as geek \n",
    "\n",
    "arr = geek.arange(16.0).reshape(4, 4) \n",
    "\n",
    "gfg = geek.hsplit(arr, 2) \n",
    "\n",
    "print (gfg) \n"
   ]
  },
  {
   "cell_type": "code",
   "execution_count": 37,
   "id": "b6c39c65-c88c-47af-b78d-c388a4be1c54",
   "metadata": {},
   "outputs": [
    {
     "name": "stdout",
     "output_type": "stream",
     "text": [
      "[array([[[ 0.,  1.,  2.],\n",
      "        [ 3.,  4.,  5.],\n",
      "        [ 6.,  7.,  8.]],\n",
      "\n",
      "       [[ 9., 10., 11.],\n",
      "        [12., 13., 14.],\n",
      "        [15., 16., 17.]],\n",
      "\n",
      "       [[18., 19., 20.],\n",
      "        [21., 22., 23.],\n",
      "        [24., 25., 26.]]])]\n"
     ]
    }
   ],
   "source": [
    "# Python program explaining \n",
    "# numpy.hsplit() function \n",
    "\n",
    "# importing numpy as geek \n",
    "import numpy as geek \n",
    "\n",
    "arr = geek.arange(27.0).reshape(3, 3, 3) \n",
    "\n",
    "gfg = geek.hsplit(arr, 1) \n",
    "\n",
    "print (gfg) \n"
   ]
  },
  {
   "cell_type": "markdown",
   "id": "6f8e747a-0047-47ae-9300-ce2e1bb19d7e",
   "metadata": {},
   "source": [
    "Numpy MaskedArray.reshape() function  :"
   ]
  },
  {
   "cell_type": "code",
   "execution_count": 38,
   "id": "379b1257-a858-439b-a017-d50fbc64b293",
   "metadata": {},
   "outputs": [
    {
     "name": "stdout",
     "output_type": "stream",
     "text": [
      "Input array :  [ 1  2  3 -1]\n",
      "Masked array :  [-- 2 -- -1]\n",
      "Output 2D masked array :  [[-- 2]\n",
      " [-- -1]]\n"
     ]
    }
   ],
   "source": [
    "# Python program explaining \n",
    "# numpy.MaskedArray.reshape() method \n",
    "\t\n",
    "# importing numpy as geek \n",
    "# and numpy.ma module as ma \n",
    "import numpy as geek \n",
    "import numpy.ma as ma \n",
    "\t\n",
    "# creating input array \n",
    "in_arr = geek.array([1, 2, 3, -1]) \n",
    "print (\"Input array : \", in_arr) \n",
    "\t\n",
    "# Now we are creating a masked array. \n",
    "# by making third entry as invalid. \n",
    "mask_arr = ma.masked_array(in_arr, mask =[1, 0, 1, 0]) \n",
    "print (\"Masked array : \", mask_arr) \n",
    "\t\n",
    "# applying MaskedArray.reshape methods to make \n",
    "# it a 2d masked array \n",
    "out_arr = mask_arr.reshape(2, 2) \n",
    "print (\"Output 2D masked array : \", out_arr) \n"
   ]
  },
  {
   "cell_type": "code",
   "execution_count": 39,
   "id": "53a95f74-1e1b-40ed-b070-1df1537bcc27",
   "metadata": {},
   "outputs": [
    {
     "name": "stdout",
     "output_type": "stream",
     "text": [
      "Input array :  [[[ 2.0e+08  3.0e-05]]\n",
      "\n",
      " [[-4.5e+01  2.0e+05]]]\n",
      "3D Masked array :  [[[-- 3e-05]]\n",
      "\n",
      " [[-45.0 200000.0]]]\n",
      "Output 2D masked array :  [[-- 3e-05 -45.0 200000.0]]\n",
      "\n",
      "Output 1D masked array :  [-- 3e-05 -45.0 200000.0]\n"
     ]
    }
   ],
   "source": [
    "# Python program explaining \n",
    "# numpy.MaskedArray.reshape() method \n",
    "\t\n",
    "# importing numpy as geek \n",
    "# and numpy.ma module as ma \n",
    "import numpy as geek \n",
    "import numpy.ma as ma \n",
    "\t\n",
    "# creating input array \n",
    "in_arr = geek.array([[[ 2e8, 3e-5]], [[ -45.0, 2e5]]]) \n",
    "print (\"Input array : \", in_arr) \n",
    "\t\n",
    "# Now we are creating a masked array. \n",
    "# by making one entry as invalid. \n",
    "mask_arr = ma.masked_array(in_arr, mask =[[[ 1, 0]], [[ 0, 0]]]) \n",
    "print (\"3D Masked array : \", mask_arr) \n",
    "\t\n",
    "# applying MaskedArray.reshape methods to make \n",
    "# it a 2d masked array \n",
    "out_arr = mask_arr.reshape(1, 4) \n",
    "print (\"Output 2D masked array : \", out_arr) \n",
    "print() \n",
    "\n",
    "# applying MaskedArray.reshape methods to make \n",
    "# it a 1d masked array \n",
    "out_arr = mask_arr.reshape(4, ) \n",
    "print (\"Output 1D masked array : \", out_arr) \n"
   ]
  },
  {
   "cell_type": "markdown",
   "id": "f9b5617c-3d33-4421-ae8f-5f3c66d1441b",
   "metadata": {},
   "source": [
    "Numpy matrix.squeeze() :"
   ]
  },
  {
   "cell_type": "code",
   "execution_count": 40,
   "id": "af5972e8-f6d0-4256-99ce-137100f4c77d",
   "metadata": {},
   "outputs": [
    {
     "name": "stdout",
     "output_type": "stream",
     "text": [
      "[[ 4 12]]\n"
     ]
    }
   ],
   "source": [
    "# import the important module in python \n",
    "import numpy as np \n",
    "\t\t\t\n",
    "# make matrix with numpy \n",
    "gfg = np.matrix('[[4], [12]]') \n",
    "\t\t\t\n",
    "# applying matrix.squeeze() method \n",
    "gfg.squeeze() \n",
    "\n",
    "print(gfg) \n"
   ]
  },
  {
   "cell_type": "code",
   "execution_count": 41,
   "id": "b84e3a52-bf9c-4e6c-92ae-0b261ff56b14",
   "metadata": {},
   "outputs": [
    {
     "name": "stdout",
     "output_type": "stream",
     "text": [
      "[[ 4  1  9]\n",
      " [12  3  1]\n",
      " [ 4  5  6]]\n"
     ]
    }
   ],
   "source": [
    "# import the important module in python \n",
    "import numpy as np \n",
    "\t\t\t\n",
    "# make matrix with numpy \n",
    "gfg = np.matrix('[4, 1, 9; 12, 3, 1; 4, 5, 6]') \n",
    "\t\t\t\n",
    "# applying matrix.squeeze() method \n",
    "gfg.squeeze() \n",
    "\n",
    "print(gfg) \n"
   ]
  },
  {
   "cell_type": "code",
   "execution_count": null,
   "id": "7f6bf244-5290-4d5b-8ac8-bb62e69385ad",
   "metadata": {},
   "outputs": [],
   "source": []
  }
 ],
 "metadata": {
  "kernelspec": {
   "display_name": "Python 3 (ipykernel)",
   "language": "python",
   "name": "python3"
  },
  "language_info": {
   "codemirror_mode": {
    "name": "ipython",
    "version": 3
   },
   "file_extension": ".py",
   "mimetype": "text/x-python",
   "name": "python",
   "nbconvert_exporter": "python",
   "pygments_lexer": "ipython3",
   "version": "3.11.7"
  }
 },
 "nbformat": 4,
 "nbformat_minor": 5
}
