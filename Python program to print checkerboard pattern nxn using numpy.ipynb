{
 "cells": [
  {
   "cell_type": "markdown",
   "id": "4ff3d4c1-fb6b-478e-adc0-246b68253f9b",
   "metadata": {},
   "source": [
    "Python program to print checkerboard pattern of nxn using numpy :"
   ]
  },
  {
   "cell_type": "markdown",
   "id": "c0942796-d526-4ec9-bf98-559a20f99c59",
   "metadata": {},
   "source": [
    "Given n, print the  checkerboard pattern for a n x n matrix  Checkerboard Pattern for n = 8: It consists of n * n squares of alternating 0 for white and 1 for black. \n",
    "\n",
    "We can do the same using nested for loops and some if conditions, but using Python’s numpy library, we can import a 2-D matrix and get the checkerboard pattern using slicing. W2’ll be using following python function to print pattern :\n",
    "\n",
    "x = np.zeros((n, n), dtype=int)\n",
    "\n",
    "\n",
    "Using this function, we initialize a 2-D matrix with 0’s at all index using numpy\n",
    "\n",
    "* x[1::2, ::2] = 1 : Slice from 1st index row till 1+2+2… and fill all columns with 1 starting from 0th to 0+2+2… and so on.\n",
    "* x[::2, 1::2] = 1 : Slice from 0th row till 0+2+2… and fill all columns with 1 starting from 1 to 1+2+2+…..\n",
    "\n",
    "Function of np.zeros((n, n), dtype=int) :\n",
    "\n",
    "Often, the elements of an array are originally unknown, but its size is known. Hence, NumPy offers several functions to create arrays with initial placeholder content. These minimize the necessity of growing arrays, an expensive operation. Using the dtype parameter initializes all the values with int data-type. For example: np.zeros, np.ones etc. "
   ]
  },
  {
   "cell_type": "code",
   "execution_count": 1,
   "id": "c253f7e2-151e-40c0-96a3-8b6707884378",
   "metadata": {},
   "outputs": [
    {
     "name": "stdout",
     "output_type": "stream",
     "text": [
      "Checkerboard pattern:\n",
      "0 1 0 1 0 1 0 1 \n",
      "1 0 1 0 1 0 1 0 \n",
      "0 1 0 1 0 1 0 1 \n",
      "1 0 1 0 1 0 1 0 \n",
      "0 1 0 1 0 1 0 1 \n",
      "1 0 1 0 1 0 1 0 \n",
      "0 1 0 1 0 1 0 1 \n",
      "1 0 1 0 1 0 1 0 \n"
     ]
    }
   ],
   "source": [
    "import numpy as np\n",
    "\n",
    "# function to print Checkerboard pattern\n",
    "def printcheckerboard(n):\n",
    "\tprint(\"Checkerboard pattern:\")\n",
    "\n",
    "\t# create a n * n matrix\n",
    "\tx = np.zeros((n, n), dtype=int)\n",
    "\n",
    "\t# fill with 1 the alternate cells in rows and columns\n",
    "\tx[1::2, ::2] = 1\n",
    "\tx[::2, 1::2] = 1\n",
    "\n",
    "\t# print the pattern\n",
    "\tfor i in range(n):\n",
    "\t\tfor j in range(n):\n",
    "\t\t\tprint(x[i][j], end=\" \")\n",
    "\t\tprint()\n",
    "\n",
    "# driver code\n",
    "n = 8\n",
    "printcheckerboard(n)\n"
   ]
  },
  {
   "cell_type": "code",
   "execution_count": 2,
   "id": "79b7bca7-d2c0-4663-99a3-c5d68a7a8669",
   "metadata": {},
   "outputs": [
    {
     "name": "stdout",
     "output_type": "stream",
     "text": [
      "[[0 1 0 1 0 1 0 1]\n",
      " [1 0 1 0 1 0 1 0]\n",
      " [0 1 0 1 0 1 0 1]\n",
      " [1 0 1 0 1 0 1 0]\n",
      " [0 1 0 1 0 1 0 1]\n",
      " [1 0 1 0 1 0 1 0]\n",
      " [0 1 0 1 0 1 0 1]\n",
      " [1 0 1 0 1 0 1 0]]\n"
     ]
    }
   ],
   "source": [
    "# Python program to print nXn Assuming that n \n",
    "# is always even as a checkerboard was\n",
    "\n",
    "import numpy as np\n",
    "def printcheckboard(n):\n",
    "\tfinal = []\n",
    "\tfor i in range(n):\n",
    "\t\tfinal.append(list(np.tile([0,1],int(n/2))) if i%2==0 else list(np.tile([1,0],int(n/2))))\n",
    "\tprint(np.array(final))\n",
    "\n",
    "\n",
    "# driver code\n",
    "n = 8\n",
    "printcheckboard(n)\n"
   ]
  },
  {
   "cell_type": "code",
   "execution_count": null,
   "id": "9c5fd5f3-c2d3-4304-835c-b380d3ddfc02",
   "metadata": {},
   "outputs": [],
   "source": []
  }
 ],
 "metadata": {
  "kernelspec": {
   "display_name": "Python 3 (ipykernel)",
   "language": "python",
   "name": "python3"
  },
  "language_info": {
   "codemirror_mode": {
    "name": "ipython",
    "version": 3
   },
   "file_extension": ".py",
   "mimetype": "text/x-python",
   "name": "python",
   "nbconvert_exporter": "python",
   "pygments_lexer": "ipython3",
   "version": "3.11.7"
  }
 },
 "nbformat": 4,
 "nbformat_minor": 5
}
