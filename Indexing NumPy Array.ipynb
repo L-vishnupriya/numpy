{
 "cells": [
  {
   "cell_type": "markdown",
   "id": "fa967909-dd35-496e-a3de-0f06ecf5b7d3",
   "metadata": {},
   "source": [
    "Basic Slicing and Advanced Indexing in NumPy :\n",
    "\n",
    "Indexing Using Index arrays :\n",
    "\n",
    "\n",
    "Indexing can be done in NumPy by using an array as an index.\n",
    "\n",
    "Numpy arrays can be indexed with other arrays or any other sequence with the exception of tuples. The last element is indexed by -1 second last by -2 and so on.\n",
    "\n",
    "In the case of slicing, a view or shallow copy of the array is returned but in an index array, a copy of the original array is returned."
   ]
  },
  {
   "cell_type": "code",
   "execution_count": 2,
   "id": "86837e95-d8e8-49dc-910d-d01b2c44e096",
   "metadata": {},
   "outputs": [
    {
     "name": "stdout",
     "output_type": "stream",
     "text": [
      "\n",
      " A sequential array with a negative step: \n",
      " [10  8  6  4  2]\n",
      "\n",
      " Elements at these indices are:\n",
      " [4 8 6]\n"
     ]
    }
   ],
   "source": [
    "import numpy as np \n",
    "# Create a sequence of integers from 10 to 1 with a step of -2 \n",
    "a = np.arange(10, 1, -2) \n",
    "print(\"\\n A sequential array with a negative step: \\n\",a) \n",
    "# Indexes are specified inside the np.array method. \n",
    "newarr = a[np.array([3, 1, 2 ])] \n",
    "print(\"\\n Elements at these indices are:\\n\",newarr)\n"
   ]
  },
  {
   "cell_type": "markdown",
   "id": "e35f46b5-acdc-4bb5-b0fe-3223d9e613df",
   "metadata": {},
   "source": [
    "Basic Slicing and indexing :"
   ]
  },
  {
   "cell_type": "code",
   "execution_count": 6,
   "id": "8165c95b-137d-432a-8a79-fa9db4efe4af",
   "metadata": {},
   "outputs": [
    {
     "name": "stdout",
     "output_type": "stream",
     "text": [
      "\n",
      "Array is:\n",
      "  [ 0  1  2  3  4  5  6  7  8  9 10 11 12 13 14 15 16 17 18 19]\n",
      "\n",
      "a[15]= 15\n",
      "\n",
      "a[-8:17:1] =  [12 13 14 15 16]\n",
      "\n",
      "a[10:] =  [10 11 12 13 14 15 16 17 18 19]\n"
     ]
    }
   ],
   "source": [
    "import numpy as np \n",
    "# Arrange elements from 0 to 19 \n",
    "a = np.arange(20) \n",
    "print(\"\\nArray is:\\n \",a) \n",
    "print(\"\\na[15]=\",a[15]) \n",
    "# a[start:stop:step] \n",
    "print(\"\\na[-8:17:1] = \",a[-8:17:1]) \n",
    "print(\"\\na[10:] = \",a[10:])\n"
   ]
  },
  {
   "cell_type": "code",
   "execution_count": 7,
   "id": "7ad505a4-fd48-4b03-8e2e-38333ef5ea69",
   "metadata": {},
   "outputs": [
    {
     "name": "stdout",
     "output_type": "stream",
     "text": [
      "[[ 2  5]\n",
      " [ 8 11]]\n"
     ]
    }
   ],
   "source": [
    "import numpy as np \n",
    "# A 3 dimensional array. \n",
    "b = np.array([[[1, 2, 3],[4, 5, 6]], \n",
    "\t\t\t[[7, 8, 9],[10, 11, 12]]]) \n",
    "print(b[...,1]) #Equivalent to b[: ,: ,1 ]\n"
   ]
  },
  {
   "cell_type": "markdown",
   "id": "011d15a3-f16f-4153-ac27-718b01aeef99",
   "metadata": {},
   "source": [
    "Advanced indexing :\n",
    "\n",
    "NumPy Advanced indexing returns a copy of data rather than a view of it. Advanced indexing is of two types integer and Boolean.\n",
    "\n",
    "Types of Advanced Indexing:\n",
    "\n",
    "There are two types of Advanced Indexing in NumPy array indexing:\n",
    "\n",
    "* Purely integer indexing\n",
    " \n",
    "* Boolean integer indexing"
   ]
  },
  {
   "cell_type": "markdown",
   "id": "664a5c7f-a96d-435c-b47b-d9f3fdbc7ce2",
   "metadata": {},
   "source": [
    "Purely integer array indexing :"
   ]
  },
  {
   "cell_type": "code",
   "execution_count": 8,
   "id": "45d7ec56-5c89-4854-8ad6-66b719823505",
   "metadata": {},
   "outputs": [
    {
     "name": "stdout",
     "output_type": "stream",
     "text": [
      "[1 3 6]\n"
     ]
    }
   ],
   "source": [
    "# Python program showing advanced indexing \n",
    "import numpy as np \n",
    "a = np.array([[1 ,2 ],[3 ,4 ],[5 ,6 ]]) \n",
    "print(a[[0 ,1 ,2 ],[0 ,0 ,1]])\n"
   ]
  },
  {
   "cell_type": "markdown",
   "id": "239903e6-4cbb-40d0-b229-4d1aff25e8ed",
   "metadata": {},
   "source": [
    "Boolean Indexing :\n",
    "\n",
    "This indexing has some boolean expressions as the index.\n",
    "\n",
    "Those elements are returned which satisfy that Boolean expression. It is used for filtering the desired element values."
   ]
  },
  {
   "cell_type": "code",
   "execution_count": 9,
   "id": "6950748c-fe04-49ac-b853-ba8dd461bbd0",
   "metadata": {},
   "outputs": [
    {
     "name": "stdout",
     "output_type": "stream",
     "text": [
      "[ 80 100]\n"
     ]
    }
   ],
   "source": [
    "# You may wish to select numbers greater than 50 \n",
    "import numpy as np \n",
    "\n",
    "a = np.array([10, 40, 80, 50, 100]) \n",
    "print(a[a>50])\n"
   ]
  },
  {
   "cell_type": "code",
   "execution_count": 10,
   "id": "95978628-3df2-41e4-a912-0d8c89084b9c",
   "metadata": {},
   "outputs": [
    {
     "name": "stdout",
     "output_type": "stream",
     "text": [
      "[[ 5  5]\n",
      " [16  4]]\n"
     ]
    }
   ],
   "source": [
    "# You may wish to select those elements whose \n",
    "# sum of row is a multiple of 10. \n",
    "import numpy as np \n",
    "\n",
    "b = np.array([[5, 5],[4, 5],[16, 4]]) \n",
    "sumrow = b.sum(-1) \n",
    "print(b[sumrow%10==0]) \n"
   ]
  },
  {
   "cell_type": "markdown",
   "id": "e572fc2c-3fa0-42bf-ab51-58eab913fce0",
   "metadata": {},
   "source": [
    "numpy.compress() :"
   ]
  },
  {
   "cell_type": "code",
   "execution_count": 11,
   "id": "7857c719-545a-4b96-be71-dfc7d3f4b10d",
   "metadata": {},
   "outputs": [
    {
     "name": "stdout",
     "output_type": "stream",
     "text": [
      "Original array : \n",
      " [[0 1]\n",
      " [2 3]\n",
      " [4 5]\n",
      " [6 7]\n",
      " [8 9]]\n",
      "\n",
      "Sliced array : \n",
      " [[2 3]]\n",
      "\n",
      "Sliced array : \n",
      " [[2 3]]\n"
     ]
    }
   ],
   "source": [
    "# Python Program illustrating \n",
    "# numpy.compress method \n",
    "\n",
    "import numpy as geek \n",
    "\n",
    "array = geek.arange(10).reshape(5, 2) \n",
    "print(\"Original array : \\n\", array) \n",
    "\n",
    "a = geek.compress([0, 1], array, axis=0) \n",
    "print(\"\\nSliced array : \\n\", a) \n",
    "\n",
    "a = geek.compress([False, True], array, axis=0) \n",
    "print(\"\\nSliced array : \\n\", a) \n"
   ]
  },
  {
   "cell_type": "markdown",
   "id": "7a5bf9ab-b19c-479f-842f-29e39190405c",
   "metadata": {},
   "source": [
    "Accessing Data Along Multiple Dimensions Arrays in Python Numpy :"
   ]
  },
  {
   "cell_type": "code",
   "execution_count": 12,
   "id": "e712fac7-6f85-4a2c-9c07-534aa948755e",
   "metadata": {},
   "outputs": [
    {
     "name": "stdout",
     "output_type": "stream",
     "text": [
      "[1 2 3 4 5]\n",
      "\n",
      "using positive index :1\n",
      "using positive index :5\n",
      "\n",
      "using negative index :1\n",
      "using negative index :5\n"
     ]
    }
   ],
   "source": [
    "# 1-dimensional array\n",
    "array1D = np.array([1, 2, 3, 4, 5])\n",
    "\n",
    "print(array1D)\n",
    "\n",
    "# to access elements using positive\n",
    "# index\n",
    "print(\"\\nusing positive index :\" +str(array1D[0]))\n",
    "print(\"using positive index :\" +str(array1D[4]))\n",
    "\n",
    "# negative indexing works in opposite\n",
    "# direction\n",
    "print(\"\\nusing negative index :\" +str(array1D[-5]))\n",
    "print(\"using negative index :\" +str(array1D[-1]))\n"
   ]
  },
  {
   "cell_type": "code",
   "execution_count": 13,
   "id": "0c409bbd-0c25-497e-9eb8-c6840d8eda4d",
   "metadata": {},
   "outputs": [
    {
     "name": "stdout",
     "output_type": "stream",
     "text": [
      "[[ 93  95]\n",
      " [ 84 100]\n",
      " [ 99  87]]\n",
      "shape :(3, 2)\n",
      "\n",
      "positive indexing :84\n",
      "negative indexing :84\n",
      "\n",
      "slicing using positive indices :[ 95 100  87]\n",
      "slicing using positive indices :[ 95 100  87]\n",
      "slicing using negative indices :[ 95 100  87]\n"
     ]
    }
   ],
   "source": [
    "# 2-dimensional array \n",
    "array2D = np.array([[93, 95],\n",
    "\t\t\t\t\t[84, 100],\n",
    "\t\t\t\t\t[99, 87]])\n",
    "\n",
    "print(array2D)\n",
    "print(\"shape :\" +str(array2D.shape))\n",
    "\n",
    "print(\"\\npositive indexing :\" +str(array2D[1, 0]))\n",
    "print(\"negative indexing :\" +str(array2D[-2, 0]))\n",
    "\n",
    "print(\"\\nslicing using positive indices :\" +str(array2D[0:3, 1]))\n",
    "print(\"slicing using positive indices :\" +str(array2D[:, 1]))\n",
    "print(\"slicing using negative indices :\" +str(array2D[:, -1]))\n"
   ]
  },
  {
   "cell_type": "code",
   "execution_count": 14,
   "id": "d52b22fc-d869-439b-8d7b-2084197fde3b",
   "metadata": {},
   "outputs": [
    {
     "name": "stdout",
     "output_type": "stream",
     "text": [
      "[[[ 0  1  2]\n",
      "  [ 3  4  5]\n",
      "  [ 6  7  8]]\n",
      "\n",
      " [[ 9 10 11]\n",
      "  [12 13 14]\n",
      "  [15 16 17]]\n",
      "\n",
      " [[18 19 20]\n",
      "  [21 22 23]\n",
      "  [24 25 26]]]\n",
      "shape :(3, 3, 3)\n",
      "\n",
      "accessing element :3\n",
      "accessing elements of a row and a column of an array:[ 3 12 21]\n",
      "accessing sub part of an array :[[ 9 10 11]\n",
      " [12 13 14]\n",
      " [15 16 17]]\n"
     ]
    }
   ],
   "source": [
    "# 3-dimensional array \n",
    "array3D = np.array([[[ 0, 1, 2],\n",
    "\t\t\t\t\t[ 3, 4, 5],\n",
    "\t\t\t\t\t[ 6, 7, 8]],\n",
    "\n",
    "\t\t\t\t\t[[ 9, 10, 11],\n",
    "\t\t\t\t\t[12, 13, 14],\n",
    "\t\t\t\t\t[15, 16, 17]],\n",
    "\n",
    "\t\t\t\t\t[[18, 19, 20],\n",
    "\t\t\t\t\t[21, 22, 23],\n",
    "\t\t\t\t\t[24, 25, 26]]])\n",
    "\n",
    "print(array3D)\n",
    "print(\"shape :\" +str(array3D.shape))\n",
    "\n",
    "print(\"\\naccessing element :\" +str(array3D[0, 1, 0]))\n",
    "print(\"accessing elements of a row and a column of an array:\"\n",
    "\t+str(array3D[:, 1, 0]))\n",
    "print(\"accessing sub part of an array :\" +str(array3D[1]))\n"
   ]
  },
  {
   "cell_type": "markdown",
   "id": "af49ee44-cfab-4f93-a4fe-951d7457f956",
   "metadata": {},
   "source": [
    "access different rows of a multidimensional NumPy array :"
   ]
  },
  {
   "cell_type": "code",
   "execution_count": 15,
   "id": "1fe4b79e-8252-437d-9bed-e6adb012426f",
   "metadata": {},
   "outputs": [
    {
     "name": "stdout",
     "output_type": "stream",
     "text": [
      "Given Array :\n",
      "[[10 20 30]\n",
      " [40  5 66]\n",
      " [70 88 94]]\n",
      "\n",
      "Accessed Rows :\n",
      "[[10 20 30]\n",
      " [70 88 94]]\n"
     ]
    }
   ],
   "source": [
    "# Importing Numpy module \n",
    "import numpy as np \n",
    "\n",
    "# Creating a 3X3 2-D Numpy array \n",
    "arr = np.array([[10, 20, 30], \n",
    "\t\t\t\t[40, 5, 66], \n",
    "\t\t\t\t[70, 88, 94]]) \n",
    "\n",
    "print(\"Given Array :\") \n",
    "print(arr) \n",
    "\n",
    "# Access the First and Last rows of array \n",
    "res_arr = arr[[0,2]] \n",
    "print(\"\\nAccessed Rows :\") \n",
    "print(res_arr)\n"
   ]
  },
  {
   "cell_type": "code",
   "execution_count": 16,
   "id": "4e82fa32-a119-43fd-b86e-a0ded7d56a03",
   "metadata": {},
   "outputs": [
    {
     "name": "stdout",
     "output_type": "stream",
     "text": [
      "Given Array :\n",
      "[[101  20   3  10]\n",
      " [ 40   5  66   7]\n",
      " [ 70  88   9 141]]\n",
      "\n",
      "Accessed Row :\n",
      "[40  5 66  7]\n"
     ]
    }
   ],
   "source": [
    "# Importing Numpy module \n",
    "import numpy as np \n",
    "\n",
    "# Creating a 3X4 2-D Numpy array \n",
    "arr = np.array([[101, 20, 3, 10], \n",
    "\t\t\t\t[40, 5, 66, 7], \n",
    "\t\t\t\t[70, 88, 9, 141]]) \n",
    "\t\t\t\t\n",
    "print(\"Given Array :\") \n",
    "print(arr) \n",
    "\n",
    "# Access the Middle row of array \n",
    "res_arr = arr[1] \n",
    "print(\"\\nAccessed Row :\") \n",
    "print(res_arr)\n"
   ]
  },
  {
   "cell_type": "code",
   "execution_count": 17,
   "id": "7418d3ca-8cb4-4359-a20b-60bdbeb8cdd5",
   "metadata": {},
   "outputs": [
    {
     "name": "stdout",
     "output_type": "stream",
     "text": [
      "Given Array :\n",
      "[[  1  20   3   1]\n",
      " [ 40   5  66   7]\n",
      " [ 70  88   9  11]\n",
      " [ 80 100  50  77]]\n",
      "\n",
      "Accessed Rows :\n",
      "[[ 40   5  66   7]\n",
      " [ 70  88   9  11]\n",
      " [ 80 100  50  77]]\n"
     ]
    }
   ],
   "source": [
    "# Importing Numpy module \n",
    "import numpy as np \n",
    "\n",
    "# Creating a 4X4 2-D Numpy array \n",
    "arr = np.array([[1, 20, 3, 1], \n",
    "\t\t\t\t[40, 5, 66, 7], \n",
    "\t\t\t\t[70, 88, 9, 11], \n",
    "\t\t\t[80, 100, 50, 77]]) \n",
    "\n",
    "print(\"Given Array :\") \n",
    "print(arr) \n",
    "\n",
    "# Access the Last three rows of array \n",
    "res_arr = arr[[1,2,3]] \n",
    "print(\"\\nAccessed Rows :\") \n",
    "print(res_arr)\n"
   ]
  },
  {
   "cell_type": "code",
   "execution_count": 18,
   "id": "49ab9533-3c4c-44dc-a34b-a1d596cab83c",
   "metadata": {},
   "outputs": [
    {
     "name": "stdout",
     "output_type": "stream",
     "text": [
      "Given Array :\n",
      "[[  1.   20.    3.    1. ]\n",
      " [ 40.    5.   66.    7. ]\n",
      " [ 70.   88.    9.   11. ]\n",
      " [ 80.  100.   50.   77. ]\n",
      " [  1.    8.5   7.9   4.8]]\n",
      "\n",
      "Accessed Rows :\n",
      "[[ 1. 20.  3.  1.]\n",
      " [40.  5. 66.  7.]]\n"
     ]
    }
   ],
   "source": [
    "# Importing Numpy module \n",
    "import numpy as np \n",
    "\n",
    "# Creating a 5X4 2-D Numpy array \n",
    "arr = np.array([[1, 20, 3, 1], \n",
    "\t\t\t\t[40, 5, 66, 7], \n",
    "\t\t\t\t[70, 88, 9, 11], \n",
    "\t\t\t[80, 100, 50, 77], \n",
    "\t\t\t[1, 8.5, 7.9, 4.8]]) \n",
    "\n",
    "print(\"Given Array :\") \n",
    "print(arr) \n",
    "\n",
    "# Access the First two rows of array \n",
    "res_arr = arr[[0,1]] \n",
    "print(\"\\nAccessed Rows :\") \n",
    "print(res_arr)\n"
   ]
  },
  {
   "cell_type": "code",
   "execution_count": null,
   "id": "091349db-0666-433e-929c-078a7f41cf95",
   "metadata": {},
   "outputs": [],
   "source": []
  }
 ],
 "metadata": {
  "kernelspec": {
   "display_name": "Python 3 (ipykernel)",
   "language": "python",
   "name": "python3"
  },
  "language_info": {
   "codemirror_mode": {
    "name": "ipython",
    "version": 3
   },
   "file_extension": ".py",
   "mimetype": "text/x-python",
   "name": "python",
   "nbconvert_exporter": "python",
   "pygments_lexer": "ipython3",
   "version": "3.11.7"
  }
 },
 "nbformat": 4,
 "nbformat_minor": 5
}
