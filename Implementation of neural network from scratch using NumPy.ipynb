{
 "cells": [
  {
   "cell_type": "markdown",
   "id": "2e85c610-1730-460d-a141-1d887207d09a",
   "metadata": {},
   "source": [
    "Implementation of neural network from scratch using NumPy :"
   ]
  },
  {
   "cell_type": "markdown",
   "id": "44f91bcf-bf0d-49bc-a0cd-e8d4ffa80936",
   "metadata": {},
   "source": [
    "DNN(Deep neural network) in a machine learning algorithm that is inspired by the way the human brain works. DNN is mainly used as a classification algorithm. In this article, we will look at the stepwise approach on how to implement the basic DNN algorithm in NumPy(Python library) from scratch. \n",
    "\n",
    "The purpose of this article is to create a sense of understanding that, how neural network works and its implementation details. We are going to build a three-letter(A, B,c) classifier, for simplicity we are going to create the letters (A, B,c) as NumPy array of 0s and 1s, also we are going to ignore the bias term related with each node. "
   ]
  },
  {
   "cell_type": "code",
   "execution_count": 16,
   "id": "f909478e-5cb6-4d75-83d0-19cb53fd4001",
   "metadata": {},
   "outputs": [],
   "source": [
    "# Creating data set\n",
    "\n",
    "# A\n",
    "a =[0, 0, 1, 1, 0, 0,\n",
    "0, 1, 0, 0, 1, 0,\n",
    "1, 1, 1, 1, 1, 1,\n",
    "1, 0, 0, 0, 0, 1,\n",
    "1, 0, 0, 0, 0, 1]\n",
    "# B\n",
    "b =[0, 1, 1, 1, 1, 0,\n",
    "0, 1, 0, 0, 1, 0,\n",
    "0, 1, 1, 1, 1, 0,\n",
    "0, 1, 0, 0, 1, 0,\n",
    "0, 1, 1, 1, 1, 0]\n",
    "# C\n",
    "c =[0, 1, 1, 1, 1, 0,\n",
    "0, 1, 0, 0, 0, 0,\n",
    "0, 1, 0, 0, 0, 0,\n",
    "0, 1, 0, 0, 0, 0,\n",
    "0, 1, 1, 1, 1, 0]\n",
    "\n",
    "# Creating labels\n",
    "y =[[1, 0, 0],\n",
    "[0, 1, 0],\n",
    "[0, 0, 1]]\n"
   ]
  },
  {
   "cell_type": "markdown",
   "id": "a405dea4-1d16-4d1f-96c5-d8e5157d0d84",
   "metadata": {},
   "source": [
    "Visualization of data set :"
   ]
  },
  {
   "cell_type": "code",
   "execution_count": 13,
   "id": "aedb2ddf-d0a3-4f5e-be95-916c42e48e5e",
   "metadata": {},
   "outputs": [
    {
     "data": {
      "image/png": "[encoded data removed]",
      "text/plain": [
       "<Figure size 640x480 with 1 Axes>"
      ]
     },
     "metadata": {},
     "output_type": "display_data"
    }
   ],
   "source": [
    "import numpy as np\n",
    "import matplotlib.pyplot as plt\n",
    "# visualizing the data, plotting A.\n",
    "plt.imshow(np.array(a).reshape(5, 6))\n",
    "plt.show()\n"
   ]
  },
  {
   "cell_type": "markdown",
   "id": "86a5d4d6-6903-4bac-af03-1112a077a51e",
   "metadata": {},
   "source": [
    "As the data set is in the form of list we will convert it into numpy array :"
   ]
  },
  {
   "cell_type": "code",
   "execution_count": 3,
   "id": "a024ebf8-438d-4566-82cb-e9f1cf8788bd",
   "metadata": {},
   "outputs": [
    {
     "name": "stdout",
     "output_type": "stream",
     "text": [
      "[array([[0, 0, 1, 1, 0, 0, 0, 1, 0, 0, 1, 0, 1, 1, 1, 1, 1, 1, 1, 0, 0, 0,\n",
      "        0, 1, 1, 0, 0, 0, 0, 1]]), array([[0, 1, 1, 1, 1, 0, 0, 1, 0, 0, 1, 0, 0, 1, 1, 1, 1, 0, 0, 1, 0, 0,\n",
      "        1, 0, 0, 1, 1, 1, 1, 0]]), array([[0, 1, 1, 1, 1, 0, 0, 1, 0, 0, 0, 0, 0, 1, 0, 0, 0, 0, 0, 1, 0, 0,\n",
      "        0, 0, 0, 1, 1, 1, 1, 0]])] \n",
      "\n",
      " [[1 0 0]\n",
      " [0 1 0]\n",
      " [0 0 1]]\n"
     ]
    }
   ],
   "source": [
    "# converting data and labels into numpy array\n",
    "\n",
    "\"\"\"\n",
    "Convert the matrix of 0 and 1 into one hot vector \n",
    "so that we can directly feed it to the neural network,\n",
    "these vectors are then stored in a list x.\n",
    "\"\"\"\n",
    "\n",
    "x =[np.array(a).reshape(1, 30), np.array(b).reshape(1, 30), \n",
    "\t\t\t\t\t\t\t\tnp.array(c).reshape(1, 30)]\n",
    "\n",
    "\n",
    "# Labels are also converted into NumPy array\n",
    "y = np.array(y)\n",
    "\n",
    "\n",
    "print(x, \"\\n\\n\", y)\n"
   ]
  },
  {
   "cell_type": "markdown",
   "id": "a4317cec-5684-4307-9c5d-b79aa771489c",
   "metadata": {},
   "source": [
    " Defining the architecture or structure of the deep neural network. This includes deciding the number of layers and the number of nodes in each layer. Our neural network is going to have the following structure. \n",
    "\n",
    "\n",
    "1st layer: Input layer(1, 30)\n",
    "\n",
    "2nd layer: Hidden layer (1, 5)\n",
    "\n",
    "3rd layer: Output layer(3, 3)"
   ]
  },
  {
   "cell_type": "markdown",
   "id": "e9bb5c4c-838e-471f-85c0-3a21ad22dbad",
   "metadata": {},
   "source": [
    "Declaring and defining all the function to build deep neural network :"
   ]
  },
  {
   "cell_type": "code",
   "execution_count": 4,
   "id": "29e4a72b-2178-4cad-b25a-10ca36cc743a",
   "metadata": {},
   "outputs": [],
   "source": [
    "# activation function\n",
    "\n",
    "def sigmoid(x):\n",
    "\treturn(1/(1 + np.exp(-x)))\n",
    "\n",
    "# Creating the Feed forward neural network\n",
    "# 1 Input layer(1, 30)\n",
    "# 1 hidden layer (1, 5)\n",
    "# 1 output layer(3, 3)\n",
    "\n",
    "def f_forward(x, w1, w2):\n",
    "\t# hidden\n",
    "\tz1 = x.dot(w1)# input from layer 1 \n",
    "\ta1 = sigmoid(z1)# out put of layer 2 \n",
    "\t\n",
    "\t# Output layer\n",
    "\tz2 = a1.dot(w2)# input of out layer\n",
    "\ta2 = sigmoid(z2)# output of out layer\n",
    "\treturn(a2)\n",
    "\n",
    "# initializing the weights randomly\n",
    "def generate_wt(x, y):\n",
    "\tl =[]\n",
    "\tfor i in range(x * y):\n",
    "\t\tl.append(np.random.randn())\n",
    "\treturn(np.array(l).reshape(x, y))\n",
    "\t\n",
    "# for loss we will be using mean square error(MSE)\n",
    "def loss(out, Y):\n",
    "\ts =(np.square(out-Y))\n",
    "\ts = np.sum(s)/len(y)\n",
    "\treturn(s)\n",
    "\n",
    "# Back propagation of error \n",
    "def back_prop(x, y, w1, w2, alpha):\n",
    "\t\n",
    "\t# hidden layer\n",
    "\tz1 = x.dot(w1)# input from layer 1 \n",
    "\ta1 = sigmoid(z1)# output of layer 2 \n",
    "\t\n",
    "\t# Output layer\n",
    "\tz2 = a1.dot(w2)# input of out layer\n",
    "\ta2 = sigmoid(z2)# output of out layer\n",
    "\t# error in output layer\n",
    "\td2 =(a2-y)\n",
    "\td1 = np.multiply((w2.dot((d2.transpose()))).transpose(), \n",
    "\t\t\t\t\t\t\t\t(np.multiply(a1, 1-a1)))\n",
    "\n",
    "\t# Gradient for w1 and w2\n",
    "\tw1_adj = x.transpose().dot(d1)\n",
    "\tw2_adj = a1.transpose().dot(d2)\n",
    "\t\n",
    "\t# Updating parameters\n",
    "\tw1 = w1-(alpha*(w1_adj))\n",
    "\tw2 = w2-(alpha*(w2_adj))\n",
    "\t\n",
    "\treturn(w1, w2)\n",
    "\n",
    "def train(x, Y, w1, w2, alpha = 0.01, epoch = 10):\n",
    "\tacc =[]\n",
    "\tlosss =[]\n",
    "\tfor j in range(epoch):\n",
    "\t\tl =[]\n",
    "\t\tfor i in range(len(x)):\n",
    "\t\t\tout = f_forward(x[i], w1, w2)\n",
    "\t\t\tl.append((loss(out, Y[i])))\n",
    "\t\t\tw1, w2 = back_prop(x[i], y[i], w1, w2, alpha)\n",
    "\t\tprint(\"epochs:\", j + 1, \"======== acc:\", (1-(sum(l)/len(x)))*100) \n",
    "\t\tacc.append((1-(sum(l)/len(x)))*100)\n",
    "\t\tlosss.append(sum(l)/len(x))\n",
    "\treturn(acc, losss, w1, w2)\n",
    "\n",
    "def predict(x, w1, w2):\n",
    "\tOut = f_forward(x, w1, w2)\n",
    "\tmaxm = 0\n",
    "\tk = 0\n",
    "\tfor i in range(len(Out[0])):\n",
    "\t\tif(maxm<Out[0][i]):\n",
    "\t\t\tmaxm = Out[0][i]\n",
    "\t\t\tk = i\n",
    "\tif(k == 0):\n",
    "\t\tprint(\"Image is of letter A.\")\n",
    "\telif(k == 1):\n",
    "\t\tprint(\"Image is of letter B.\")\n",
    "\telse:\n",
    "\t\tprint(\"Image is of letter C.\")\n",
    "\tplt.imshow(x.reshape(5, 6))\n",
    "\tplt.show() \n",
    "\n",
    "\n"
   ]
  },
  {
   "cell_type": "markdown",
   "id": "acdcf36c-5122-46f4-885e-ddb9f6678c21",
   "metadata": {},
   "source": [
    "Initializing the weights, as the neural network is having 3 layers, so there will be 2 weight matrix associate with it. The size of each matrix depends on the number of nodes in two connecting layers. "
   ]
  },
  {
   "cell_type": "code",
   "execution_count": 5,
   "id": "0a2172a2-9e0b-4d3c-a747-6dfc2e991be4",
   "metadata": {},
   "outputs": [
    {
     "name": "stdout",
     "output_type": "stream",
     "text": [
      "[[-0.88459999  1.55108243 -0.68191007  1.4941737  -0.20214526]\n",
      " [-0.01345994 -1.40872449  0.48876301  0.30043557 -0.47249162]\n",
      " [ 1.04219377 -0.46810173  0.10808897 -0.27728146  1.16087774]\n",
      " [ 0.25492053 -0.22056925 -0.61592721 -0.42961177  1.29483473]\n",
      " [-0.68705296  0.84369431  0.28870114 -1.54119099  0.02245592]\n",
      " [ 0.88901799  0.70505738 -0.61944007  1.90209126  0.7876968 ]\n",
      " [ 0.35165701 -0.18314469 -1.1567918   0.79605232  1.2210665 ]\n",
      " [-1.67801935 -0.24791832  1.08267622  0.26107832  0.31034429]\n",
      " [ 0.61026916  2.66379229  0.9523224   0.60656489  0.19996316]\n",
      " [-0.14357472 -1.0024362   1.09042281  0.4223033  -0.62341704]\n",
      " [ 1.37083338  3.2112482   0.43545647  0.59199907  1.30975862]\n",
      " [-0.58982963 -0.55992494  0.46531654  0.1876378   1.04386167]\n",
      " [ 0.94486751  0.01328296  0.25621165 -0.62373137  0.4359821 ]\n",
      " [-1.47953227 -0.76229958 -1.70669169 -0.52910569  1.98753828]\n",
      " [ 0.77466891 -0.47408901 -1.03109433  0.14674926 -0.81073396]\n",
      " [-0.25453867  0.08456557 -0.42722831  0.11256375 -1.03670557]\n",
      " [ 0.23070225 -0.83010137  0.35711745  1.20172856  0.83154404]\n",
      " [ 0.18942249 -0.81601519 -0.4608288   0.29455796 -0.42125658]\n",
      " [ 0.57472201 -1.34571815 -1.44012595  0.64336539 -0.19112495]\n",
      " [ 1.15618776  0.36593161  0.4993928   0.17170613 -0.16535313]\n",
      " [-0.48304333  0.33227785  0.10716169 -1.1286017   0.95687207]\n",
      " [ 1.72724447  0.65372683  0.8617427   2.44628055 -0.82553249]\n",
      " [ 0.81949686 -1.81567389 -0.56931929 -0.44736691 -0.47668259]\n",
      " [ 1.20793114 -0.81589159 -1.55085768 -1.28368081 -1.06895013]\n",
      " [ 0.78371222  2.4812915   0.91628654 -1.30655935 -0.6686762 ]\n",
      " [-0.06480193 -1.14260558  0.02544328 -0.1939203   0.83810034]\n",
      " [ 0.33698555 -1.02138734 -0.53155005  0.91831181 -0.36411624]\n",
      " [-1.12820797 -2.31128082  0.57288323  1.9188722  -1.2848037 ]\n",
      " [ 1.7950942  -0.54495476 -0.86104091 -0.10854371  1.55903115]\n",
      " [ 0.82054649  0.0984439  -1.19359917  2.02457308  0.19848356]] \n",
      "\n",
      " [[-0.16799471 -1.15952012 -1.02403747]\n",
      " [ 1.35540599  1.63909865  0.01413391]\n",
      " [ 0.50201366 -0.71779112  1.10774982]\n",
      " [-1.11257046  1.25345807  0.91499108]\n",
      " [-1.17970678 -1.26326673 -0.12211688]]\n"
     ]
    }
   ],
   "source": [
    "w1 = generate_wt(30, 5)\n",
    "w2 = generate_wt(5, 3)\n",
    "print(w1, \"\\n\\n\", w2)\n"
   ]
  },
  {
   "cell_type": "markdown",
   "id": "2c4f3ef0-e20e-4d3e-adac-e900d00a94e7",
   "metadata": {},
   "source": [
    "Training the model :"
   ]
  },
  {
   "cell_type": "code",
   "execution_count": 6,
   "id": "95b772e3-7a68-46af-9dab-1a1aa7382225",
   "metadata": {},
   "outputs": [
    {
     "name": "stdout",
     "output_type": "stream",
     "text": [
      "epochs: 1 ======== acc: 77.23934947781602\n",
      "epochs: 2 ======== acc: 78.77734876736638\n",
      "epochs: 3 ======== acc: 80.27261458318242\n",
      "epochs: 4 ======== acc: 81.61859725607255\n",
      "epochs: 5 ======== acc: 82.74205768133996\n",
      "epochs: 6 ======== acc: 83.65480688112281\n",
      "epochs: 7 ======== acc: 84.40674444631519\n",
      "epochs: 8 ======== acc: 85.043846892985\n",
      "epochs: 9 ======== acc: 85.59864048566158\n",
      "epochs: 10 ======== acc: 86.09278007117582\n",
      "epochs: 11 ======== acc: 86.54073488303246\n",
      "epochs: 12 ======== acc: 86.95239751186406\n",
      "epochs: 13 ======== acc: 87.33472297320071\n",
      "epochs: 14 ======== acc: 87.69274569882216\n",
      "epochs: 15 ======== acc: 88.03021949758661\n",
      "epochs: 16 ======== acc: 88.35002661758831\n",
      "epochs: 17 ======== acc: 88.65444192175235\n",
      "epochs: 18 ======== acc: 88.94530451900303\n",
      "epochs: 19 ======== acc: 89.22413003828147\n",
      "epochs: 20 ======== acc: 89.4921851720705\n",
      "epochs: 21 ======== acc: 89.75053863908741\n",
      "epochs: 22 ======== acc: 90.00009764043189\n",
      "epochs: 23 ======== acc: 90.24163540191228\n",
      "epochs: 24 ======== acc: 90.47581307119826\n",
      "epochs: 25 ======== acc: 90.7031977741119\n",
      "epochs: 26 ======== acc: 90.92427778544311\n",
      "epochs: 27 ======== acc: 91.13947532911504\n",
      "epochs: 28 ======== acc: 91.34915732607237\n",
      "epochs: 29 ======== acc: 91.55364433862462\n",
      "epochs: 30 ======== acc: 91.75321794320574\n",
      "epochs: 31 ======== acc: 91.9481267595821\n",
      "epochs: 32 ======== acc: 92.13859135618735\n",
      "epochs: 33 ======== acc: 92.32480823423772\n",
      "epochs: 34 ======== acc: 92.50695306937739\n",
      "epochs: 35 ======== acc: 92.68518336243908\n",
      "epochs: 36 ======== acc: 92.85964062381267\n",
      "epochs: 37 ======== acc: 93.03045219118144\n",
      "epochs: 38 ======== acc: 93.19773275920068\n",
      "epochs: 39 ======== acc: 93.36158568238703\n",
      "epochs: 40 ======== acc: 93.52210409884455\n",
      "epochs: 41 ======== acc: 93.67937191196381\n",
      "epochs: 42 ======== acc: 93.83346465928985\n",
      "epochs: 43 ======== acc: 93.98445029176409\n",
      "epochs: 44 ======== acc: 94.13238988198576\n",
      "epochs: 45 ======== acc: 94.27733827658375\n",
      "epochs: 46 ======== acc: 94.41934470491867\n",
      "epochs: 47 ======== acc: 94.55845335390998\n",
      "epochs: 48 ======== acc: 94.69470391665271\n",
      "epochs: 49 ======== acc: 94.82813212055294\n",
      "epochs: 50 ======== acc: 94.95877023892841\n",
      "epochs: 51 ======== acc: 95.08664758837722\n",
      "epochs: 52 ======== acc: 95.21179101272512\n",
      "epochs: 53 ======== acc: 95.33422535304793\n",
      "epochs: 54 ======== acc: 95.45397390216\n",
      "epochs: 55 ======== acc: 95.57105884109123\n",
      "epochs: 56 ======== acc: 95.68550165446476\n",
      "epochs: 57 ======== acc: 95.79732352134566\n",
      "epochs: 58 ======== acc: 95.90654567805129\n",
      "epochs: 59 ======== acc: 96.01318974958065\n",
      "epochs: 60 ======== acc: 96.11727804670093\n",
      "epochs: 61 ======== acc: 96.21883382628508\n",
      "epochs: 62 ======== acc: 96.31788151317681\n",
      "epochs: 63 ======== acc: 96.4144468826226\n",
      "epochs: 64 ======== acc: 96.50855720310162\n",
      "epochs: 65 ======== acc: 96.60024134016612\n",
      "epochs: 66 ======== acc: 96.68952982263338\n",
      "epochs: 67 ======== acc: 96.77645487312246\n",
      "epochs: 68 ======== acc: 96.86105040547905\n",
      "epochs: 69 ======== acc: 96.94335199207086\n",
      "epochs: 70 ======== acc: 97.02339680425726\n",
      "epochs: 71 ======== acc: 97.10122352954167\n",
      "epochs: 72 ======== acc: 97.1768722690115\n",
      "epochs: 73 ======== acc: 97.25038441866661\n",
      "epochs: 74 ======== acc: 97.32180253814731\n",
      "epochs: 75 ======== acc: 97.39117021021026\n",
      "epochs: 76 ======== acc: 97.45853189408133\n",
      "epochs: 77 ======== acc: 97.52393277555001\n",
      "epochs: 78 ======== acc: 97.58741861637846\n",
      "epochs: 79 ======== acc: 97.64903560528735\n",
      "epochs: 80 ======== acc: 97.70883021246513\n",
      "epochs: 81 ======== acc: 97.76684904923442\n",
      "epochs: 82 ======== acc: 97.82313873420685\n",
      "epochs: 83 ======== acc: 97.87774576697335\n",
      "epochs: 84 ======== acc: 97.9307164101122\n",
      "epochs: 85 ======== acc: 97.98209658005845\n",
      "epochs: 86 ======== acc: 98.03193174716466\n",
      "epochs: 87 ======== acc: 98.08026684509662\n",
      "epochs: 88 ======== acc: 98.12714618954759\n",
      "epochs: 89 ======== acc: 98.17261340612102\n",
      "epochs: 90 ======== acc: 98.21671136712067\n",
      "epochs: 91 ======== acc: 98.25948213690083\n",
      "epochs: 92 ======== acc: 98.30096692536065\n",
      "epochs: 93 ======== acc: 98.3412060491186\n",
      "epochs: 94 ======== acc: 98.38023889986883\n",
      "epochs: 95 ======== acc: 98.41810391940221\n",
      "epochs: 96 ======== acc: 98.45483858076591\n",
      "epochs: 97 ======== acc: 98.49047937503744\n",
      "epochs: 98 ======== acc: 98.52506180319823\n",
      "epochs: 99 ======== acc: 98.55862037260641\n",
      "epochs: 100 ======== acc: 98.59118859759002\n"
     ]
    }
   ],
   "source": [
    "\"\"\"The arguments of train function are data set list x, \n",
    "correct labels y, weights w1, w2, learning rate = 0.1, \n",
    "no of epochs or iteration.The function will return the\n",
    "matrix of accuracy and loss and also the matrix of \n",
    "trained weights w1, w2\"\"\"\n",
    "\n",
    "acc, losss, w1, w2 = train(x, y, w1, w2, 0.1, 100)\n"
   ]
  },
  {
   "cell_type": "markdown",
   "id": "10cf63e5-7621-46d8-a542-35a26a85d61a",
   "metadata": {},
   "source": [
    "Plotting the graphs of loss and accuracy with respect to number of epochs(Iteration). "
   ]
  },
  {
   "cell_type": "code",
   "execution_count": 7,
   "id": "835cb73a-48c4-4a1c-8528-522a5d0a17fb",
   "metadata": {},
   "outputs": [
    {
     "data": {
      "image/png": "[encoded data removed]",
      "text/plain": [
       "<Figure size 640x480 with 1 Axes>"
      ]
     },
     "metadata": {},
     "output_type": "display_data"
    },
    {
     "data": {
      "image/png": "[encoded data removed]",
      "text/plain": [
       "<Figure size 640x480 with 1 Axes>"
      ]
     },
     "metadata": {},
     "output_type": "display_data"
    }
   ],
   "source": [
    "import matplotlib.pyplot as plt1\n",
    "\n",
    "# plotting accuracy\n",
    "plt1.plot(acc)\n",
    "plt1.ylabel('Accuracy')\n",
    "plt1.xlabel(\"Epochs:\")\n",
    "plt1.show()\n",
    "\n",
    "# plotting Loss\n",
    "plt1.plot(losss)\n",
    "plt1.ylabel('Loss')\n",
    "plt1.xlabel(\"Epochs:\")\n",
    "plt1.show()\n"
   ]
  },
  {
   "cell_type": "code",
   "execution_count": 8,
   "id": "156171f4-b39a-432a-916d-167d496d1f75",
   "metadata": {},
   "outputs": [
    {
     "name": "stdout",
     "output_type": "stream",
     "text": [
      "[[-0.88459999  1.55108243 -0.68191007  1.4941737  -0.20214526]\n",
      " [-0.21441295 -1.414209    0.77546785  0.45369765 -0.48657704]\n",
      " [ 0.88014596 -0.22794052  0.39902723 -0.69583085  1.18024485]\n",
      " [ 0.09287272  0.01959197 -0.32498895 -0.84816117  1.31420184]\n",
      " [-0.88800597  0.83820981  0.57540598 -1.38792891  0.0083705 ]\n",
      " [ 0.88901799  0.70505738 -0.61944007  1.90209126  0.7876968 ]\n",
      " [ 0.35165701 -0.18314469 -1.1567918   0.79605232  1.2210665 ]\n",
      " [-1.84006715 -0.00775711  1.37361448 -0.15747108  0.3297114 ]\n",
      " [ 0.61026916  2.66379229  0.9523224   0.60656489  0.19996316]\n",
      " [-0.14357472 -1.0024362   1.09042281  0.4223033  -0.62341704]\n",
      " [ 1.57377406  3.46104208 -0.39939455  0.74266735  1.30091145]\n",
      " [-0.58982963 -0.55992494  0.46531654  0.1876378   1.04386167]\n",
      " [ 0.98377271  0.25892868  0.26044507 -1.19554285  0.46943463]\n",
      " [-1.64158008 -0.52213837 -1.41575342 -0.94765508  2.00690539]\n",
      " [ 0.97760958 -0.22429513 -1.86594535  0.29741754 -0.81958112]\n",
      " [-0.051598    0.33435945 -1.26207932  0.26323203 -1.04555274]\n",
      " [ 0.43364292 -0.58030748 -0.47773357  1.35239683  0.82269688]\n",
      " [ 0.22832769 -0.57036948 -0.45659538 -0.27725352 -0.38780405]\n",
      " [ 0.61362721 -1.10007244 -1.43589254  0.07155391 -0.15767242]\n",
      " [ 0.95523475  0.36044711  0.78609764  0.32496822 -0.17943855]\n",
      " [-0.48304333  0.33227785  0.10716169 -1.1286017   0.95687207]\n",
      " [ 1.72724447  0.65372683  0.8617427   2.44628055 -0.82553249]\n",
      " [ 0.98353233 -1.81152572 -1.40840372  0.27511285 -0.51898229]\n",
      " [ 1.24683634 -0.57024587 -1.54662426 -1.85549229 -1.0354976 ]\n",
      " [ 0.82261742  2.72693721  0.92051996 -1.87837083 -0.63522367]\n",
      " [-0.26575494 -1.14809009  0.31214813 -0.04065822  0.82401492]\n",
      " [ 0.13603254 -1.02687184 -0.24484521  1.0715739  -0.37820166]\n",
      " [-1.32916098 -2.31676532  0.85958807  2.07213428 -1.29888912]\n",
      " [ 1.59414119 -0.55043926 -0.57433607  0.04471837  1.54494572]\n",
      " [ 0.85945169  0.34408962 -1.18936575  1.4527616   0.2319361 ]] \n",
      " [[ 0.9181535  -0.28262707 -2.97131812]\n",
      " [ 2.95007533 -0.20458758 -0.52505892]\n",
      " [-0.32536621 -2.17036211  2.57119788]\n",
      " [-2.43276298  3.3188921   0.49530025]\n",
      " [-1.30588931 -1.55772434 -0.47173903]]\n"
     ]
    }
   ],
   "source": [
    "# the trained weights are\n",
    "print(w1, \"\\n\", w2)\n"
   ]
  },
  {
   "cell_type": "markdown",
   "id": "01fe01ca-15bc-45da-a70c-b7a36134ba6f",
   "metadata": {},
   "source": [
    "Making prediction :"
   ]
  },
  {
   "cell_type": "code",
   "execution_count": 9,
   "id": "97929fde-f5cf-426e-baae-2e84d919f241",
   "metadata": {},
   "outputs": [
    {
     "name": "stdout",
     "output_type": "stream",
     "text": [
      "Image is of letter B.\n"
     ]
    },
    {
     "data": {
      "image/png": "[encoded data removed]",
      "text/plain": [
       "<Figure size 640x480 with 1 Axes>"
      ]
     },
     "metadata": {},
     "output_type": "display_data"
    }
   ],
   "source": [
    "\"\"\"\n",
    "The predict function will take the following arguments:\n",
    "1) image matrix\n",
    "2) w1 trained weights\n",
    "3) w2 trained weights\n",
    "\"\"\"\n",
    "predict(x[1], w1, w2)\n"
   ]
  },
  {
   "cell_type": "code",
   "execution_count": 17,
   "id": "e3eda9a3-217c-4f75-9832-309b8f8fec74",
   "metadata": {},
   "outputs": [
    {
     "data": {
      "image/png": "[encoded data removed]",
      "text/plain": [
       "<Figure size 640x480 with 1 Axes>"
      ]
     },
     "metadata": {},
     "output_type": "display_data"
    }
   ],
   "source": [
    "import numpy as np\n",
    "import matplotlib.pyplot as plt\n",
    "# visualizing the data, plotting A.\n",
    "plt.imshow(np.array(c).reshape(5, 6))\n",
    "plt.show()"
   ]
  },
  {
   "cell_type": "code",
   "execution_count": null,
   "id": "5f4a869c-0d10-466f-bb2e-a3e4c5c389dd",
   "metadata": {},
   "outputs": [],
   "source": []
  }
 ],
 "metadata": {
  "kernelspec": {
   "display_name": "Python 3 (ipykernel)",
   "language": "python",
   "name": "python3"
  },
  "language_info": {
   "codemirror_mode": {
    "name": "ipython",
    "version": 3
   },
   "file_extension": ".py",
   "mimetype": "text/x-python",
   "name": "python",
   "nbconvert_exporter": "python",
   "pygments_lexer": "ipython3",
   "version": "3.11.7"
  }
 },
 "nbformat": 4,
 "nbformat_minor": 5
}
