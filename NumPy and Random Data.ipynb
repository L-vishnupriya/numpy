{
 "cells": [
  {
   "cell_type": "markdown",
   "id": "8cde4268-711e-43be-b647-fc83a3d1ec7c",
   "metadata": {},
   "source": [
    "Random sampling in numpy | ranf() function :"
   ]
  },
  {
   "cell_type": "code",
   "execution_count": 1,
   "id": "fd7eeb84-edd6-4f98-b241-4092059856f9",
   "metadata": {},
   "outputs": [
    {
     "name": "stdout",
     "output_type": "stream",
     "text": [
      "Output random float value :  0.7903004369261722\n"
     ]
    }
   ],
   "source": [
    "# Python program explaining \n",
    "# numpy.random.ranf() function \n",
    "\n",
    "# importing numpy \n",
    "import numpy as geek \n",
    "\n",
    "\n",
    "# output random float value \n",
    "out_val = geek.random.ranf() \n",
    "print (\"Output random float value : \", out_val) \n"
   ]
  },
  {
   "cell_type": "code",
   "execution_count": 2,
   "id": "64da6a64-3207-4dc4-9dd8-f67bdda0b98d",
   "metadata": {},
   "outputs": [
    {
     "name": "stdout",
     "output_type": "stream",
     "text": [
      "Output 2D Array filled with random floats :  [[0.15257641]\n",
      " [0.04783388]]\n"
     ]
    }
   ],
   "source": [
    "# Python program explaining \n",
    "# numpy.random.ranf() function \n",
    "\n",
    "# importing numpy \n",
    "import numpy as geek \n",
    "\n",
    "\n",
    "# output array \n",
    "out_arr = geek.random.ranf(size =(2, 1)) \n",
    "print (\"Output 2D Array filled with random floats : \", out_arr) \n"
   ]
  },
  {
   "cell_type": "code",
   "execution_count": 3,
   "id": "329b609c-cd32-4a3e-8983-9c0963d4a7a3",
   "metadata": {},
   "outputs": [
    {
     "name": "stdout",
     "output_type": "stream",
     "text": [
      "Output 3D Array filled with random floats :  [[[0.31775745 0.7308882 ]\n",
      "  [0.42190546 0.51041729]\n",
      "  [0.26077799 0.85232398]]\n",
      "\n",
      " [[0.97520233 0.68133129]\n",
      "  [0.44605975 0.54409508]\n",
      "  [0.58643739 0.0100221 ]]\n",
      "\n",
      " [[0.28443319 0.72394571]\n",
      "  [0.59050264 0.05296867]\n",
      "  [0.79721559 0.55460651]]]\n"
     ]
    }
   ],
   "source": [
    "# Python program explaining \n",
    "# numpy.random.ranf() function \n",
    "\n",
    "# importing numpy \n",
    "import numpy as geek \n",
    "\n",
    "# output array \n",
    "out_arr = geek.random.ranf((3, 3, 2)) \n",
    "print (\"Output 3D Array filled with random floats : \", out_arr) \n"
   ]
  },
  {
   "cell_type": "markdown",
   "id": "6c5ff21d-161d-48a1-862b-6fb79c0c5b71",
   "metadata": {},
   "source": [
    "Random sampling in numpy | random() function :"
   ]
  },
  {
   "cell_type": "code",
   "execution_count": 4,
   "id": "f614e048-1d78-4282-8b76-9b7c156d601c",
   "metadata": {},
   "outputs": [
    {
     "name": "stdout",
     "output_type": "stream",
     "text": [
      "Output 1D Array filled with random floats :  [0.8740074  0.47507384 0.16735401]\n"
     ]
    }
   ],
   "source": [
    "# Python program explaining \n",
    "# numpy.random.random() function \n",
    "\n",
    "# importing numpy \n",
    "import numpy as geek \n",
    "\n",
    "\n",
    "# output array \n",
    "out_arr = geek.random.random(size = 3) \n",
    "print (\"Output 1D Array filled with random floats : \", out_arr) \n"
   ]
  },
  {
   "cell_type": "code",
   "execution_count": 5,
   "id": "a8f363fd-048c-4199-b74c-9a51a3084828",
   "metadata": {},
   "outputs": [
    {
     "name": "stdout",
     "output_type": "stream",
     "text": [
      "Output 2D Array filled with random floats :  [[0.17193    0.90994666 0.30361781 0.12255694]\n",
      " [0.55067618 0.16568737 0.27813989 0.47550843]]\n"
     ]
    }
   ],
   "source": [
    "# Python program explaining \n",
    "# numpy.random.random() function \n",
    "\n",
    "# importing numpy \n",
    "import numpy as geek \n",
    "\n",
    "\n",
    "# output array \n",
    "out_arr = geek.random.random(size =(2, 4)) \n",
    "print (\"Output 2D Array filled with random floats : \", out_arr) \n"
   ]
  },
  {
   "cell_type": "code",
   "execution_count": 6,
   "id": "19e4477e-a5d8-4fbe-be68-3ab5bf34a31e",
   "metadata": {},
   "outputs": [
    {
     "name": "stdout",
     "output_type": "stream",
     "text": [
      "Output 3D Array filled with random floats :  [[[0.56180495 0.53691157]\n",
      "  [0.84837807 0.12877651]\n",
      "  [0.25724945 0.8135259 ]]\n",
      "\n",
      " [[0.69606817 0.83670252]\n",
      "  [0.21355734 0.19449848]\n",
      "  [0.62694633 0.52489713]]]\n"
     ]
    }
   ],
   "source": [
    "# Python program explaining \n",
    "# numpy.random.random() function \n",
    "\n",
    "# importing numpy \n",
    "import numpy as geek \n",
    "\n",
    "# output array \n",
    "out_arr = geek.random.random((2, 3, 2)) \n",
    "print (\"Output 3D Array filled with random floats : \", out_arr) \n"
   ]
  },
  {
   "cell_type": "markdown",
   "id": "ecf254c8-7eaa-4174-bf31-37bcf1876965",
   "metadata": {},
   "source": [
    "Random sampling in numpy | random_sample() function :"
   ]
  },
  {
   "cell_type": "code",
   "execution_count": 7,
   "id": "2bec054f-a22d-4aae-96ae-0b56750080d2",
   "metadata": {},
   "outputs": [
    {
     "name": "stdout",
     "output_type": "stream",
     "text": [
      "Output random float value :  0.7040518556079954\n"
     ]
    }
   ],
   "source": [
    "# Python program explaining \n",
    "# numpy.random.sample() function \n",
    "\n",
    "# importing numpy \n",
    "import numpy as geek \n",
    "\n",
    "# output random value \n",
    "out_val = geek.random.random_sample() \n",
    "print (\"Output random float value : \", out_val) \n"
   ]
  },
  {
   "cell_type": "code",
   "execution_count": 8,
   "id": "4a57ff90-c685-4787-a5cd-15d88249c8f7",
   "metadata": {},
   "outputs": [
    {
     "name": "stdout",
     "output_type": "stream",
     "text": [
      "Output 2D Array filled with random floats :  [[0.45507823 0.40542054 0.42512575]]\n"
     ]
    }
   ],
   "source": [
    "# Python program explaining \n",
    "# numpy.random.random_sample() function \n",
    "\n",
    "# importing numpy \n",
    "import numpy as geek \n",
    "\n",
    "\n",
    "# output array \n",
    "out_arr = geek.random.random_sample(size =(1, 3)) \n",
    "print (\"Output 2D Array filled with random floats : \", out_arr) \n"
   ]
  },
  {
   "cell_type": "code",
   "execution_count": 9,
   "id": "f3931c2f-b285-45cc-a9c7-cc563467da6c",
   "metadata": {},
   "outputs": [
    {
     "name": "stdout",
     "output_type": "stream",
     "text": [
      "Output 3D Array filled with random floats :  [[[0.0386835 ]\n",
      "  [0.86480321]]\n",
      "\n",
      " [[0.42113661]\n",
      "  [0.53474276]]\n",
      "\n",
      " [[0.70829014]\n",
      "  [0.75825039]]]\n"
     ]
    }
   ],
   "source": [
    "# Python program explaining \n",
    "# numpy.random.random_sample() function \n",
    "\n",
    "# importing numpy \n",
    "import numpy as geek \n",
    "\n",
    "# output array \n",
    "out_arr = geek.random.random_sample((3, 2, 1)) \n",
    "print (\"Output 3D Array filled with random floats : \", out_arr) \n"
   ]
  },
  {
   "cell_type": "markdown",
   "id": "31fe9564-9b21-4062-bdd4-b2c35fae450a",
   "metadata": {},
   "source": [
    "Random sampling in numpy | sample() function :"
   ]
  },
  {
   "cell_type": "code",
   "execution_count": 10,
   "id": "d6c72830-a122-4e09-a0c2-d5d597114036",
   "metadata": {},
   "outputs": [
    {
     "name": "stdout",
     "output_type": "stream",
     "text": [
      "Output random value :  0.6146496906343079\n"
     ]
    }
   ],
   "source": [
    "# Python program explaining\n",
    "# numpy.random.sample() function\n",
    "\n",
    "# importing numpy\n",
    "import numpy as geek\n",
    "\n",
    "# output random value\n",
    "out_val = geek.random.sample()\n",
    "print(\"Output random value : \", out_val)\n"
   ]
  },
  {
   "cell_type": "code",
   "execution_count": 11,
   "id": "3c06d1bf-89d7-4c2b-80cd-ac0f0017b16f",
   "metadata": {},
   "outputs": [
    {
     "name": "stdout",
     "output_type": "stream",
     "text": [
      "Output 2D Array filled with random floats :  [[0.94751256 0.07962772 0.66546618]\n",
      " [0.11582501 0.75132609 0.60151299]\n",
      " [0.76431673 0.13607713 0.79590011]]\n"
     ]
    }
   ],
   "source": [
    "# Python program explaining\n",
    "# numpy.random.sample() function\n",
    "\n",
    "# importing numpy\n",
    "import numpy as geek\n",
    "\n",
    "\n",
    "# output array\n",
    "out_arr = geek.random.sample(size=(3, 3))\n",
    "print(\"Output 2D Array filled with random floats : \", out_arr)\n"
   ]
  },
  {
   "cell_type": "code",
   "execution_count": 12,
   "id": "6da15b67-cb93-41c5-8355-8c99ed334050",
   "metadata": {},
   "outputs": [
    {
     "name": "stdout",
     "output_type": "stream",
     "text": [
      "Output 3D Array filled with random floats :  [[[0.27929314 0.54209859 0.05148531]\n",
      "  [0.79387101 0.34207272 0.6613576 ]]\n",
      "\n",
      " [[0.02836765 0.68647203 0.22522891]\n",
      "  [0.37189201 0.31610423 0.16405199]]]\n"
     ]
    }
   ],
   "source": [
    "# Python program explaining\n",
    "# numpy.random.sample() function\n",
    "\n",
    "# importing numpy\n",
    "import numpy as geek\n",
    "\n",
    "# output array\n",
    "out_arr = geek.random.sample((2, 2, 3))\n",
    "print(\"Output 3D Array filled with random floats : \", out_arr)\n"
   ]
  },
  {
   "cell_type": "markdown",
   "id": "c449f963-2f15-4336-b22c-8873455af9af",
   "metadata": {},
   "source": [
    "Random sampling in numpy | random_integers() function :"
   ]
  },
  {
   "cell_type": "code",
   "execution_count": 13,
   "id": "dc3ddbf9-4105-4a58-9d8c-78c536fdbc8c",
   "metadata": {},
   "outputs": [
    {
     "name": "stdout",
     "output_type": "stream",
     "text": [
      "Output 1D Array filled with random integers :  [0 1 5 1]\n"
     ]
    },
    {
     "name": "stderr",
     "output_type": "stream",
     "text": [
      "C:\\Users\\vishn\\AppData\\Local\\Temp\\ipykernel_14676\\608960991.py:8: DeprecationWarning: This function is deprecated. Please call randint(0, 5 + 1) instead\n",
      "  out_arr = geek.random.random_integers(low = 0, high = 5, size = 4)\n"
     ]
    }
   ],
   "source": [
    "# Python program explaining \n",
    "# numpy.random.random_integers() function \n",
    "\n",
    "# importing numpy \n",
    "import numpy as geek \n",
    "\n",
    "# output array \n",
    "out_arr = geek.random.random_integers(low = 0, high = 5, size = 4) \n",
    "print (\"Output 1D Array filled with random integers : \", out_arr) \n"
   ]
  },
  {
   "cell_type": "code",
   "execution_count": 15,
   "id": "f794ceb2-43d5-41cd-bfbb-a67092038968",
   "metadata": {},
   "outputs": [
    {
     "name": "stdout",
     "output_type": "stream",
     "text": [
      "Output 3D Array filled with random integers :  [[[2 5 6]\n",
      "  [6 6 2]]\n",
      "\n",
      " [[2 6 6]\n",
      "  [3 2 1]]]\n"
     ]
    },
    {
     "name": "stderr",
     "output_type": "stream",
     "text": [
      "C:\\Users\\vishn\\AppData\\Local\\Temp\\ipykernel_14676\\2395538806.py:8: DeprecationWarning: This function is deprecated. Please call randint(1, 6 + 1) instead\n",
      "  out_arr = geek.random.random_integers(1, 6, (2, 2, 3))\n"
     ]
    }
   ],
   "source": [
    "# Python program explaining \n",
    "# numpy.random.random_integers() function \n",
    "\n",
    "# importing numpy \n",
    "import numpy as geek \n",
    "\n",
    "# output array \n",
    "out_arr = geek.random.random_integers(1, 6, (2, 2, 3)) \n",
    "print (\"Output 3D Array filled with random integers : \", out_arr) \n"
   ]
  },
  {
   "cell_type": "markdown",
   "id": "f20617ab-dff7-4abd-81a2-f7ad12055d64",
   "metadata": {},
   "source": [
    "Random sampling in numpy | randint() function :"
   ]
  },
  {
   "cell_type": "code",
   "execution_count": 16,
   "id": "ce344832-824c-4b85-b7b6-d1df13e6b977",
   "metadata": {},
   "outputs": [
    {
     "name": "stdout",
     "output_type": "stream",
     "text": [
      "Output 1D Array filled with random integers :  [1 1 0 2 0]\n"
     ]
    }
   ],
   "source": [
    "# Python program explaining \n",
    "# numpy.random.randint() function \n",
    "\n",
    "# importing numpy \n",
    "import numpy as geek \n",
    "\n",
    "# output array \n",
    "out_arr = geek.random.randint(low = 0, high = 3, size = 5) \n",
    "print (\"Output 1D Array filled with random integers : \", out_arr) \n"
   ]
  },
  {
   "cell_type": "code",
   "execution_count": 17,
   "id": "fe301bfc-86b6-45d9-8a32-063d590f2ab4",
   "metadata": {},
   "outputs": [
    {
     "name": "stdout",
     "output_type": "stream",
     "text": [
      "Output 2D Array filled with random integers :  [[1 1 2]\n",
      " [2 0 0]]\n"
     ]
    }
   ],
   "source": [
    "# Python program explaining \n",
    "# numpy.random.randint() function \n",
    "\n",
    "# importing numpy \n",
    "import numpy as geek \n",
    "\n",
    "\n",
    "# output array \n",
    "out_arr = geek.random.randint(low = 4, size =(2, 3)) \n",
    "print (\"Output 2D Array filled with random integers : \", out_arr) \n"
   ]
  },
  {
   "cell_type": "code",
   "execution_count": 18,
   "id": "36a930fc-cd49-4338-b210-09d123614caa",
   "metadata": {},
   "outputs": [
    {
     "name": "stdout",
     "output_type": "stream",
     "text": [
      "Output 3D Array filled with random integers :  [[[9 9 7 9]\n",
      "  [4 3 4 9]\n",
      "  [3 3 7 8]]\n",
      "\n",
      " [[4 7 9 3]\n",
      "  [2 5 4 4]\n",
      "  [3 3 6 5]]]\n"
     ]
    }
   ],
   "source": [
    "# Python program explaining \n",
    "# numpy.random.randint() function \n",
    "\n",
    "# importing numpy \n",
    "import numpy as geek \n",
    "\n",
    "# output array \n",
    "out_arr = geek.random.randint(2, 10, (2, 3, 4)) \n",
    "print (\"Output 3D Array filled with random integers : \", out_arr) \n"
   ]
  },
  {
   "cell_type": "markdown",
   "id": "2f0429c5-0371-40df-b73d-d763373a09ac",
   "metadata": {},
   "source": [
    "numpy.random.choice() in Python :"
   ]
  },
  {
   "cell_type": "code",
   "execution_count": 19,
   "id": "acd94e09-6cc3-4a66-845b-3a6d41b81156",
   "metadata": {},
   "outputs": [
    {
     "data": {
      "image/png": "[encoded data removed]",
      "text/plain": [
       "<Figure size 640x480 with 1 Axes>"
      ]
     },
     "metadata": {},
     "output_type": "display_data"
    }
   ],
   "source": [
    "# import choice \n",
    "import numpy as np \n",
    "import matplotlib.pyplot as plt \n",
    "\n",
    "# Using choice() method \n",
    "gfg = np.random.choice(13, 5000) \n",
    "\n",
    "count, bins, ignored = plt.hist(gfg, 25, density = True) \n",
    "plt.show()\n"
   ]
  },
  {
   "cell_type": "code",
   "execution_count": 20,
   "id": "190c247a-4047-4913-8269-aa6e5ca7f453",
   "metadata": {},
   "outputs": [
    {
     "data": {
      "image/png": "[encoded data removed]",
      "text/plain": [
       "<Figure size 640x480 with 1 Axes>"
      ]
     },
     "metadata": {},
     "output_type": "display_data"
    }
   ],
   "source": [
    "# import choice \n",
    "import numpy as np \n",
    "import matplotlib.pyplot as plt \n",
    "\n",
    "# Using choice() method \n",
    "gfg = np.random.choice(5, 1000, p =[0.2, 0.1, 0.3, 0.4, 0]) \n",
    "\n",
    "count, bins, ignored = plt.hist(gfg, 14, density = True) \n",
    "plt.show()\n"
   ]
  },
  {
   "cell_type": "markdown",
   "id": "4a6b51dd-667a-44f0-8990-022c9c71a8a7",
   "metadata": {},
   "source": [
    "How to choose elements from the list with different probability using NumPy :"
   ]
  },
  {
   "cell_type": "code",
   "execution_count": 21,
   "id": "3fb8bd4f-b437-478c-b6ef-09011a6082a6",
   "metadata": {},
   "outputs": [
    {
     "name": "stdout",
     "output_type": "stream",
     "text": [
      "40\n"
     ]
    }
   ],
   "source": [
    "# import numpy library \n",
    "import numpy as np \n",
    "\n",
    "# create a list \n",
    "num_list = [10, 20, 30, 40, 50] \n",
    "\n",
    "# uniformly select any element \n",
    "# from the list \n",
    "number = np.random.choice(num_list) \n",
    "\n",
    "print(number)\n"
   ]
  },
  {
   "cell_type": "code",
   "execution_count": 22,
   "id": "be1da054-a073-424d-aa6a-c1c1d98f7eec",
   "metadata": {},
   "outputs": [
    {
     "name": "stdout",
     "output_type": "stream",
     "text": [
      "[40 40 40]\n"
     ]
    }
   ],
   "source": [
    "# import numpy library \n",
    "import numpy as np \n",
    "\n",
    "# create a list \n",
    "num_list = [10, 20, 30, 40, 50] \n",
    "\n",
    "# choose index number-3rd element \n",
    "# with 100% probability and other \n",
    "# elements probability set to 0 \n",
    "# using p parameter of the \n",
    "# choice() method so only \n",
    "# 3rd index element selected \n",
    "# every time in the list size of 3. \n",
    "number_list = np.random.choice(num_list, 3, \n",
    "\t\t\t\t\t\tp = [0, 0, 0, 1, 0]) \n",
    "\n",
    "print(number_list)\n"
   ]
  },
  {
   "cell_type": "code",
   "execution_count": 23,
   "id": "d8ccd1cb-5ca9-4ead-8937-a65a5f7cf6ff",
   "metadata": {},
   "outputs": [
    {
     "name": "stdout",
     "output_type": "stream",
     "text": [
      "[30 30 30]\n"
     ]
    }
   ],
   "source": [
    "# import numpy library \n",
    "import numpy as np \n",
    "\n",
    "# create a list \n",
    "num_list = [10, 20, 30, 40, 50] \n",
    "\n",
    "\n",
    "# choose index number 2nd & 3rd element \n",
    "# with 50%-50% probability and other \n",
    "# elements probability set to 0 \n",
    "# using p parameter of the \n",
    "# choice() method so 2nd & \n",
    "# 3rd index elements selected \n",
    "# every time in the list size of 3. \n",
    "number_list = np.random.choice(num_list, 3, \n",
    "\t\t\t\t\t\tp = [0, 0, 0.5, 0.5, 0]) \n",
    "\n",
    "print(number_list)\n"
   ]
  },
  {
   "cell_type": "markdown",
   "id": "dd01c57e-4635-4e92-9dfe-523379c547f2",
   "metadata": {},
   "source": [
    "How to get weighted random choice in Python :"
   ]
  },
  {
   "cell_type": "code",
   "execution_count": 24,
   "id": "08a4debc-7908-401b-af9b-15cb394cb465",
   "metadata": {},
   "outputs": [
    {
     "name": "stdout",
     "output_type": "stream",
     "text": [
      "[500, 200, 500, 400, 300]\n"
     ]
    }
   ],
   "source": [
    "import random\n",
    "\n",
    "\n",
    "sampleList = [100, 200, 300, 400, 500]\n",
    "\n",
    "randomList = random.choices(\n",
    "sampleList, weights=(10, 20, 30, 40, 50), k=5)\n",
    "\n",
    "print(randomList)\n"
   ]
  },
  {
   "cell_type": "code",
   "execution_count": 25,
   "id": "0675cba3-55ca-4bb7-9078-557357089c86",
   "metadata": {},
   "outputs": [
    {
     "name": "stdout",
     "output_type": "stream",
     "text": [
      "[300, 400, 400, 500, 300]\n"
     ]
    }
   ],
   "source": [
    "import random\n",
    "\n",
    "sampleList = [100, 200, 300, 400, 500]\n",
    "randomList = random.choices(\n",
    "sampleList, cum_weights=(5, 15, 35, 65, 100), k=5)\n",
    "\n",
    "print(randomList)\n"
   ]
  },
  {
   "cell_type": "markdown",
   "id": "52716af9-d7d2-446b-b57e-c9325ef0f37b",
   "metadata": {},
   "source": [
    "Using numpy.random.choice() method :"
   ]
  },
  {
   "cell_type": "code",
   "execution_count": 26,
   "id": "258e48d7-53b1-4b7e-aa32-1eea0c27d4bc",
   "metadata": {},
   "outputs": [
    {
     "name": "stdout",
     "output_type": "stream",
     "text": [
      "[500 500 500 500 500]\n"
     ]
    }
   ],
   "source": [
    "from numpy.random import choice\n",
    "\n",
    "sampleList = [100, 200, 300, 400, 500]\n",
    "randomNumberList = choice(\n",
    "sampleList, 5, p=[0.05, 0.1, 0.15, 0.20, 0.5])\n",
    "\n",
    "print(randomNumberList)\n"
   ]
  },
  {
   "cell_type": "markdown",
   "id": "1c559d4d-215b-43da-9386-17b85c81b153",
   "metadata": {},
   "source": [
    "numpy.random.shuffle() in python :"
   ]
  },
  {
   "cell_type": "code",
   "execution_count": 27,
   "id": "f2249274-feef-4c4e-9d7c-24d020d5f051",
   "metadata": {},
   "outputs": [
    {
     "name": "stdout",
     "output_type": "stream",
     "text": [
      "[1 2 5 8 7 6 4 3 9 0]\n"
     ]
    }
   ],
   "source": [
    "# import numpy \n",
    "import numpy as np \n",
    "import matplotlib.pyplot as plt \n",
    "\n",
    "gfg = np.arange(10) \n",
    "# Using shuffle() method \n",
    "np.random.shuffle(gfg) \n",
    "\n",
    "print(gfg)\n"
   ]
  },
  {
   "cell_type": "code",
   "execution_count": 28,
   "id": "ecf91372-90ab-4eea-8ceb-6a5dfb90ae73",
   "metadata": {},
   "outputs": [
    {
     "name": "stdout",
     "output_type": "stream",
     "text": [
      "[[12 13 14 15]\n",
      " [ 4  5  6  7]\n",
      " [ 8  9 10 11]\n",
      " [ 0  1  2  3]]\n"
     ]
    }
   ],
   "source": [
    "# import numpy \n",
    "import numpy as np \n",
    "import matplotlib.pyplot as plt \n",
    "\n",
    "gfg = np.arange(16).reshape((4, 4)) \n",
    "# Using shuffle() method \n",
    "np.random.shuffle(gfg) \n",
    "\n",
    "print(gfg)\n"
   ]
  },
  {
   "cell_type": "markdown",
   "id": "ed819d76-8268-446c-9339-91ba7a03c6fe",
   "metadata": {},
   "source": [
    "numpy.random.geometric() in Python :"
   ]
  },
  {
   "cell_type": "code",
   "execution_count": 29,
   "id": "e1eb30c0-6996-413d-8b0c-4e291e351265",
   "metadata": {},
   "outputs": [
    {
     "data": {
      "image/png": "[encoded data removed]",
      "text/plain": [
       "<Figure size 640x480 with 1 Axes>"
      ]
     },
     "metadata": {},
     "output_type": "display_data"
    }
   ],
   "source": [
    "# import numpy and geometric \n",
    "import numpy as np \n",
    "import matplotlib.pyplot as plt \n",
    "\n",
    "# Using geometric() method \n",
    "gfg = np.random.geometric(0.65, 1000) \n",
    "\n",
    "count, bins, ignored = plt.hist(gfg, 40, density = True) \n",
    "plt.show()\n"
   ]
  },
  {
   "cell_type": "code",
   "execution_count": 30,
   "id": "57aa1590-b8ce-4ee2-af63-9e5a8b9d575c",
   "metadata": {},
   "outputs": [
    {
     "data": {
      "image/png": "[encoded data removed]",
      "text/plain": [
       "<Figure size 640x480 with 1 Axes>"
      ]
     },
     "metadata": {},
     "output_type": "display_data"
    }
   ],
   "source": [
    "# import numpy and geometric \n",
    "import numpy as np \n",
    "import matplotlib.pyplot as plt \n",
    "\n",
    "# Using geometric() method \n",
    "gfg = np.random.geometric(0.85, 1000) \n",
    "\n",
    "count, bins, ignored = plt.hist(gfg, 10, density = True) \n",
    "plt.show()\n"
   ]
  },
  {
   "cell_type": "markdown",
   "id": "edf12a00-0f64-4d6e-845e-51f545f80b46",
   "metadata": {},
   "source": [
    "numpy.random.permutation() in Python :"
   ]
  },
  {
   "cell_type": "code",
   "execution_count": 31,
   "id": "337cc200-ed7c-455d-b538-6545758aa1c6",
   "metadata": {},
   "outputs": [
    {
     "data": {
      "image/png": "[encoded data removed]",
      "text/plain": [
       "<Figure size 640x480 with 1 Axes>"
      ]
     },
     "metadata": {},
     "output_type": "display_data"
    }
   ],
   "source": [
    "# import numpy \n",
    "import numpy as np \n",
    "import matplotlib.pyplot as plt \n",
    "\n",
    "# Using permutation() method \n",
    "gfg = np.random.permutation(200) \n",
    "\n",
    "count, bins, ignored = plt.hist(gfg, 14, density = True) \n",
    "plt.show()\n"
   ]
  },
  {
   "cell_type": "code",
   "execution_count": 32,
   "id": "420255e7-6649-448c-9356-4cf2154c0c0c",
   "metadata": {},
   "outputs": [
    {
     "data": {
      "image/png": "[encoded data removed]",
      "text/plain": [
       "<Figure size 640x480 with 1 Axes>"
      ]
     },
     "metadata": {},
     "output_type": "display_data"
    }
   ],
   "source": [
    "# import numpy \n",
    "import numpy as np \n",
    "import matplotlib.pyplot as plt \n",
    "\n",
    "arr = np.arange(12).reshape((4, 3)) \n",
    "# Using permutation() method \n",
    "gfg = np.random.permutation(arr) \n",
    "\n",
    "count, bins, ignored = plt.hist(gfg, 14, density = True) \n",
    "plt.show()\n"
   ]
  },
  {
   "cell_type": "code",
   "execution_count": null,
   "id": "c2d843d1-6d69-4687-a4c3-c602b9a2e550",
   "metadata": {},
   "outputs": [],
   "source": []
  }
 ],
 "metadata": {
  "kernelspec": {
   "display_name": "Python 3 (ipykernel)",
   "language": "python",
   "name": "python3"
  },
  "language_info": {
   "codemirror_mode": {
    "name": "ipython",
    "version": 3
   },
   "file_extension": ".py",
   "mimetype": "text/x-python",
   "name": "python",
   "nbconvert_exporter": "python",
   "pygments_lexer": "ipython3",
   "version": "3.11.7"
  }
 },
 "nbformat": 4,
 "nbformat_minor": 5
}
