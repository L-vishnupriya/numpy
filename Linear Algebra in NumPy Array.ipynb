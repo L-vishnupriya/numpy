{
 "cells": [
  {
   "cell_type": "markdown",
   "id": "b86b597f-aa1e-403e-975c-420b8a7412c1",
   "metadata": {},
   "source": [
    "Linear Algebra :"
   ]
  },
  {
   "cell_type": "code",
   "execution_count": 1,
   "id": "08f95477-bc2b-4c58-b64a-49e4dd84e0ad",
   "metadata": {},
   "outputs": [
    {
     "name": "stdout",
     "output_type": "stream",
     "text": [
      "Rank of A: 3\n",
      "\n",
      "Trace of A: 11\n",
      "\n",
      "Determinant of A: -306.0\n",
      "\n",
      "Inverse of A:\n",
      " [[ 0.17647059 -0.00326797 -0.02287582]\n",
      " [ 0.05882353 -0.13071895  0.08496732]\n",
      " [-0.11764706  0.1503268   0.05228758]]\n",
      "\n",
      "Matrix A raised to power 3:\n",
      " [[336 162 228]\n",
      " [406 162 469]\n",
      " [698 702 905]]\n"
     ]
    }
   ],
   "source": [
    "# Importing numpy as np\n",
    "import numpy as np\n",
    " \n",
    "A = np.array([[6, 1, 1],\n",
    "              [4, -2, 5],\n",
    "              [2, 8, 7]])\n",
    " \n",
    "# Rank of a matrix\n",
    "print(\"Rank of A:\", np.linalg.matrix_rank(A))\n",
    " \n",
    "# Trace of matrix A\n",
    "print(\"\\nTrace of A:\", np.trace(A))\n",
    " \n",
    "# Determinant of a matrix\n",
    "print(\"\\nDeterminant of A:\", np.linalg.det(A))\n",
    " \n",
    "# Inverse of matrix A\n",
    "print(\"\\nInverse of A:\\n\", np.linalg.inv(A))\n",
    " \n",
    "print(\"\\nMatrix A raised to power 3:\\n\",\n",
    "           np.linalg.matrix_power(A, 3))"
   ]
  },
  {
   "cell_type": "code",
   "execution_count": 2,
   "id": "1f515a35-f1e2-41d5-9d9b-8872a116e63e",
   "metadata": {},
   "outputs": [
    {
     "name": "stdout",
     "output_type": "stream",
     "text": [
      "Array is : [[ 1.+0.j -0.-2.j]\n",
      " [ 0.+2.j  5.+0.j]]\n",
      "Eigen value is : [0.17157288 5.82842712]\n",
      "Eigen value is : [[-0.92387953-0.j         -0.38268343+0.j        ]\n",
      " [ 0.        +0.38268343j  0.        -0.92387953j]]\n"
     ]
    }
   ],
   "source": [
    "# Python program explaining\n",
    "# eigh() function\n",
    " \n",
    "from numpy import linalg as geek\n",
    " \n",
    "# Creating an array using array \n",
    "# function\n",
    "a = np.array([[1, -2j], [2j, 5]])\n",
    " \n",
    "print(\"Array is :\",a)\n",
    " \n",
    "# calculating an eigen value\n",
    "# using eigh() function\n",
    "c, d = geek.eigh(a)\n",
    " \n",
    "print(\"Eigen value is :\", c)\n",
    "print(\"Eigen value is :\", d)"
   ]
  },
  {
   "cell_type": "markdown",
   "id": "5d3cb916-9e77-44e1-b909-ddf65fd810a8",
   "metadata": {},
   "source": [
    "numpy.linalg.eig(a) : \n",
    "\n",
    "This function is used to compute the eigenvalues and right eigenvectors of a square array."
   ]
  },
  {
   "cell_type": "code",
   "execution_count": 3,
   "id": "a60cec69-447b-4305-8bbc-67bd39b3d835",
   "metadata": {},
   "outputs": [
    {
     "name": "stdout",
     "output_type": "stream",
     "text": [
      "Array is : [[1 0 0]\n",
      " [0 2 0]\n",
      " [0 0 3]]\n",
      "Eigen value is : [1. 2. 3.]\n",
      "Eigen value is : [[1. 0. 0.]\n",
      " [0. 1. 0.]\n",
      " [0. 0. 1.]]\n"
     ]
    }
   ],
   "source": [
    "# eig() function\n",
    " \n",
    "from numpy import linalg as geek\n",
    " \n",
    "# Creating an array using diag \n",
    "# function\n",
    "a = np.diag((1, 2, 3))\n",
    " \n",
    "print(\"Array is :\",a)\n",
    " \n",
    "# calculating an eigen value\n",
    "# using eig() function\n",
    "c, d = geek.eig(a)\n",
    " \n",
    "print(\"Eigen value is :\",c)\n",
    "print(\"Eigen value is :\",d)"
   ]
  },
  {
   "cell_type": "code",
   "execution_count": 4,
   "id": "0d378941-0f5b-4b14-8e82-13b16295c488",
   "metadata": {},
   "outputs": [
    {
     "name": "stdout",
     "output_type": "stream",
     "text": [
      "Dot Product of scalar values  :  20\n",
      "Dot Product  :  (-7+22j)\n"
     ]
    }
   ],
   "source": [
    "# Python Program illustrating\n",
    "# numpy.dot() method\n",
    " \n",
    "import numpy as geek\n",
    " \n",
    "# Scalars\n",
    "product = geek.dot(5, 4)\n",
    "print(\"Dot Product of scalar values  : \", product)\n",
    " \n",
    "# 1D array\n",
    "vector_a = 2 + 3j\n",
    "vector_b = 4 + 5j\n",
    " \n",
    "product = geek.dot(vector_a, vector_b)\n",
    "print(\"Dot Product  : \", product)"
   ]
  },
  {
   "cell_type": "code",
   "execution_count": 5,
   "id": "1afae3fc-fc30-49a6-983e-51dd0e754817",
   "metadata": {},
   "outputs": [
    {
     "name": "stdout",
     "output_type": "stream",
     "text": [
      "Dot Product  :  (23-2j)\n"
     ]
    }
   ],
   "source": [
    "# Python Program illustrating\n",
    "# numpy.vdot() method\n",
    " \n",
    "import numpy as geek\n",
    " \n",
    "# 1D array\n",
    "vector_a = 2 + 3j\n",
    "vector_b = 4 + 5j\n",
    " \n",
    "product = geek.vdot(vector_a, vector_b)\n",
    "print(\"Dot Product  : \", product)"
   ]
  },
  {
   "cell_type": "markdown",
   "id": "1160a6a4-260c-4463-96aa-76a6dea99c79",
   "metadata": {},
   "source": [
    "numpy.linalg.solve() : \n",
    "\n",
    "Solve a linear matrix equation, or system of linear scalar equations.Computes the “exact” solution, x, of the well-determined, i.e., full rank, linear matrix equation ax = b."
   ]
  },
  {
   "cell_type": "code",
   "execution_count": 6,
   "id": "d288d058-c39c-4978-907a-75b6b8c06b2c",
   "metadata": {},
   "outputs": [
    {
     "name": "stdout",
     "output_type": "stream",
     "text": [
      "('Solution of linear equations:', array([2., 3.]))\n"
     ]
    }
   ],
   "source": [
    "# numpy.linalg.solve() method\n",
    " \n",
    "import numpy as np\n",
    " \n",
    "# Creating an array using array\n",
    "# function\n",
    "a = np.array([[1, 2], [3, 4]])\n",
    " \n",
    "# Creating an array using array\n",
    "# function\n",
    "b = np.array([8, 18])\n",
    " \n",
    "print((\"Solution of linear equations:\", \n",
    "      np.linalg.solve(a, b)))"
   ]
  },
  {
   "cell_type": "markdown",
   "id": "2c4c8ef6-7e2c-4fe9-9316-bbe5041a4fb0",
   "metadata": {},
   "source": [
    "numpy.linalg.lstsq() :\n",
    "\n",
    "Return the least-squares solution to a linear matrix equation.Solves the equation a x = b by computing a vector x that minimizes the Euclidean 2-norm || b – a x ||^2. The equation may be under-, well-, or over- determined (i.e., the number of linearly independent rows of a can be less than, equal to, or greater than its number of linearly independent columns). If a is square and of full rank, then x (but for round-off error) is the “exact” solution of the equation."
   ]
  },
  {
   "cell_type": "markdown",
   "id": "58e18fbe-5b6b-4e4d-a979-58f834b85511",
   "metadata": {},
   "source": [
    "# Python Program illustrating\n",
    "# numpy.linalg.lstsq() method\n",
    " \n",
    " \n",
    "import numpy as np\n",
    "import matplotlib.pyplot as plt\n",
    " \n",
    "# x co-ordinates\n",
    "x = np.arange(0, 9)\n",
    "A = np.array([x, np.ones(9)])\n",
    " \n",
    "# linearly generated sequence\n",
    "y = [19, 20, 20.5, 21.5, 22, 23, 23, 25.5, 24]\n",
    "# obtaining the parameters of regression line\n",
    "w = np.linalg.lstsq(A.T, y)[0] \n",
    " \n",
    "# plotting the line\n",
    "line = w[0]*x + w[1] # regression line\n",
    "plt.plot(x, line, 'r-')\n",
    "plt.plot(x, y, 'o')\n",
    "plt.show()"
   ]
  },
  {
   "cell_type": "markdown",
   "id": "d51cf926-9672-4377-b112-1b68da40f12c",
   "metadata": {},
   "source": [
    "numpy.linalg.det() : \n",
    "\n",
    "Compute the determinant of an array."
   ]
  },
  {
   "cell_type": "code",
   "execution_count": 8,
   "id": "7b70e6cd-5603-4ff4-a242-6b46f3708087",
   "metadata": {},
   "outputs": [
    {
     "name": "stdout",
     "output_type": "stream",
     "text": [
      "('\\nDeterminant of A:', -306.0)\n"
     ]
    }
   ],
   "source": [
    "# Python Program illustrating\n",
    "# numpy.linalg.det() method\n",
    " \n",
    "import numpy as np\n",
    " \n",
    "# creating an array using \n",
    "# array method\n",
    "A = np.array([[6, 1, 1],\n",
    "              [4, -2, 5],\n",
    "              [2, 8, 7]])\n",
    " \n",
    " \n",
    "print((\"\\nDeterminant of A:\"\n",
    "     , np.linalg.det(A)))"
   ]
  },
  {
   "cell_type": "markdown",
   "id": "ec2a3131-2d64-44f6-80fd-7ff056e6014e",
   "metadata": {},
   "source": [
    "numpy.trace() :\n",
    "\n",
    "Return the sum along diagonals of the array.If a is 2-D, the sum along its diagonal with the given offset is returned"
   ]
  },
  {
   "cell_type": "code",
   "execution_count": 9,
   "id": "66d4fd8a-868c-47d2-b2c2-d3eea81ac87e",
   "metadata": {},
   "outputs": [
    {
     "name": "stdout",
     "output_type": "stream",
     "text": [
      "\n",
      "Trace of A: 11\n"
     ]
    }
   ],
   "source": [
    "import numpy as np\n",
    " \n",
    "# creating an array using \n",
    "# array method\n",
    "A = np.array([[6, 1, 1],\n",
    "              [4, -2, 5],\n",
    "              [2, 8, 7]])\n",
    " \n",
    " \n",
    "print(\"\\nTrace of A:\", np.trace(A))"
   ]
  },
  {
   "cell_type": "markdown",
   "id": "7933aa71-9a94-44bb-befe-0f50215e7074",
   "metadata": {},
   "source": [
    "Get the QR factorization of a given NumPy array :"
   ]
  },
  {
   "cell_type": "code",
   "execution_count": 10,
   "id": "8e96fa99-6fc2-44fa-b31e-ac603f5e1325",
   "metadata": {},
   "outputs": [
    {
     "name": "stdout",
     "output_type": "stream",
     "text": [
      "Decomposition of matrix:\n",
      "q=\n",
      " [[-0.60971076 -0.79262399]\n",
      " [-0.79262399  0.60971076]] \n",
      "r=\n",
      " [[-16.40121947 -18.16938067]\n",
      " [  0.         -13.7794632 ]]\n"
     ]
    }
   ],
   "source": [
    "# Import numpy package \n",
    "import numpy as np \n",
    "\n",
    "# Create a numpy array \n",
    "arr = np.array([[10,22],[13,6]]) \n",
    "\n",
    "# Find the QR factor of array \n",
    "q, r = np.linalg.qr(arr) \n",
    "\n",
    "# Print the result \n",
    "print(\"Decomposition of matrix:\") \n",
    "print( \"q=\\n\", q, \"\\nr=\\n\", r)\n"
   ]
  },
  {
   "cell_type": "code",
   "execution_count": 11,
   "id": "167cc5fe-8721-4d62-b484-5fc50f29fa35",
   "metadata": {},
   "outputs": [
    {
     "name": "stdout",
     "output_type": "stream",
     "text": [
      "Decomposition of matrix:\n",
      "q=\n",
      " [[ 0.          0.73854895]\n",
      " [-0.40824829 -0.61545745]\n",
      " [-0.40824829  0.12309149]\n",
      " [-0.81649658  0.24618298]] \n",
      "r=\n",
      " [[-2.44948974 -2.04124145]\n",
      " [ 0.          1.3540064 ]]\n"
     ]
    }
   ],
   "source": [
    "# Import numpy package \n",
    "import numpy as np \n",
    "\n",
    "# Create a numpy array \n",
    "arr = np.array([[0, 1], [1, 0], [1, 1], [2, 2]]) \n",
    "\n",
    "# Find the QR factor of array \n",
    "q, r = np.linalg.qr(arr) \n",
    "\n",
    "# Print the result \n",
    "print(\"Decomposition of matrix:\") \n",
    "print( \"q=\\n\", q, \"\\nr=\\n\", r) \n"
   ]
  },
  {
   "cell_type": "code",
   "execution_count": 12,
   "id": "c226a516-20cc-4037-b62e-d85c31c6c987",
   "metadata": {},
   "outputs": [
    {
     "name": "stdout",
     "output_type": "stream",
     "text": [
      "Decomposition of matrix:\n",
      "q=\n",
      " [[-0.18318583 -0.08610905  0.97929984]\n",
      " [-0.43964598 -0.88381371 -0.15995231]\n",
      " [ 0.87929197 -0.45984624  0.12404465]] \n",
      "r=\n",
      " [[-27.29468813 -54.77256208 106.06459346]\n",
      " [  0.         -11.22347731   4.06028083]\n",
      " [  0.           0.           4.88017756]]\n"
     ]
    }
   ],
   "source": [
    "# Import numpy package \n",
    "import numpy as np \n",
    "\n",
    "# Create a numpy array \n",
    "arr = np.array([[5, 11, -15], [12, 34, -51], \n",
    "\t\t\t\t[-24, -43, 92]], dtype=np.int32) \n",
    "\n",
    "# Find the QR factor of array \n",
    "q, r = np.linalg.qr(arr) \n",
    "\n",
    "# Print the result \n",
    "print(\"Decomposition of matrix:\") \n",
    "print( \"q=\\n\", q, \"\\nr=\\n\", r)\n"
   ]
  },
  {
   "cell_type": "markdown",
   "id": "e526cc1c-fda7-424e-ab1d-290cbb1b48fb",
   "metadata": {},
   "source": [
    "How to get the magnitude of a vector in NumPy :"
   ]
  },
  {
   "cell_type": "code",
   "execution_count": 13,
   "id": "2f07f573-49f7-4489-b893-06453822cb3c",
   "metadata": {},
   "outputs": [
    {
     "name": "stdout",
     "output_type": "stream",
     "text": [
      "Vector: [0 1 2 3 4]\n",
      "Magnitude of the Vector: 5.477225575051661\n"
     ]
    }
   ],
   "source": [
    "# program to compute magnitude of a vector\n",
    "\n",
    "# importing required libraries\n",
    "import numpy\n",
    "import math\n",
    "\n",
    "# function definition to compute magnitude o f the vector\n",
    "def magnitude(vector): \n",
    "\treturn math.sqrt(sum(pow(element, 2) for element in vector))\n",
    "\n",
    "# displaying the original vector\n",
    "v = numpy.array([0, 1, 2, 3, 4])\n",
    "print('Vector:', v)\n",
    "\n",
    "# computing and displaying the magnitude of the vector\n",
    "print('Magnitude of the Vector:', magnitude(v))\n"
   ]
  },
  {
   "cell_type": "code",
   "execution_count": 14,
   "id": "8728398f-4485-42ad-8d13-a3e5cd635130",
   "metadata": {},
   "outputs": [
    {
     "name": "stdout",
     "output_type": "stream",
     "text": [
      "Magnitude of the Vector: 3.7416573867739413\n"
     ]
    }
   ],
   "source": [
    "# program to compute magnitude of a vector\n",
    "\n",
    "# importing required libraries\n",
    "import numpy\n",
    "import math\n",
    "\n",
    "# function definition to compute magnitude o f the vector\n",
    "def magnitude(vector): \n",
    "\treturn math.sqrt(sum(pow(element, 2) for element in vector))\n",
    "\n",
    "# computing and displaying the magnitude of the vector\n",
    "print('Magnitude of the Vector:', magnitude(numpy.array([1, 2, 3])))\n"
   ]
  },
  {
   "cell_type": "code",
   "execution_count": 15,
   "id": "a585f3cd-98d9-4383-a7a4-6bd8e9284f57",
   "metadata": {},
   "outputs": [
    {
     "name": "stdout",
     "output_type": "stream",
     "text": [
      "Vector: [1 2 3]\n",
      "Magnitude of the Vector: 3.7416573867739413\n"
     ]
    }
   ],
   "source": [
    "# program to compute magnitude of a vector\n",
    "\n",
    "# importing required libraries\n",
    "import numpy\n",
    "\n",
    "# displaying the original vector\n",
    "v = numpy.array([1, 2, 3])\n",
    "print('Vector:', v)\n",
    "\n",
    "# computing and displaying the magnitude of\n",
    "# the vector using norm() method\n",
    "print('Magnitude of the Vector:', numpy.linalg.norm(v))\n"
   ]
  },
  {
   "cell_type": "code",
   "execution_count": 16,
   "id": "3f7a74f5-6c55-4876-82a7-1b1c782bcd80",
   "metadata": {},
   "outputs": [
    {
     "name": "stdout",
     "output_type": "stream",
     "text": [
      "Vector: [0 1 2 3 4]\n",
      "Magnitude of the Vector: 5.477225575051661\n",
      "ord is 0:  4.0\n",
      "ord is 1:  10.0\n",
      "ord is 2:  5.477225575051661\n",
      "ord is 3:  4.641588833612778\n",
      "ord is 4:  4.337613136533361\n"
     ]
    }
   ],
   "source": [
    "# program to compute the nth order of the \n",
    "# magnitude of a vector\n",
    "\n",
    "# importing required libraries\n",
    "import numpy\n",
    "\n",
    "# displaying the original vector\n",
    "v = numpy.array([0, 1, 2, 3, 4])\n",
    "print('Vector:', v)\n",
    "\n",
    "# computing and displaying the magnitude of the vector\n",
    "print('Magnitude of the Vector:', numpy.linalg.norm(v))\n",
    "\n",
    "# Computing the nth order of the magnitude of vector\n",
    "print('ord is 0: ', numpy.linalg.norm(v, ord = 0))\n",
    "print('ord is 1: ', numpy.linalg.norm(v, ord = 1))\n",
    "print('ord is 2: ', numpy.linalg.norm(v, ord = 2))\n",
    "print('ord is 3: ', numpy.linalg.norm(v, ord = 3))\n",
    "print('ord is 4: ', numpy.linalg.norm(v, ord = 4))\n"
   ]
  },
  {
   "cell_type": "markdown",
   "id": "c1217ab2-8cdb-4fd7-a43e-c3cd6ff92e0d",
   "metadata": {},
   "source": [
    "How to compute the eigenvalues and right eigenvectors of a given square array using NumPY :"
   ]
  },
  {
   "cell_type": "code",
   "execution_count": 18,
   "id": "1a4a6f89-20de-426c-9b32-515607c91880",
   "metadata": {},
   "outputs": [
    {
     "name": "stdout",
     "output_type": "stream",
     "text": [
      "Printing the Original square array:\n",
      " [[1 2]\n",
      " [2 3]]\n",
      "Printing the Eigen values of the given square array:\n",
      " [-0.23606798  4.23606798]\n",
      "Printing Right eigenvectors of the given square array:\n",
      " [[-0.85065081 -0.52573111]\n",
      " [ 0.52573111 -0.85065081]]\n"
     ]
    }
   ],
   "source": [
    "# importing numpy library \n",
    "import numpy as np \n",
    "\n",
    "# create numpy 2d-array \n",
    "m = np.array([[1, 2], \n",
    "\t\t\t[2, 3]]) \n",
    "\n",
    "print(\"Printing the Original square array:\\n\", \n",
    "\tm) \n",
    "\n",
    "# finding eigenvalues and eigenvectors \n",
    "w, v = np.linalg.eig(m) \n",
    "\n",
    "# printing eigen values \n",
    "print(\"Printing the Eigen values of the given square array:\\n\", \n",
    "\tw) \n",
    "\n",
    "# printing eigen vectors \n",
    "print(\"Printing Right eigenvectors of the given square array:\\n\",\n",
    "\tv)\n"
   ]
  },
  {
   "cell_type": "code",
   "execution_count": 19,
   "id": "48008471-2ded-4939-959e-867b36a3713d",
   "metadata": {},
   "outputs": [
    {
     "name": "stdout",
     "output_type": "stream",
     "text": [
      "Printing the Original square array:\n",
      " [[1 2 3]\n",
      " [2 3 4]\n",
      " [4 5 6]]\n",
      "Printing the Eigen values of the given square array:\n",
      " [ 1.08309519e+01 -8.30951895e-01 -1.09042184e-16]\n",
      "Printing Right eigenvectors of the given square array:\n",
      " [[ 0.34416959  0.72770285  0.40824829]\n",
      " [ 0.49532111  0.27580256 -0.81649658]\n",
      " [ 0.79762415 -0.62799801  0.40824829]]\n"
     ]
    }
   ],
   "source": [
    "# importing numpy library \n",
    "import numpy as np \n",
    "\n",
    "# create numpy 2d-array \n",
    "m = np.array([[1, 2, 3], \n",
    "\t\t\t[2, 3, 4], \n",
    "\t\t\t[4, 5, 6]]) \n",
    "\n",
    "print(\"Printing the Original square array:\\n\", \n",
    "\tm) \n",
    "\n",
    "# finding eigenvalues and eigenvectors \n",
    "w, v = np.linalg.eig(m) \n",
    "\n",
    "# printing eigen values \n",
    "print(\"Printing the Eigen values of the given square array:\\n\", \n",
    "\tw) \n",
    "\n",
    "# printing eigen vectors \n",
    "print(\"Printing Right eigenvectors of the given square array:\\n\", \n",
    "\tv) \n"
   ]
  },
  {
   "cell_type": "code",
   "execution_count": null,
   "id": "46fe40ab-cc13-4aef-b557-340f65c6cfab",
   "metadata": {},
   "outputs": [],
   "source": []
  }
 ],
 "metadata": {
  "kernelspec": {
   "display_name": "Python 3 (ipykernel)",
   "language": "python",
   "name": "python3"
  },
  "language_info": {
   "codemirror_mode": {
    "name": "ipython",
    "version": 3
   },
   "file_extension": ".py",
   "mimetype": "text/x-python",
   "name": "python",
   "nbconvert_exporter": "python",
   "pygments_lexer": "ipython3",
   "version": "3.11.7"
  }
 },
 "nbformat": 4,
 "nbformat_minor": 5
}
