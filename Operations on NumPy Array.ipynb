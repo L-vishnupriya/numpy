{
 "cells": [
  {
   "cell_type": "markdown",
   "id": "d93371d2-02db-47ed-a6da-e67bfb1392f8",
   "metadata": {},
   "source": [
    "Binary Operations :"
   ]
  },
  {
   "cell_type": "markdown",
   "id": "9cd9b50c-fd11-4be9-8e68-e3e7176352b9",
   "metadata": {},
   "source": [
    "Binary operators :\n",
    "\n",
    "Itacts on bits and performs bit by bit operation. Binary operation is simply a rule for combining two values to create a new value.\n",
    "\n",
    "numpy.bitwise_and() : \n",
    "\n",
    "This function is used to Compute the bit-wise AND of two array element-wise. This function computes the bit-wise AND of the underlying binary representation of the integers in the input arrays."
   ]
  },
  {
   "cell_type": "code",
   "execution_count": 1,
   "id": "e089f63b-0f3b-4918-9436-6d725a56f1b6",
   "metadata": {},
   "outputs": [
    {
     "name": "stdout",
     "output_type": "stream",
     "text": [
      "Input  number1 :  10\n",
      "Input  number2 :  11\n",
      "bitwise_and of 10 and 11 :  10\n"
     ]
    }
   ],
   "source": [
    "# Python program explaining\n",
    "# bitwise_and() function\n",
    " \n",
    "import numpy as geek\n",
    "in_num1 = 10\n",
    "in_num2 = 11\n",
    " \n",
    "print (\"Input  number1 : \", in_num1)\n",
    "print (\"Input  number2 : \", in_num2) \n",
    "   \n",
    "out_num = geek.bitwise_and(in_num1, in_num2) \n",
    "print (\"bitwise_and of 10 and 11 : \", out_num) "
   ]
  },
  {
   "cell_type": "code",
   "execution_count": 2,
   "id": "44f820ed-045e-4dd9-94a9-0ca1b30594dc",
   "metadata": {},
   "outputs": [
    {
     "name": "stdout",
     "output_type": "stream",
     "text": [
      "Input array1 :  [2, 8, 125]\n",
      "Input array2 :  [3, 3, 115]\n",
      "Output array after bitwise_and:  [  2   0 113]\n"
     ]
    }
   ],
   "source": [
    "import numpy as geek\n",
    " \n",
    "in_arr1 = [2, 8, 125]\n",
    "in_arr2 = [3, 3, 115]\n",
    "  \n",
    "print (\"Input array1 : \", in_arr1) \n",
    "print (\"Input array2 : \", in_arr2)\n",
    "   \n",
    "out_arr = geek.bitwise_and(in_arr1, in_arr2) \n",
    "print (\"Output array after bitwise_and: \", out_arr) "
   ]
  },
  {
   "cell_type": "markdown",
   "id": "e04173dc-a5c3-45a7-a301-5ffba7d8ea2d",
   "metadata": {},
   "source": [
    " \n",
    "numpy.bitwise_or() : \n",
    "\n",
    "This function is used to Compute the bit-wise OR of two array element-wise. This function computes the bit-wise OR of the underlying binary representation of the integers in the input arrays"
   ]
  },
  {
   "cell_type": "code",
   "execution_count": 3,
   "id": "f22b1d5d-6972-47a0-8fc4-8c35855e42a5",
   "metadata": {},
   "outputs": [
    {
     "name": "stdout",
     "output_type": "stream",
     "text": [
      "Input  number1 :  10\n",
      "Input  number2 :  11\n",
      "bitwise_or of 10 and 11 :  11\n"
     ]
    }
   ],
   "source": [
    " \n",
    "import numpy as geek\n",
    "in_num1 = 10\n",
    "in_num2 = 11\n",
    " \n",
    "print (\"Input  number1 : \", in_num1)\n",
    "print (\"Input  number2 : \", in_num2) \n",
    "   \n",
    "out_num = geek.bitwise_or(in_num1, in_num2) \n",
    "print (\"bitwise_or of 10 and 11 : \", out_num) "
   ]
  },
  {
   "cell_type": "code",
   "execution_count": 4,
   "id": "7a1f8b41-b802-4bbe-a280-d0b9bb402661",
   "metadata": {},
   "outputs": [
    {
     "name": "stdout",
     "output_type": "stream",
     "text": [
      "Input array1 :  [2, 8, 125]\n",
      "Input array2 :  [3, 3, 115]\n",
      "Output array after bitwise_or:  [  3  11 127]\n"
     ]
    }
   ],
   "source": [
    "import numpy as geek\n",
    " \n",
    "in_arr1 = [2, 8, 125]\n",
    "in_arr2 = [3, 3, 115]\n",
    "  \n",
    "print (\"Input array1 : \", in_arr1) \n",
    "print (\"Input array2 : \", in_arr2)\n",
    "   \n",
    "out_arr = geek.bitwise_or(in_arr1, in_arr2) \n",
    "print (\"Output array after bitwise_or: \", out_arr) "
   ]
  },
  {
   "cell_type": "markdown",
   "id": "4d8ff10f-38b0-42c8-8343-40ad897bcd31",
   "metadata": {},
   "source": [
    " \n",
    "numpy.bitwise_xor() :\n",
    "\n",
    "This function is used to Compute the bit-wise XOR of two array element-wise. This function computes the bit-wise XOR of the underlying binary representation of the integers in the input arrays."
   ]
  },
  {
   "cell_type": "code",
   "execution_count": 5,
   "id": "12d692f2-9262-4084-b494-d8db59752518",
   "metadata": {},
   "outputs": [
    {
     "name": "stdout",
     "output_type": "stream",
     "text": [
      "Input  number1 :  10\n",
      "Input  number2 :  11\n",
      "bitwise_xor of 10 and 11 :  1\n"
     ]
    }
   ],
   "source": [
    "import numpy as geek\n",
    "in_num1 = 10\n",
    "in_num2 = 11\n",
    " \n",
    "print (\"Input  number1 : \", in_num1)\n",
    "print (\"Input  number2 : \", in_num2) \n",
    "   \n",
    "out_num = geek.bitwise_xor(in_num1, in_num2) \n",
    "print (\"bitwise_xor of 10 and 11 : \", out_num) "
   ]
  },
  {
   "cell_type": "code",
   "execution_count": 6,
   "id": "7eafcce1-de42-4a72-a192-fd7a86656dc6",
   "metadata": {},
   "outputs": [
    {
     "name": "stdout",
     "output_type": "stream",
     "text": [
      "Input array1 :  [2, 8, 125]\n",
      "Input array2 :  [3, 3, 115]\n",
      "Output array after bitwise_xor:  [ 1 11 14]\n"
     ]
    }
   ],
   "source": [
    "import numpy as geek\n",
    " \n",
    "in_arr1 = [2, 8, 125]\n",
    "in_arr2 = [3, 3, 115]\n",
    "  \n",
    "print (\"Input array1 : \", in_arr1) \n",
    "print (\"Input array2 : \", in_arr2)\n",
    "   \n",
    "out_arr = geek.bitwise_xor(in_arr1, in_arr2) \n",
    "print (\"Output array after bitwise_xor: \", out_arr) "
   ]
  },
  {
   "cell_type": "markdown",
   "id": "200f9e0b-89a5-4db8-8d6d-9b64dfc9d343",
   "metadata": {},
   "source": [
    "numpy.invert() : \n",
    "\n",
    "This function is used to Compute the bit-wise Inversion of an array element-wise. It computes the bit-wise NOT of the underlying binary representation of the integers in the input arrays."
   ]
  },
  {
   "cell_type": "code",
   "execution_count": 7,
   "id": "493e5a4e-5186-4eb4-b11d-5d14825ed622",
   "metadata": {},
   "outputs": [
    {
     "name": "stdout",
     "output_type": "stream",
     "text": [
      "Input  number :  10\n",
      "inversion of 10 :  -11\n"
     ]
    }
   ],
   "source": [
    "import numpy as geek\n",
    "in_num = 10\n",
    "print (\"Input  number : \", in_num)\n",
    "   \n",
    "out_num = geek.invert(in_num) \n",
    "print (\"inversion of 10 : \", out_num) "
   ]
  },
  {
   "cell_type": "code",
   "execution_count": 8,
   "id": "8fa3d33b-06d6-4d03-80f9-06122329a1b0",
   "metadata": {},
   "outputs": [
    {
     "name": "stdout",
     "output_type": "stream",
     "text": [
      "Input array :  [2, 0, 25]\n",
      "Output array after inversion:  [ -3  -1 -26]\n"
     ]
    }
   ],
   "source": [
    "import numpy as geek\n",
    " \n",
    "in_arr = [2, 0, 25]\n",
    "print (\"Input array : \", in_arr)\n",
    "   \n",
    "out_arr = geek.invert(in_arr) \n",
    "print (\"Output array after inversion: \", out_arr) "
   ]
  },
  {
   "cell_type": "markdown",
   "id": "004471a7-8d67-4c3e-9e5b-939ed3bbed4f",
   "metadata": {},
   "source": [
    "numpy.left_shift() : \n",
    "\n",
    "This function is used to Shift the bits of an integer to the left.The bits are shifted to the left by appending arr2 0s(zeroes) at the right of arr1"
   ]
  },
  {
   "cell_type": "code",
   "execution_count": 9,
   "id": "97977c5a-cc19-40d3-8df6-5d620c485207",
   "metadata": {},
   "outputs": [
    {
     "name": "stdout",
     "output_type": "stream",
     "text": [
      "Input  number :  5\n",
      "Number of bit shift :  2\n",
      "After left shifting 2 bit  :  20\n"
     ]
    }
   ],
   "source": [
    "import numpy as geek\n",
    "in_num = 5\n",
    "bit_shift = 2\n",
    " \n",
    "print (\"Input  number : \", in_num)\n",
    "print (\"Number of bit shift : \", bit_shift ) \n",
    "   \n",
    "out_num = geek.left_shift(in_num, bit_shift) \n",
    "print (\"After left shifting 2 bit  : \", out_num) "
   ]
  },
  {
   "cell_type": "code",
   "execution_count": 10,
   "id": "52cc7c98-0b9e-41cf-b444-7e5a8d0fbdb9",
   "metadata": {},
   "outputs": [
    {
     "name": "stdout",
     "output_type": "stream",
     "text": [
      "Input array :  [2, 8, 15]\n",
      "Number of bit shift :  [3, 4, 5]\n",
      "Output array after left shifting:  [ 16 128 480]\n"
     ]
    }
   ],
   "source": [
    "import numpy as geek\n",
    " \n",
    "in_arr = [2, 8, 15]\n",
    "bit_shift =[3, 4, 5]\n",
    "  \n",
    "print (\"Input array : \", in_arr) \n",
    "print (\"Number of bit shift : \", bit_shift)\n",
    "   \n",
    "out_arr = geek.left_shift(in_arr, bit_shift) \n",
    "print (\"Output array after left shifting: \", out_arr) "
   ]
  },
  {
   "cell_type": "markdown",
   "id": "6d904ff1-4cff-4b1e-8f47-8eaf1a0b8738",
   "metadata": {},
   "source": [
    " \n",
    "numpy.right_shift() :\n",
    "\n",
    "This function is used to Shift the bits of an integer to the right.Because the internal representation of numbers is in binary format, this operation is equivalent to dividing arr1 by 2**arr2"
   ]
  },
  {
   "cell_type": "code",
   "execution_count": 11,
   "id": "eed41cae-6280-464c-8d16-875460bccf40",
   "metadata": {},
   "outputs": [
    {
     "name": "stdout",
     "output_type": "stream",
     "text": [
      "Input  number :  20\n",
      "Number of bit shift :  2\n",
      "After right shifting 2 bit  :  5\n"
     ]
    }
   ],
   "source": [
    "import numpy as geek\n",
    "in_num = 20\n",
    "bit_shift = 2\n",
    " \n",
    "print (\"Input  number : \", in_num)\n",
    "print (\"Number of bit shift : \", bit_shift ) \n",
    "   \n",
    "out_num = geek.right_shift(in_num, bit_shift) \n",
    "print (\"After right shifting 2 bit  : \", out_num) "
   ]
  },
  {
   "cell_type": "code",
   "execution_count": 12,
   "id": "1181963e-ee05-4045-a251-7abffbe00ef7",
   "metadata": {},
   "outputs": [
    {
     "name": "stdout",
     "output_type": "stream",
     "text": [
      "Input array :  [24, 48, 16]\n",
      "Number of bit shift :  [3, 4, 2]\n",
      "Output array after right shifting:  [3 3 4]\n"
     ]
    }
   ],
   "source": [
    "import numpy as geek\n",
    " \n",
    "in_arr = [24, 48, 16]\n",
    "bit_shift =[3, 4, 2]\n",
    "  \n",
    "print (\"Input array : \", in_arr) \n",
    "print (\"Number of bit shift : \", bit_shift)\n",
    "   \n",
    "out_arr = geek.right_shift(in_arr, bit_shift) \n",
    "print (\"Output array after right shifting: \", out_arr) "
   ]
  },
  {
   "cell_type": "markdown",
   "id": "9b2035d3-9057-4c4c-991e-4e8096e306c8",
   "metadata": {},
   "source": [
    "numpy.binary_repr(number, width=None) : \n",
    "\n",
    "This function is used to represent binary form of the input number as a string.For negative numbers, if width is not given, a minus sign is added to the front. If width is given, the two’s complement of the number is returned, with respect to that width.\n",
    "In a two’s-complement system, negative numbers are represented by the two’s complement of the absolute value"
   ]
  },
  {
   "cell_type": "code",
   "execution_count": 13,
   "id": "8e32d20f-8f94-4e4d-9ab7-85ad37e30702",
   "metadata": {},
   "outputs": [
    {
     "name": "stdout",
     "output_type": "stream",
     "text": [
      "Input  number :  10\n",
      "binary representation of 10 :  1010\n"
     ]
    }
   ],
   "source": [
    "import numpy as geek\n",
    "in_num = 10\n",
    " \n",
    "print (\"Input  number : \", in_num)\n",
    " \n",
    "out_num = geek.binary_repr(in_num) \n",
    "print (\"binary representation of 10 : \", out_num) "
   ]
  },
  {
   "cell_type": "code",
   "execution_count": 14,
   "id": "0a7d54aa-f055-4b67-9bc6-c45ed905cf2d",
   "metadata": {},
   "outputs": [
    {
     "name": "stdout",
     "output_type": "stream",
     "text": [
      "Input array :  [5, -8]\n",
      "Binary representation of 5\n",
      "Without using width parameter :  101\n",
      "Using width parameter:  00101\n",
      "\n",
      "Binary representation of -8\n",
      "Without using width parameter :  -1000\n",
      "Using width parameter :  11000\n"
     ]
    }
   ],
   "source": [
    "import numpy as geek\n",
    " \n",
    "in_arr = [5, -8 ]\n",
    "  \n",
    "print (\"Input array : \", in_arr) \n",
    " \n",
    "# binary representation of first array  \n",
    "# element without using width parameter\n",
    "out_num = geek.binary_repr(in_arr[0])\n",
    "print(\"Binary representation of 5\")\n",
    "print (\"Without using width parameter : \", out_num) \n",
    " \n",
    "# binary representation of first array\n",
    "# element using width parameter\n",
    "out_num = geek.binary_repr(in_arr[0], width = 5)\n",
    "print (\"Using width parameter: \", out_num) \n",
    " \n",
    "print(\"\\nBinary representation of -8\")\n",
    " \n",
    "# binary representation of 2nd array\n",
    "# element without using width parameter\n",
    "out_num = geek.binary_repr(in_arr[1])\n",
    "print (\"Without using width parameter : \", out_num) \n",
    " \n",
    "# binary representation of 2nd array\n",
    "# element  using width parameter\n",
    "out_num = geek.binary_repr(in_arr[1], width = 5)\n",
    "print (\"Using width parameter : \", out_num) "
   ]
  },
  {
   "cell_type": "markdown",
   "id": "b14a225d-339a-4bcb-b502-ebe8c438897d",
   "metadata": {},
   "source": [
    "numpy.packbits(myarray, axis=None) : \n",
    "\n",
    "This function is used to packs the elements of a binary-valued array into bits in a uint8 array.The result is padded to full bytes by inserting zero bits at the end."
   ]
  },
  {
   "cell_type": "code",
   "execution_count": 15,
   "id": "88315703-a147-4482-997d-73d09f42c5dc",
   "metadata": {},
   "outputs": [
    {
     "name": "stdout",
     "output_type": "stream",
     "text": [
      "[[[160]\n",
      "  [ 64]]\n",
      "\n",
      " [[192]\n",
      "  [ 32]]]\n"
     ]
    }
   ],
   "source": [
    "import numpy as np\n",
    " \n",
    "# creating an array using \n",
    "# array function\n",
    "a = np.array([[[1,0,1],\n",
    "             [0,1,0]],\n",
    "             [[1,1,0],\n",
    "             [0,0,1]]])\n",
    " \n",
    "# packing elements of an array\n",
    "# using packbits() function\n",
    "b = np.packbits(a, axis=-1)\n",
    " \n",
    "print(b)"
   ]
  },
  {
   "cell_type": "code",
   "execution_count": 16,
   "id": "b9321778-4811-4389-b1ed-581e072e8d68",
   "metadata": {},
   "outputs": [
    {
     "name": "stdout",
     "output_type": "stream",
     "text": [
      "[[0 0 0 0 0 0 1 0]\n",
      " [0 0 0 0 0 1 1 1]\n",
      " [0 0 0 1 0 1 1 1]]\n"
     ]
    }
   ],
   "source": [
    "import numpy as np\n",
    " \n",
    "# creating an array using \n",
    "# array function\n",
    "a = np.array([[2], [7], [23]], dtype=np.uint8)\n",
    " \n",
    "# packing elements of an array\n",
    "# using packbits() function\n",
    "b = np.unpackbits(a, axis = 1)\n",
    " \n",
    "print(b)"
   ]
  },
  {
   "cell_type": "markdown",
   "id": "1199d7e4-1b93-42b6-8364-7ce7f05619c7",
   "metadata": {},
   "source": [
    "Mathematical Function :"
   ]
  },
  {
   "cell_type": "markdown",
   "id": "57acea70-4ac6-469e-b5c1-4546c1ac4b6d",
   "metadata": {},
   "source": [
    "numpy.sin(x[, out]) = ufunc ‘sin’) :\n",
    "\n",
    "This mathematical function helps user to calculate trignmetric sine for all x(being the array elements)"
   ]
  },
  {
   "cell_type": "code",
   "execution_count": 17,
   "id": "09a8c332-cb3b-4895-af6c-c8e7120bc382",
   "metadata": {},
   "outputs": [
    {
     "name": "stdout",
     "output_type": "stream",
     "text": [
      "Input array : \n",
      " [0, 1.5707963267948966, 1.0471975511965976, 3.141592653589793]\n",
      "\n",
      "Sine values : \n",
      " [0.00000000e+00 1.00000000e+00 8.66025404e-01 1.22464680e-16]\n"
     ]
    }
   ],
   "source": [
    "import numpy as np\n",
    "import math\n",
    " \n",
    "in_array = [0, math.pi / 2, np.pi / 3, np.pi]\n",
    "print (\"Input array : \\n\", in_array)\n",
    " \n",
    "Sin_Values = np.sin(in_array)\n",
    "print (\"\\nSine values : \\n\", Sin_Values)"
   ]
  },
  {
   "cell_type": "markdown",
   "id": "6059db6a-8ceb-405d-b6ab-59997aa24eac",
   "metadata": {},
   "source": [
    "numpy.cos(x[, out]) = ufunc ‘cos’) :\n",
    "\n",
    "This mathematical function helps user to calculate trignmetric cosine for all x(being the array elements)."
   ]
  },
  {
   "cell_type": "code",
   "execution_count": 18,
   "id": "960c79ed-0195-4b56-9899-8f2694fd5b3c",
   "metadata": {},
   "outputs": [
    {
     "name": "stdout",
     "output_type": "stream",
     "text": [
      "Input array : \n",
      " [0, 1.5707963267948966, 1.0471975511965976, 3.141592653589793]\n",
      "\n",
      "Cosine values : \n",
      " [ 1.000000e+00  6.123234e-17  5.000000e-01 -1.000000e+00]\n"
     ]
    }
   ],
   "source": [
    "import numpy as np\n",
    "import math\n",
    " \n",
    "in_array = [0, math.pi / 2, np.pi / 3, np.pi]\n",
    "print (\"Input array : \\n\", in_array)\n",
    " \n",
    "cos_Values = np.cos(in_array)\n",
    "print (\"\\nCosine values : \\n\", cos_Values)"
   ]
  },
  {
   "cell_type": "markdown",
   "id": "7457fa03-d4bf-47f1-8728-f1823fd06bc1",
   "metadata": {},
   "source": [
    "numpy.sinh(x[, out]) = ufunc ‘sin’) : \n",
    "\n",
    "This mathematical function helps user to calculate hyperbolic sine for all x(being the array elements"
   ]
  },
  {
   "cell_type": "code",
   "execution_count": 19,
   "id": "1a089e9d-7c41-46ca-a01e-2abca71447be",
   "metadata": {},
   "outputs": [
    {
     "name": "stdout",
     "output_type": "stream",
     "text": [
      "Input array : \n",
      " [0, 1.5707963267948966, 1.0471975511965976, 3.141592653589793]\n",
      "\n",
      "Sine Hyperbolic values : \n",
      " [ 0.          2.3012989   1.24936705 11.54873936]\n"
     ]
    }
   ],
   "source": [
    "import numpy as np\n",
    "import math\n",
    " \n",
    "in_array = [0, math.pi / 2, np.pi / 3, np.pi]\n",
    "print (\"Input array : \\n\", in_array)\n",
    " \n",
    "Sinh_Values = np.sinh(in_array)\n",
    "print (\"\\nSine Hyperbolic values : \\n\", Sinh_Values)"
   ]
  },
  {
   "cell_type": "markdown",
   "id": "3bd426a5-9afa-486d-8f94-047b3401e7fd",
   "metadata": {},
   "source": [
    " \n",
    "numpy.cosh(x[, out]) = ufunc ‘cos’) : \n",
    "\n",
    "This mathematical function helps user to calculate hyperbolic cosine for all x(being the array elements)"
   ]
  },
  {
   "cell_type": "code",
   "execution_count": 20,
   "id": "159d550b-5300-45b4-8541-0d1dae4ad993",
   "metadata": {},
   "outputs": [
    {
     "name": "stdout",
     "output_type": "stream",
     "text": [
      "Input array : \n",
      " [0, 1.5707963267948966, 1.0471975511965976, 3.141592653589793]\n",
      "\n",
      "cosine Hyperbolic values : \n",
      " [ 1.          2.50917848  1.60028686 11.59195328]\n"
     ]
    }
   ],
   "source": [
    "import numpy as np\n",
    "import math\n",
    " \n",
    "in_array = [0, math.pi / 2, np.pi / 3, np.pi]\n",
    "print (\"Input array : \\n\", in_array)\n",
    " \n",
    "cosh_Values = np.cosh(in_array)\n",
    "print (\"\\ncosine Hyperbolic values : \\n\", cosh_Values)"
   ]
  },
  {
   "cell_type": "markdown",
   "id": "72315f28-6106-48d9-a595-c2ff9dcf6c79",
   "metadata": {},
   "source": [
    "numpy.around(arr, decimals = 0, out = None) : \n",
    "\n",
    "This mathematical function helps user to evenly round array elements to the given number of decimals."
   ]
  },
  {
   "cell_type": "code",
   "execution_count": 21,
   "id": "dc67755f-29a7-45a1-b99e-0e1c9a774bf9",
   "metadata": {},
   "outputs": [
    {
     "name": "stdout",
     "output_type": "stream",
     "text": [
      "Input array : \n",
      " [0.5, 1.5, 2.5, 3.5, 4.5, 10.1]\n",
      "\n",
      "Rounded values : \n",
      " [ 0.  2.  2.  4.  4. 10.]\n",
      "\n",
      "Input array : \n",
      " [0.53, 1.54, 0.71]\n",
      "\n",
      "Rounded values : \n",
      " [1. 2. 1.]\n",
      "\n",
      "Input array : \n",
      " [0.5538, 1.33354, 0.71445]\n",
      "\n",
      "Rounded values : \n",
      " [0.554 1.334 0.714]\n"
     ]
    }
   ],
   "source": [
    "import numpy as np\n",
    " \n",
    "in_array = [.5, 1.5, 2.5, 3.5, 4.5, 10.1]\n",
    "print (\"Input array : \\n\", in_array)\n",
    " \n",
    "round_off_values = np.around(in_array)\n",
    "print (\"\\nRounded values : \\n\", round_off_values)\n",
    " \n",
    " \n",
    "in_array = [.53, 1.54, .71]\n",
    "print (\"\\nInput array : \\n\", in_array)\n",
    " \n",
    "round_off_values = np.around(in_array)\n",
    "print (\"\\nRounded values : \\n\", round_off_values)\n",
    " \n",
    "in_array = [.5538, 1.33354, .71445]\n",
    "print (\"\\nInput array : \\n\", in_array)\n",
    " \n",
    "round_off_values = np.around(in_array, decimals = 3)\n",
    "print (\"\\nRounded values : \\n\", round_off_values)"
   ]
  },
  {
   "cell_type": "markdown",
   "id": "58716868-3e53-4418-92ca-d35fe2dcdc4e",
   "metadata": {},
   "source": [
    "numpy.round_(arr, decimals = 0, out = None) :\n",
    "\n",
    "This mathematical function round an array to the given number of decimals "
   ]
  },
  {
   "cell_type": "code",
   "execution_count": 22,
   "id": "a0c3e789-c625-499a-a72c-697a2bfe534d",
   "metadata": {},
   "outputs": [
    {
     "name": "stdout",
     "output_type": "stream",
     "text": [
      "Input array : \n",
      " [0.5, 1.5, 2.5, 3.5, 4.5, 10.1]\n",
      "\n",
      "Rounded values : \n",
      " [ 0.  2.  2.  4.  4. 10.]\n",
      "\n",
      "Input array : \n",
      " [0.53, 1.54, 0.71]\n",
      "\n",
      "Rounded values : \n",
      " [1. 2. 1.]\n",
      "\n",
      "Input array : \n",
      " [0.5538, 1.33354, 0.71445]\n",
      "\n",
      "Rounded values : \n",
      " [0.554 1.334 0.714]\n"
     ]
    }
   ],
   "source": [
    "import numpy as np\n",
    " \n",
    "in_array = [.5, 1.5, 2.5, 3.5, 4.5, 10.1]\n",
    "print (\"Input array : \\n\", in_array)\n",
    " \n",
    "round_off_values = np.round_(in_array)\n",
    "print (\"\\nRounded values : \\n\", round_off_values)\n",
    " \n",
    " \n",
    "in_array = [.53, 1.54, .71]\n",
    "print (\"\\nInput array : \\n\", in_array)\n",
    " \n",
    "round_off_values = np.round_(in_array)\n",
    "print (\"\\nRounded values : \\n\", round_off_values)\n",
    " \n",
    "in_array = [.5538, 1.33354, .71445]\n",
    "print (\"\\nInput array : \\n\", in_array)\n",
    " \n",
    "round_off_values = np.round_(in_array, decimals = 3)\n",
    "print (\"\\nRounded values : \\n\", round_off_values)"
   ]
  },
  {
   "cell_type": "markdown",
   "id": "9e9b878a-2e04-4064-943c-3d531a3b2a78",
   "metadata": {},
   "source": [
    "numpy.exp(array, out = None, where = True, casting = ‘same_kind’, order = ‘K’, dtype = None) : \n",
    "\n",
    "This mathematical function helps user to calculate exponential of all the elements in the input array"
   ]
  },
  {
   "cell_type": "code",
   "execution_count": 23,
   "id": "c6101e5c-ada4-4651-9bae-04b70ad7cc28",
   "metadata": {},
   "outputs": [
    {
     "name": "stdout",
     "output_type": "stream",
     "text": [
      "Input array :  [1, 3, 5]\n",
      "Output array :  [  2.71828183  20.08553692 148.4131591 ]\n"
     ]
    }
   ],
   "source": [
    "import numpy as np\n",
    " \n",
    "in_array = [1, 3, 5]\n",
    "print (\"Input array : \", in_array)\n",
    " \n",
    "out_array = np.exp(in_array)\n",
    "print (\"Output array : \", out_array)"
   ]
  },
  {
   "cell_type": "markdown",
   "id": "3b42e24b-1058-4607-8d40-5814ccf0702f",
   "metadata": {},
   "source": [
    "\n",
    "numpy.log(x[, out] = ufunc ‘log1p’) :\n",
    "\n",
    "This mathematical function helps user to calculate Natural logarithm of x where x belongs to all the input array elements"
   ]
  },
  {
   "cell_type": "code",
   "execution_count": 24,
   "id": "ee01330e-cd50-40e5-bdd2-56bd7b644fda",
   "metadata": {},
   "outputs": [
    {
     "name": "stdout",
     "output_type": "stream",
     "text": [
      "Input array :  [1, 3, 5, 256]\n",
      "Output array :  [0.         1.09861229 1.60943791 5.54517744]\n",
      "\n",
      "np.log(4**4) :  5.545177444479562\n",
      "np.log(2**8) :  5.545177444479562\n"
     ]
    }
   ],
   "source": [
    "import numpy as np\n",
    " \n",
    "in_array = [1, 3, 5, 2**8]\n",
    "print (\"Input array : \", in_array)\n",
    " \n",
    "out_array = np.log(in_array)\n",
    "print (\"Output array : \", out_array)\n",
    " \n",
    " \n",
    "print(\"\\nnp.log(4**4) : \", np.log(4**4))\n",
    "print(\"np.log(2**8) : \", np.log(2**8))"
   ]
  },
  {
   "cell_type": "markdown",
   "id": "2412da3a-8be9-408c-8d02-93f303ad3f00",
   "metadata": {},
   "source": [
    "numpy.reciprocal(x, /, out=None, *, where=True) : \n",
    "\n",
    "This mathematical function is used to calculate reciprocal of all the elements in the input array."
   ]
  },
  {
   "cell_type": "code",
   "execution_count": 25,
   "id": "48284152-676d-4278-86b2-b6ae6a0bbdfa",
   "metadata": {},
   "outputs": [
    {
     "name": "stdout",
     "output_type": "stream",
     "text": [
      "Input  number :  2.0\n",
      "Output number :  0.5\n"
     ]
    }
   ],
   "source": [
    "import numpy as np\n",
    " \n",
    "in_num = 2.0\n",
    "print (\"Input  number : \", in_num)\n",
    " \n",
    "out_num = np.reciprocal(in_num)\n",
    "print (\"Output number : \", out_num)"
   ]
  },
  {
   "cell_type": "code",
   "execution_count": 26,
   "id": "6f6368c8-3508-4ee0-a35a-41bddfda3d6c",
   "metadata": {},
   "outputs": [
    {
     "name": "stdout",
     "output_type": "stream",
     "text": [
      "arr1         :  [2, 27, 2, 21, 23]\n",
      "arr2         :  [2, 3, 4, 5, 6]\n",
      "\n",
      "Output array : \n",
      " [1.         9.         0.5        4.2        3.83333333]\n"
     ]
    }
   ],
   "source": [
    "# Python program explaining\n",
    "# divide() function\n",
    "import numpy as np\n",
    " \n",
    "# input_array\n",
    "arr1 = [2, 27, 2, 21, 23]\n",
    "arr2 = [2, 3, 4, 5, 6]\n",
    "print (\"arr1         : \", arr1)\n",
    "print (\"arr2         : \", arr2)\n",
    " \n",
    "# output_array\n",
    "out = np.divide(arr1, arr2)\n",
    "print (\"\\nOutput array : \\n\", out)"
   ]
  },
  {
   "cell_type": "markdown",
   "id": "2d8ec6b4-6ae4-4b91-961d-da0aa47dd055",
   "metadata": {},
   "source": [
    "Complex number Function :\n",
    "\n",
    "numpy.isreal(array) : \n",
    "Test element-wise whether it is a real number or not(not infinity or not Not a Number) and return the result as a boolean array."
   ]
  },
  {
   "cell_type": "code",
   "execution_count": 27,
   "id": "f041068a-c084-4d8a-b9bc-fdc5449d392a",
   "metadata": {},
   "outputs": [
    {
     "name": "stdout",
     "output_type": "stream",
     "text": [
      "Is Real :  [False  True] \n",
      "\n",
      "Is Real :  [ True  True] \n",
      "\n"
     ]
    }
   ],
   "source": [
    "import numpy as geek \n",
    " \n",
    "print(\"Is Real : \", geek.isreal([1+1j, 0j]), \"\\n\")\n",
    " \n",
    "print(\"Is Real : \", geek.isreal([1, 0]), \"\\n\")"
   ]
  },
  {
   "cell_type": "code",
   "execution_count": 28,
   "id": "df1a9997-24a5-4a41-afab-1a6bf57bbb95",
   "metadata": {},
   "outputs": [
    {
     "name": "stdout",
     "output_type": "stream",
     "text": [
      "Output conjugated complex number of  2+4j :  (2-4j)\n",
      "Output conjugated complex number of 5-8j:  (5+8j)\n"
     ]
    }
   ],
   "source": [
    "#importing numpy\n",
    "import numpy as np\n",
    " \n",
    "in_complx1 = 2+4j\n",
    "out_complx1 = np.conj(in_complx1)\n",
    "print (\"Output conjugated complex number of  2+4j : \", out_complx1)\n",
    " \n",
    "in_complx2 =5-8j\n",
    "out_complx2 = np.conj(in_complx2)\n",
    "print (\"Output conjugated complex number of 5-8j: \", out_complx2)"
   ]
  },
  {
   "cell_type": "markdown",
   "id": "f99a1e33-ebf3-437d-a510-d1b665eba3e9",
   "metadata": {},
   "source": [
    "Special functions :\n",
    "\n",
    "numpy.cbrt(arr, out = None, ufunc ‘cbrt’) : This mathematical function helps user to calculate cube root of x for all x being the array elements."
   ]
  },
  {
   "cell_type": "code",
   "execution_count": 29,
   "id": "f7e7ae99-a858-47af-ae7d-9dc842d0d918",
   "metadata": {},
   "outputs": [
    {
     "name": "stdout",
     "output_type": "stream",
     "text": [
      "cbrt Value of arr1 : \n",
      " [  1.  30.   4. -10.]\n",
      "\n",
      "cbrt Value of arr2 :  [10.0793684 -5.0396842]\n"
     ]
    }
   ],
   "source": [
    "import numpy as np\n",
    "  \n",
    "arr1 = [1, 27000, 64, -1000]\n",
    "print (\"cbrt Value of arr1 : \\n\", np.cbrt(arr1))\n",
    "  \n",
    "arr2 = [1024 ,-128]\n",
    "print (\"\\ncbrt Value of arr2 : \", np.cbrt(arr2))"
   ]
  },
  {
   "cell_type": "code",
   "execution_count": 30,
   "id": "41b4bfe9-e5e0-48ac-9867-131972910eb2",
   "metadata": {},
   "outputs": [
    {
     "name": "stdout",
     "output_type": "stream",
     "text": [
      "Input array :  [1, 2, 3, 4, 5, 6, 7, 8]\n",
      "Output array :  [2 2 3 4 5 6 6 6]\n"
     ]
    }
   ],
   "source": [
    "# importing the numpy\n",
    "import numpy as np\n",
    " \n",
    "in_array = [1, 2, 3, 4, 5, 6, 7, 8 ]\n",
    "print (\"Input array : \", in_array)\n",
    " \n",
    "out_array = np.clip(in_array, a_min = 2, a_max = 6)\n",
    "print (\"Output array : \", out_array)"
   ]
  },
  {
   "cell_type": "markdown",
   "id": "2cce4e03-b71d-473f-88f7-270f62f9fa7b",
   "metadata": {},
   "source": [
    "String Operations :"
   ]
  },
  {
   "cell_type": "markdown",
   "id": "0278cbe1-a026-45a5-aceb-cf298e73f798",
   "metadata": {},
   "source": [
    "numpy.lower() : \n",
    "\n",
    "This function returns the lowercase string from the given string. It converts all uppercase characters to lowercase. If no uppercase characters exist, it returns the original string"
   ]
  },
  {
   "cell_type": "code",
   "execution_count": 31,
   "id": "066ac8d8-ec03-4a2d-b301-94b4bf07ec50",
   "metadata": {},
   "outputs": [
    {
     "name": "stdout",
     "output_type": "stream",
     "text": [
      "['geeks' 'for']\n",
      "geeks\n"
     ]
    }
   ],
   "source": [
    "import numpy as np\n",
    " \n",
    "# converting to lowercase\n",
    "print(np.char.lower(['GEEKS', 'FOR']))\n",
    " \n",
    "# converting to lowercase\n",
    "print(np.char.lower('GEEKS'))"
   ]
  },
  {
   "cell_type": "markdown",
   "id": "9ee3c4cd-c97d-40d1-8bac-7d03bd771305",
   "metadata": {},
   "source": [
    "numpy.split() :\n",
    "\n",
    "This function returns a list of strings after breaking the given string by the specified separator."
   ]
  },
  {
   "cell_type": "code",
   "execution_count": 32,
   "id": "02a9e789-6a78-4d66-ae3f-3bf72538a9e3",
   "metadata": {},
   "outputs": [
    {
     "name": "stdout",
     "output_type": "stream",
     "text": [
      "['geeks', 'for', 'geeks']\n",
      "['geeks', ' for', ' geeks']\n"
     ]
    }
   ],
   "source": [
    "import numpy as np\n",
    " \n",
    "# splitting a string\n",
    "print(np.char.split('geeks for geeks'))\n",
    " \n",
    "# splitting a string\n",
    "print(np.char.split('geeks, for, geeks', sep = ','))"
   ]
  },
  {
   "cell_type": "markdown",
   "id": "eb7bfde5-5d64-410b-8f54-5bd9d486b831",
   "metadata": {},
   "source": [
    "numpy.join() : \n",
    "\n",
    "This function is a string method and returns a string in which the elements of sequence have been joined by str separator"
   ]
  },
  {
   "cell_type": "code",
   "execution_count": 33,
   "id": "60d002b1-cb91-4fc9-97c2-9bbb4f6525aa",
   "metadata": {},
   "outputs": [
    {
     "name": "stdout",
     "output_type": "stream",
     "text": [
      "g-e-e-k-s\n",
      "['g-e-e-k-s' 'f:o:r']\n"
     ]
    }
   ],
   "source": [
    "import numpy as np\n",
    " \n",
    "# splitting a string\n",
    "print(np.char.join('-', 'geeks'))\n",
    " \n",
    "# splitting a string\n",
    "print(np.char.join(['-', ':'], ['geeks', 'for']))"
   ]
  },
  {
   "cell_type": "markdown",
   "id": "f02f6abd-4533-4039-b2ba-d23e25ce4f7a",
   "metadata": {},
   "source": [
    "String Information :\n",
    "numpy.count() : This function returns the number of occurrences of a substring in the given string"
   ]
  },
  {
   "cell_type": "code",
   "execution_count": 34,
   "id": "1597e092-cded-46bd-a2da-eed9dc11629f",
   "metadata": {},
   "outputs": [
    {
     "name": "stdout",
     "output_type": "stream",
     "text": [
      "[1 0 1]\n",
      "[0 1 0]\n"
     ]
    }
   ],
   "source": [
    "import numpy as np\n",
    " \n",
    "a=np.array(['geeks', 'for', 'geeks'])\n",
    " \n",
    "# counting a substring\n",
    "print(np.char.count(a,'geek'))\n",
    " \n",
    "# counting a substring\n",
    "print(np.char.count(a, 'fo'))"
   ]
  },
  {
   "cell_type": "markdown",
   "id": "517e39e9-7c64-44bf-805f-7bfe768254a8",
   "metadata": {},
   "source": [
    "numpy.rfind() : \n",
    "\n",
    "This function returns the highest index of the substring if found in given string. If not found then it returns -1."
   ]
  },
  {
   "cell_type": "code",
   "execution_count": 35,
   "id": "f579a48c-6fe9-4a08-bb79-57e0875737f7",
   "metadata": {},
   "outputs": [
    {
     "name": "stdout",
     "output_type": "stream",
     "text": [
      "[ 0 -1  0]\n",
      "[-1  0 -1]\n"
     ]
    }
   ],
   "source": [
    "import numpy as np\n",
    " \n",
    "a=np.array(['geeks', 'for', 'geeks'])\n",
    " \n",
    "# counting a substring\n",
    "print(np.char.rfind(a,'geek'))\n",
    " \n",
    "# counting a substring\n",
    "print(np.char.rfind(a, 'fo'))"
   ]
  },
  {
   "cell_type": "markdown",
   "id": "52c433cd-3ce1-4e7f-9d79-3dff07b3fbae",
   "metadata": {},
   "source": [
    "numpy.isnumeric() : \n",
    "\n",
    "This function returns “True” if all characters in the string are numeric characters, Otherwise, It returns “False”."
   ]
  },
  {
   "cell_type": "code",
   "execution_count": 36,
   "id": "b8e077b8-be32-4714-8742-074c1f24ecac",
   "metadata": {},
   "outputs": [
    {
     "name": "stdout",
     "output_type": "stream",
     "text": [
      "False\n",
      "False\n"
     ]
    }
   ],
   "source": [
    "import numpy as np\n",
    " \n",
    " \n",
    "# counting a substring\n",
    "print(np.char.isnumeric('geeks'))\n",
    " \n",
    "# counting a substring\n",
    "print(np.char.isnumeric('12geeks'))"
   ]
  },
  {
   "cell_type": "markdown",
   "id": "0ed3b7ae-cc97-40b4-a741-9a00c10b7a0d",
   "metadata": {},
   "source": [
    "String Comparison :\n",
    "\n",
    "numpy.equal(): This function checks for string1 == string2 elementwise."
   ]
  },
  {
   "cell_type": "markdown",
   "id": "6dce7cb8-cdea-4f62-83b0-739a583d9851",
   "metadata": {},
   "source": [
    " \n",
    "numpy.not_equal(): This function checks whether two string is unequal or not."
   ]
  },
  {
   "cell_type": "code",
   "execution_count": 42,
   "id": "4b15419c-2a26-4634-8b97-208e283ac87d",
   "metadata": {},
   "outputs": [
    {
     "name": "stdout",
     "output_type": "stream",
     "text": [
      "True\n"
     ]
    }
   ],
   "source": [
    "import numpy as np\n",
    " \n",
    "# comparing a string elementwise\n",
    "# using not_equal() method\n",
    "a = np.char.not_equal('geeks', 'for')\n",
    " \n",
    "print(a)\n"
   ]
  },
  {
   "cell_type": "markdown",
   "id": "006e9954-3f84-4bd6-9948-29952741e7a0",
   "metadata": {},
   "source": [
    "\n",
    "numpy.greater(): This function checks whether string1 is greater than string2 or not."
   ]
  },
  {
   "cell_type": "code",
   "execution_count": 43,
   "id": "89082e42-d72d-4e53-a477-73a0bab3711c",
   "metadata": {},
   "outputs": [
    {
     "name": "stdout",
     "output_type": "stream",
     "text": [
      "True\n"
     ]
    }
   ],
   "source": [
    "import numpy as np\n",
    " \n",
    "# comparing a string elementwise\n",
    "# using greater() method\n",
    "a=np.char.greater('geeks','for')\n",
    " \n",
    "print(a)"
   ]
  },
  {
   "cell_type": "code",
   "execution_count": null,
   "id": "69f2ced9-2695-4d76-8654-512c0957cb6e",
   "metadata": {},
   "outputs": [],
   "source": []
  }
 ],
 "metadata": {
  "kernelspec": {
   "display_name": "Python 3 (ipykernel)",
   "language": "python",
   "name": "python3"
  },
  "language_info": {
   "codemirror_mode": {
    "name": "ipython",
    "version": 3
   },
   "file_extension": ".py",
   "mimetype": "text/x-python",
   "name": "python",
   "nbconvert_exporter": "python",
   "pygments_lexer": "ipython3",
   "version": "3.11.7"
  }
 },
 "nbformat": 4,
 "nbformat_minor": 5
}
