{
 "cells": [
  {
   "cell_type": "markdown",
   "id": "a9b9bb7a-d655-4ec4-a2e7-37b59e236f19",
   "metadata": {},
   "source": [
    "Matrix manipulation in Python :"
   ]
  },
  {
   "cell_type": "code",
   "execution_count": 1,
   "id": "72aa599e-5ec7-447e-90d2-b7912b1c5692",
   "metadata": {},
   "outputs": [
    {
     "name": "stdout",
     "output_type": "stream",
     "text": [
      "The element wise addition of matrix is : \n",
      "[[ 8 10]\n",
      " [13 15]]\n",
      "The element wise subtraction of matrix is : \n",
      "[[-6 -6]\n",
      " [-5 -5]]\n",
      "The element wise division of matrix is : \n",
      "[[0.14285714 0.25      ]\n",
      " [0.44444444 0.5       ]]\n"
     ]
    }
   ],
   "source": [
    "import numpy \n",
    "  \n",
    "# initializing matrices \n",
    "x = numpy.array([[1, 2], [4, 5]]) \n",
    "y = numpy.array([[7, 8], [9, 10]]) \n",
    "  \n",
    "# using add() to add matrices \n",
    "print (\"The element wise addition of matrix is : \") \n",
    "print (numpy.add(x,y)) \n",
    "  \n",
    "# using subtract() to subtract matrices \n",
    "print (\"The element wise subtraction of matrix is : \") \n",
    "print (numpy.subtract(x,y)) \n",
    "  \n",
    "# using divide() to divide matrices \n",
    "print (\"The element wise division of matrix is : \") \n",
    "print (numpy.divide(x,y)) "
   ]
  },
  {
   "cell_type": "code",
   "execution_count": 2,
   "id": "0e53e778-fcff-4e0a-8171-ca269a45e91d",
   "metadata": {},
   "outputs": [
    {
     "name": "stdout",
     "output_type": "stream",
     "text": [
      "The element wise multiplication of matrix is : \n",
      "[[ 7 16]\n",
      " [36 50]]\n",
      "The product of matrices is : \n",
      "[[25 28]\n",
      " [73 82]]\n"
     ]
    }
   ],
   "source": [
    "# importing numpy for matrix operations \n",
    "import numpy \n",
    "  \n",
    "# initializing matrices \n",
    "x = numpy.array([[1, 2], [4, 5]]) \n",
    "y = numpy.array([[7, 8], [9, 10]]) \n",
    "  \n",
    "# using multiply() to multiply matrices element wise \n",
    "print (\"The element wise multiplication of matrix is : \") \n",
    "print (numpy.multiply(x,y)) \n",
    "  \n",
    "# using dot() to multiply matrices \n",
    "print (\"The product of matrices is : \") \n",
    "print (numpy.dot(x,y)) "
   ]
  },
  {
   "cell_type": "code",
   "execution_count": 6,
   "id": "6a4ce0ba-ec56-4e01-874b-d8b3e35f12a8",
   "metadata": {},
   "outputs": [
    {
     "name": "stdout",
     "output_type": "stream",
     "text": [
      "The element wise square root is : \n",
      "[[1.         1.41421356]\n",
      " [2.         2.23606798]]\n",
      "The summation of all matrix element is : \n",
      "34\n",
      "The column wise summation of all matrix  is : \n",
      "[16 18]\n",
      "The row wise summation of all matrix  is : \n",
      "[15 19]\n",
      "The transpose of given matrix is : \n",
      "[[1 4]\n",
      " [2 5]]\n"
     ]
    }
   ],
   "source": [
    "import numpy \n",
    "  \n",
    "# initializing matrices \n",
    "x = numpy.array([[1, 2], [4, 5]]) \n",
    "y = numpy.array([[7, 8], [9, 10]]) \n",
    "  \n",
    "# using sqrt() to print the square root of matrix \n",
    "print (\"The element wise square root is : \") \n",
    "print (numpy.sqrt(x)) \n",
    "  \n",
    "# using sum() to print summation of all elements of matrix \n",
    "print (\"The summation of all matrix element is : \") \n",
    "print (numpy.sum(y)) \n",
    "  \n",
    "# using sum(axis=0) to print summation of all columns of matrix \n",
    "print (\"The column wise summation of all matrix  is : \") \n",
    "print (numpy.sum(y,axis=0)) \n",
    "  \n",
    "# using sum(axis=1) to print summation of all columns of matrix \n",
    "print (\"The row wise summation of all matrix  is : \") \n",
    "print (numpy.sum(y,axis=1)) \n",
    "  \n",
    "# using \"T\" to transpose the matrix \n",
    "print (\"The transpose of given matrix is : \") \n",
    "print (x.T) "
   ]
  },
  {
   "cell_type": "markdown",
   "id": "666a9eed-46c3-466c-94c3-9f5a491a6e35",
   "metadata": {},
   "source": [
    "Using nested loops:\n",
    "\n",
    "* Define matrices A and B.\n",
    "* Get the number of rows and columns of the matrices using the len() function.\n",
    "* Initialize matrices C, D, and E with zeros using nested loops or list comprehension.\n",
    "* Use nested loops or list comprehension to perform the element-wise addition, * * * * subtraction, and division of matrices.\n",
    "* Print the resulting matrices C, D, and E."
   ]
  },
  {
   "cell_type": "code",
   "execution_count": 4,
   "id": "877d9a9f-6841-477d-9988-866ac43f3c95",
   "metadata": {},
   "outputs": [
    {
     "name": "stdout",
     "output_type": "stream",
     "text": [
      "Addition of matrices: \n",
      " [[8, 10], [13, 15]]\n",
      "Subtraction of matrices: \n",
      " [[-6, -6], [-5, -5]]\n",
      "Division of matrices: \n",
      " [[0.14285714285714285, 0.25], [0.4444444444444444, 0.5]]\n"
     ]
    }
   ],
   "source": [
    "A = [[1,2],[4,5]] \n",
    "B = [[7,8],[9,10]] \n",
    "rows = len(A) \n",
    "cols = len(A[0]) \n",
    "  \n",
    "# Element wise addition \n",
    "C = [[0 for i in range(cols)] for j in range(rows)] \n",
    "for i in range(rows): \n",
    "    for j in range(cols): \n",
    "        C[i][j] = A[i][j] + B[i][j] \n",
    "print(\"Addition of matrices: \\n\", C) \n",
    "  \n",
    "# Element wise subtraction \n",
    "D = [[0 for i in range(cols)] for j in range(rows)] \n",
    "for i in range(rows): \n",
    "    for j in range(cols): \n",
    "        D[i][j] = A[i][j] - B[i][j] \n",
    "print(\"Subtraction of matrices: \\n\", D) \n",
    "  \n",
    "# Element wise division \n",
    "E = [[0 for i in range(cols)] for j in range(rows)] \n",
    "for i in range(rows): \n",
    "    for j in range(cols): \n",
    "        E[i][j] = A[i][j] / B[i][j] \n",
    "print(\"Division of matrices: \\n\", E) "
   ]
  },
  {
   "cell_type": "markdown",
   "id": "7c4a32b7-5a04-4de4-ac96-6ada3dd5c45e",
   "metadata": {},
   "source": [
    "numpy matrix operations , empty() function :"
   ]
  },
  {
   "cell_type": "code",
   "execution_count": 7,
   "id": "b8cd8520-bc94-4a07-9de7-b4f4a92f7eda",
   "metadata": {},
   "outputs": [
    {
     "name": "stdout",
     "output_type": "stream",
     "text": [
      "Output matrix :  [[6.23042070e-307 4.67296746e-307 1.69121096e-306]\n",
      " [1.69119873e-306 1.89146896e-307 7.56571288e-307]]\n"
     ]
    }
   ],
   "source": [
    "import numpy as geek \n",
    "import numpy.matlib \n",
    "  \n",
    "# desired output matrix  \n",
    "out_mat = geek.matlib.empty((2, 3))  \n",
    "print (\"Output matrix : \", out_mat)  "
   ]
  },
  {
   "cell_type": "code",
   "execution_count": 8,
   "id": "e860a977-4c4f-46b0-a078-46a7e2140237",
   "metadata": {},
   "outputs": [
    {
     "name": "stdout",
     "output_type": "stream",
     "text": [
      "Output matrix :  [[ -577486512         721           0]\n",
      " [          0      131074 -2147483648]]\n"
     ]
    }
   ],
   "source": [
    "import numpy as geek \n",
    "import numpy.matlib \n",
    "  \n",
    "# desired output matrix  \n",
    "out_mat = geek.matlib.empty((2, 3), dtype = int, order = 'C')  \n",
    "print (\"Output matrix : \", out_mat)  "
   ]
  },
  {
   "cell_type": "markdown",
   "id": "36c7f521-bf11-477c-836f-7eb21dc29f16",
   "metadata": {},
   "source": [
    "numpy matrix operations | eye() function :\n",
    "\n",
    "numpy.matlib.eye() is another function for doing matrix operations in numpy. It returns a matrix with ones on the diagonal and zeros elsewhere."
   ]
  },
  {
   "cell_type": "code",
   "execution_count": 10,
   "id": "55b178ae-bf39-42c9-bcb5-f99b42848767",
   "metadata": {},
   "outputs": [
    {
     "name": "stdout",
     "output_type": "stream",
     "text": [
      "Output matrix :  [[1. 0. 0.]\n",
      " [0. 1. 0.]\n",
      " [0. 0. 1.]]\n"
     ]
    }
   ],
   "source": [
    "import numpy as geek \n",
    "import numpy.matlib \n",
    "  \n",
    "# desired 3 x 3 output matrix  \n",
    "out_mat = geek.matlib.eye(3, k = 0)  \n",
    "print (\"Output matrix : \", out_mat)  "
   ]
  },
  {
   "cell_type": "code",
   "execution_count": 11,
   "id": "6f33d1c3-6373-43a3-a135-5797ec20344d",
   "metadata": {},
   "outputs": [
    {
     "name": "stdout",
     "output_type": "stream",
     "text": [
      "Output matrix :  [[0 1 0 0 0]\n",
      " [0 0 1 0 0]\n",
      " [0 0 0 1 0]\n",
      " [0 0 0 0 1]]\n"
     ]
    }
   ],
   "source": [
    "import numpy as geek \n",
    "import numpy.matlib \n",
    "  \n",
    "# desired 4 x 5 output matrix  \n",
    "out_mat = geek.matlib.eye(n = 4, M = 5, k = 1, dtype = int)  \n",
    "print (\"Output matrix : \", out_mat)  "
   ]
  },
  {
   "cell_type": "markdown",
   "id": "fa14b75c-b980-4565-b34d-8fc6d9fb2f4d",
   "metadata": {},
   "source": [
    "identity() function :\n",
    "\n",
    "numpy.matlib.identity() is another function for doing matrix operations in numpy. It returns a square identity matrix of given input size."
   ]
  },
  {
   "cell_type": "code",
   "execution_count": 12,
   "id": "72e8315f-54ad-4e9b-9910-344365ef6bcb",
   "metadata": {},
   "outputs": [
    {
     "name": "stdout",
     "output_type": "stream",
     "text": [
      "Output matrix :  [[1. 0. 0.]\n",
      " [0. 1. 0.]\n",
      " [0. 0. 1.]]\n"
     ]
    }
   ],
   "source": [
    "import numpy as geek \n",
    "import numpy.matlib \n",
    "  \n",
    "# desired 3 x 3 output square identity matrix  \n",
    "out_mat = geek.matlib.identity(3)  \n",
    "print (\"Output matrix : \", out_mat)  "
   ]
  },
  {
   "cell_type": "code",
   "execution_count": 13,
   "id": "7064764a-96aa-46f4-be30-3f3360a41f7e",
   "metadata": {},
   "outputs": [
    {
     "name": "stdout",
     "output_type": "stream",
     "text": [
      "Output matrix :  [[1 0 0 0 0]\n",
      " [0 1 0 0 0]\n",
      " [0 0 1 0 0]\n",
      " [0 0 0 1 0]\n",
      " [0 0 0 0 1]]\n"
     ]
    }
   ],
   "source": [
    "import numpy as geek \n",
    "import numpy.matlib \n",
    "  \n",
    "# desired 5 x 5 output square identity matrix  \n",
    "out_mat = geek.matlib.identity(n = 5, dtype = int)  \n",
    "print (\"Output matrix : \", out_mat)  "
   ]
  },
  {
   "cell_type": "markdown",
   "id": "6ac11db9-1628-459a-b36e-6f346ebfce56",
   "metadata": {},
   "source": [
    "Adding elements of the matrix :"
   ]
  },
  {
   "cell_type": "code",
   "execution_count": 15,
   "id": "9ffda0ac-dd5b-4210-ac7e-4db8ba18a446",
   "metadata": {},
   "outputs": [
    {
     "name": "stdout",
     "output_type": "stream",
     "text": [
      "Printing elements of first matrix\n",
      "[[1 2]\n",
      " [3 4]]\n",
      "Printing elements of second matrix\n",
      "[[4 5]\n",
      " [6 7]]\n",
      "Addition of two matrix\n",
      "[[ 5  7]\n",
      " [ 9 11]]\n"
     ]
    }
   ],
   "source": [
    "import numpy as np\n",
    " \n",
    " \n",
    "# creating first matrix\n",
    "A = np.array([[1, 2], [3, 4]])\n",
    " \n",
    "# creating second matrix\n",
    "B = np.array([[4, 5], [6, 7]])\n",
    " \n",
    "print(\"Printing elements of first matrix\")\n",
    "print(A)\n",
    "print(\"Printing elements of second matrix\")\n",
    "print(B)\n",
    " \n",
    "# adding two matrix\n",
    "print(\"Addition of two matrix\")\n",
    "print(np.add(A, B))"
   ]
  },
  {
   "cell_type": "code",
   "execution_count": 16,
   "id": "6c26c1d5-ee34-4528-82ea-c458156959af",
   "metadata": {},
   "outputs": [
    {
     "name": "stdout",
     "output_type": "stream",
     "text": [
      "Printing elements of first matrix\n",
      "[[1 2]\n",
      " [3 4]]\n",
      "Printing elements of second matrix\n",
      "[[4 5]\n",
      " [6 7]]\n",
      "Subtraction of two matrix\n",
      "[[-3 -3]\n",
      " [-3 -3]]\n"
     ]
    }
   ],
   "source": [
    "import numpy as np\n",
    " \n",
    " \n",
    "# creating first matrix\n",
    "A = np.array([[1, 2], [3, 4]])\n",
    " \n",
    "# creating second matrix\n",
    "B = np.array([[4, 5], [6, 7]])\n",
    " \n",
    "print(\"Printing elements of first matrix\")\n",
    "print(A)\n",
    "print(\"Printing elements of second matrix\")\n",
    "print(B)\n",
    " \n",
    "# subtracting two matrix\n",
    "print(\"Subtraction of two matrix\")\n",
    "print(np.subtract(A, B))"
   ]
  },
  {
   "cell_type": "code",
   "execution_count": 17,
   "id": "ec1ae9db-7c06-46e8-8383-5d93eec4e87c",
   "metadata": {},
   "outputs": [
    {
     "name": "stdout",
     "output_type": "stream",
     "text": [
      "Printing elements of first matrix\n",
      "1 2 \n",
      "3 4 \n",
      "Printing elements of second matrix\n",
      "4 5 \n",
      "6 7 \n",
      "Subtraction of two matrix\n",
      "-3 -3 \n",
      "-3 -3 \n"
     ]
    }
   ],
   "source": [
    "matrix1 = [[1, 2], [3, 4]]\n",
    "matrix2 = [[4, 5], [6, 7]]\n",
    " \n",
    "# Printing elements of matrix1\n",
    "print(\"Printing elements of first matrix\")\n",
    "for row in matrix1:\n",
    "    for element in row:\n",
    "        print(element, end=\" \")\n",
    "    print()\n",
    " \n",
    "# Printing elements of matrix2\n",
    "print(\"Printing elements of second matrix\")\n",
    "for row in matrix2:\n",
    "    for element in row:\n",
    "        print(element, end=\" \")\n",
    "    print()\n",
    " \n",
    "# Subtracting two matrices\n",
    "result = [[0, 0], [0, 0]]\n",
    "for i in range(len(matrix1)):\n",
    "    for j in range(len(matrix1[0])):\n",
    "        result[i][j] = matrix1[i][j] - matrix2[i][j]\n",
    " \n",
    "# Printing the result\n",
    "print(\"Subtraction of two matrix\")\n",
    "for row in result:\n",
    "    for element in row:\n",
    "        print(element, end=\" \")\n",
    "    print()"
   ]
  },
  {
   "cell_type": "markdown",
   "id": "797e0e2b-358a-426d-96a4-e381668b447a",
   "metadata": {},
   "source": [
    "Matrix Multiplication in NumPy :"
   ]
  },
  {
   "cell_type": "code",
   "execution_count": 58,
   "id": "a9f892e9-0513-452f-8fd2-56d0572eb45f",
   "metadata": {},
   "outputs": [
    {
     "name": "stdout",
     "output_type": "stream",
     "text": [
      "Matrix p :\n",
      "[[1, 2], [2, 3]]\n",
      "Matrix q :\n",
      "[[4, 5], [6, 7]]\n",
      "The matrix multiplication is :\n",
      "[[16 19]\n",
      " [26 31]]\n"
     ]
    }
   ],
   "source": [
    "import numpy as np \n",
    "  \n",
    "# creating two matrices \n",
    "p = [[1, 2], [2, 3]] \n",
    "q = [[4, 5], [6, 7]] \n",
    "print(\"Matrix p :\") \n",
    "print(p) \n",
    "print(\"Matrix q :\") \n",
    "print(q) \n",
    "  \n",
    "# computing product \n",
    "result = np.dot(p, q) \n",
    "  \n",
    "# printing the result \n",
    "print(\"The matrix multiplication is :\") \n",
    "print(result) "
   ]
  },
  {
   "cell_type": "code",
   "execution_count": 59,
   "id": "c74a86d4-b3ef-4a38-b76c-7854e70c988f",
   "metadata": {},
   "outputs": [
    {
     "name": "stdout",
     "output_type": "stream",
     "text": [
      "Matrix p :\n",
      "[[1, 2], [2, 3], [4, 5]]\n",
      "Matrix q :\n",
      "[[4, 5, 1], [6, 7, 2]]\n",
      "The matrix multiplication is :\n",
      "[[16 19  5]\n",
      " [26 31  8]\n",
      " [46 55 14]]\n"
     ]
    }
   ],
   "source": [
    "import numpy as np \n",
    "  \n",
    "# creating two matrices \n",
    "p = [[1, 2], [2, 3], [4, 5]] \n",
    "q = [[4, 5, 1], [6, 7, 2]] \n",
    "print(\"Matrix p :\") \n",
    "print(p) \n",
    "print(\"Matrix q :\") \n",
    "print(q) \n",
    "  \n",
    "# computing product \n",
    "result = np.dot(p, q) \n",
    "  \n",
    "# printing the result \n",
    "print(\"The matrix multiplication is :\") \n",
    "print(result) "
   ]
  },
  {
   "cell_type": "markdown",
   "id": "ee308b7a-a414-4058-abe9-b6620b432acd",
   "metadata": {},
   "source": [
    "Numpy ndarray.dot() function :"
   ]
  },
  {
   "cell_type": "code",
   "execution_count": 63,
   "id": "99886773-f394-41dd-a8ed-8bec7d7e1a7f",
   "metadata": {},
   "outputs": [
    {
     "name": "stdout",
     "output_type": "stream",
     "text": [
      "[[3. 3. 3.]\n",
      " [3. 3. 3.]\n",
      " [3. 3. 3.]]\n"
     ]
    }
   ],
   "source": [
    "# importing numpy as geek  \n",
    "import numpy as geek \n",
    "  \n",
    "arr1 = geek.eye(3) \n",
    "arr = geek.ones((3, 3)) * 3\n",
    "  \n",
    "gfg = arr1.dot( arr ) \n",
    "  \n",
    "print( gfg) "
   ]
  },
  {
   "cell_type": "code",
   "execution_count": 64,
   "id": "23dea42f-5f87-4c53-96a4-8cdb29ee4f0e",
   "metadata": {},
   "outputs": [
    {
     "name": "stdout",
     "output_type": "stream",
     "text": [
      "[[3. 3. 3.]\n",
      " [3. 3. 3.]\n",
      " [3. 3. 3.]]\n"
     ]
    }
   ],
   "source": [
    "# importing numpy as geek  \n",
    "import numpy as geek \n",
    "  \n",
    "arr1 = geek.eye(3) \n",
    "arr = geek.ones((3, 3)) * 3\n",
    "  \n",
    "gfg = arr1.dot( arr ) \n",
    "  \n",
    "print( gfg) "
   ]
  },
  {
   "cell_type": "markdown",
   "id": "69d92014-ed1b-4423-b03d-e68aba10e3ed",
   "metadata": {},
   "source": [
    "Vector Multiplication :"
   ]
  },
  {
   "cell_type": "code",
   "execution_count": 65,
   "id": "67c75a23-045f-4623-8697-71e37b1f0285",
   "metadata": {},
   "outputs": [
    {
     "name": "stdout",
     "output_type": "stream",
     "text": [
      "w =  [20  5]\n"
     ]
    },
    {
     "data": {
      "image/png": "[encoded data removed]",
      "text/plain": [
       "<Figure size 640x480 with 1 Axes>"
      ]
     },
     "metadata": {},
     "output_type": "display_data"
    }
   ],
   "source": [
    "import numpy as np \n",
    "import matplotlib.pyplot as plt \n",
    "import math \n",
    "  \n",
    "v = np.array([4, 1]) \n",
    "w = 5 * v \n",
    "print(\"w = \", w) \n",
    "  \n",
    "# Plot w \n",
    "origin =[0], [0] \n",
    "plt.grid() \n",
    "plt.ticklabel_format(style ='sci', axis ='both',  \n",
    "                     scilimits =(0, 0)) \n",
    "plt.quiver(*origin, *w, scale = 10) \n",
    "plt.show() "
   ]
  },
  {
   "cell_type": "code",
   "execution_count": 66,
   "id": "e2fe1440-9319-4788-aa44-b52d14e1cd67",
   "metadata": {},
   "outputs": [
    {
     "name": "stdout",
     "output_type": "stream",
     "text": [
      "4\n"
     ]
    }
   ],
   "source": [
    "import numpy as np \n",
    "import math \n",
    "  \n",
    "v = np.array([2, 1]) \n",
    "s = np.array([3, -2]) \n",
    "d = np.dot(v, s) \n",
    "print(d) "
   ]
  },
  {
   "cell_type": "code",
   "execution_count": 67,
   "id": "b985162f-eb8b-4442-9c8f-a20fbccc46ef",
   "metadata": {},
   "outputs": [
    {
     "name": "stdout",
     "output_type": "stream",
     "text": [
      "[ 12  76 -61]\n"
     ]
    }
   ],
   "source": [
    "import numpy as np \n",
    "import math \n",
    "  \n",
    "v = np.array([4, 9, 12]) \n",
    "s = np.array([21, 32, 44]) \n",
    "r = np.cross(v, s) \n",
    "print(r) "
   ]
  },
  {
   "cell_type": "markdown",
   "id": "e576c7da-1a75-4c71-9da0-2e8fb8bfb214",
   "metadata": {},
   "source": [
    "calculate dot product of two vectors in Python :"
   ]
  },
  {
   "cell_type": "code",
   "execution_count": 68,
   "id": "a39a2c62-e507-4c78-960b-bc66c3cd96f6",
   "metadata": {},
   "outputs": [
    {
     "name": "stdout",
     "output_type": "stream",
     "text": [
      "35\n"
     ]
    }
   ],
   "source": [
    "# Importing numpy module\n",
    "import numpy as np\n",
    " \n",
    "# Taking two scalar values\n",
    "a = 5\n",
    "b = 7\n",
    " \n",
    "# Calculating dot product using dot()\n",
    "print(np.dot(a, b))"
   ]
  },
  {
   "cell_type": "code",
   "execution_count": 69,
   "id": "2e1b490a-ee41-493d-a226-9ce1a5639151",
   "metadata": {},
   "outputs": [
    {
     "name": "stdout",
     "output_type": "stream",
     "text": [
      "(15+25j)\n"
     ]
    }
   ],
   "source": [
    "# Importing numpy module\n",
    "import numpy as np\n",
    " \n",
    "# Taking two 1D array\n",
    "a = 3 + 1j\n",
    "b = 7 + 6j\n",
    " \n",
    "# Calculating dot product using dot()\n",
    "print(np.dot(a, b))"
   ]
  },
  {
   "cell_type": "code",
   "execution_count": 70,
   "id": "06147b59-ddcd-476f-967a-950c8dcc7820",
   "metadata": {},
   "outputs": [
    {
     "name": "stdout",
     "output_type": "stream",
     "text": [
      "[[5 4]\n",
      " [9 6]]\n"
     ]
    }
   ],
   "source": [
    "import numpy as np\n",
    " \n",
    "# Taking two 2D array\n",
    "# For 2-D arrays it is the matrix product\n",
    "a = [[2, 1], [0, 3]]\n",
    "b = [[1, 1], [3, 2]]\n",
    " \n",
    "# Calculating dot product using dot()\n",
    "print(np.dot(a, b))"
   ]
  },
  {
   "cell_type": "code",
   "execution_count": 71,
   "id": "e6ede6ed-5749-4d70-b263-4e929673e9f8",
   "metadata": {},
   "outputs": [
    {
     "name": "stdout",
     "output_type": "stream",
     "text": [
      "[[2 4]\n",
      " [6 9]]\n"
     ]
    }
   ],
   "source": [
    "import numpy as np\n",
    " \n",
    "# Taking two 2D array\n",
    "# For 2-D arrays it is the matrix product\n",
    "a = [[2, 1], [0, 3]]\n",
    "b = [[1, 1], [3, 2]]\n",
    " \n",
    "# Calculating dot product using dot()\n",
    "# Note that here I have taken dot(b, a)\n",
    "# Instead of dot(a, b) and we are going to\n",
    "# get a different output for the same vector value\n",
    "print(np.dot(b, a))"
   ]
  },
  {
   "cell_type": "markdown",
   "id": "197aa18c-0901-47e3-bfb9-114dd77b04c1",
   "metadata": {},
   "source": [
    "Multiplication of two Matrices in Single line using Numpy in Python :"
   ]
  },
  {
   "cell_type": "code",
   "execution_count": 72,
   "id": "d92075a2-9f77-4f1b-878b-e16a8b3931d4",
   "metadata": {},
   "outputs": [
    {
     "name": "stdout",
     "output_type": "stream",
     "text": [
      "[[114, 160, 60], [74, 97, 73], [119, 157, 112]]\n"
     ]
    }
   ],
   "source": [
    "matrix1 = [[12,7,3],\n",
    "        [4 ,5,6],\n",
    "        [7 ,8,9]]\n",
    "matrix2 = [[5,8,1],\n",
    "        [6,7,3],\n",
    "        [4,5,9]]\n",
    " \n",
    "res = [[0 for x in range(3)] for y in range(3)] \n",
    " \n",
    "# explicit for loops\n",
    "for i in range(len(matrix1)):\n",
    "    for j in range(len(matrix2[0])):\n",
    "        for k in range(len(matrix2)):\n",
    " \n",
    "            # resulted matrix\n",
    "            res[i][j] += matrix1[i][k] * matrix2[k][j]\n",
    " \n",
    "print (res)"
   ]
  },
  {
   "cell_type": "code",
   "execution_count": 73,
   "id": "25184cb1-3d86-4c3e-8956-40a320410a78",
   "metadata": {},
   "outputs": [
    {
     "name": "stdout",
     "output_type": "stream",
     "text": [
      "[[ 63 320  83]\n",
      " [ 77 484 102]\n",
      " [ 84 248 117]]\n"
     ]
    }
   ],
   "source": [
    "import numpy as np\n",
    " \n",
    "# input two matrices\n",
    "mat1 = ([1, 6, 5],[3 ,4, 8],[2, 12, 3])\n",
    "mat2 = ([3, 4, 6],[5, 6, 7],[6,56, 7])\n",
    " \n",
    "# This will return dot product\n",
    "res = np.dot(mat1,mat2)\n",
    " \n",
    " \n",
    "# print resulted matrix\n",
    "print(res)"
   ]
  },
  {
   "cell_type": "code",
   "execution_count": 75,
   "id": "55c65ef8-406c-4906-96c8-29a80322ac4d",
   "metadata": {},
   "outputs": [
    {
     "name": "stdout",
     "output_type": "stream",
     "text": [
      "[[ 63 320  83]\n",
      " [ 77 484 102]\n",
      " [ 84 248 117]]\n"
     ]
    }
   ],
   "source": [
    "import numpy as np\n",
    " \n",
    "# input two matrices\n",
    "mat1 = ([1, 6, 5],[3 ,4, 8],[2, 12, 3])\n",
    "mat2 = ([3, 4, 6],[5, 6, 7],[6,56, 7])\n",
    " \n",
    "# This will return matrix product of two array\n",
    "res = np.dot(mat1,mat2)\n",
    " \n",
    "# print resulted matrix\n",
    "print(res)"
   ]
  },
  {
   "cell_type": "markdown",
   "id": "cd93b3da-547d-4f7e-9c16-1be680dc6e3c",
   "metadata": {},
   "source": [
    "Numpy np.eigvals() method :"
   ]
  },
  {
   "cell_type": "code",
   "execution_count": 77,
   "id": "f41272af-4e10-4c73-bf63-f4cd31606840",
   "metadata": {},
   "outputs": [
    {
     "name": "stdout",
     "output_type": "stream",
     "text": [
      "[-0.37228132  5.37228132]\n"
     ]
    }
   ],
   "source": [
    "# import numpy \n",
    "from numpy import linalg as LA \n",
    "  \n",
    "# using np.eigvals() method   #get the eigen values of a matrix by using np.eigvals() method.\n",
    "gfg = LA.eigvals([[1, 2], [3, 4]]) \n",
    "  \n",
    "print(gfg) "
   ]
  },
  {
   "cell_type": "code",
   "execution_count": 78,
   "id": "57bb8dc0-8adc-415e-867d-6ce688998bb4",
   "metadata": {},
   "outputs": [
    {
     "name": "stdout",
     "output_type": "stream",
     "text": [
      "[ 1.61168440e+01 -1.11684397e+00 -3.38433605e-16]\n"
     ]
    }
   ],
   "source": [
    "# import numpy \n",
    "from numpy import linalg as LA \n",
    "  \n",
    "# using np.eigvals() method \n",
    "gfg = LA.eigvals([[1, 2, 3], [4, 5, 6], [7, 8, 9]]) \n",
    "  \n",
    "print(gfg) "
   ]
  },
  {
   "cell_type": "markdown",
   "id": "cc1131a5-be04-40ad-8981-f9da453f9aca",
   "metadata": {},
   "source": [
    "Calculate the determinant of a matrix using NumPy :"
   ]
  },
  {
   "cell_type": "markdown",
   "id": "efb9336c-bab1-483c-9621-a6718fb69b5c",
   "metadata": {},
   "source": [
    "* Calculating Determinant of a 2X2 Numpy matrix using numpy.linalg.det() function"
   ]
  },
  {
   "cell_type": "code",
   "execution_count": 79,
   "id": "ff14d0d3-b0cc-4c25-94c4-fc934df95ef1",
   "metadata": {},
   "outputs": [
    {
     "name": "stdout",
     "output_type": "stream",
     "text": [
      "Numpy Matrix is:\n",
      "[[50 29]\n",
      " [30 44]]\n",
      "\n",
      "Determinant of given 2X2 matrix:\n",
      "1330\n"
     ]
    }
   ],
   "source": [
    "import numpy as np \n",
    "  \n",
    "# creating a 2X2 Numpy matrix \n",
    "n_array = np.array([[50, 29], [30, 44]]) \n",
    "  \n",
    "# Displaying the Matrix \n",
    "print(\"Numpy Matrix is:\") \n",
    "print(n_array) \n",
    "  \n",
    "# calculating the determinant of matrix \n",
    "det = np.linalg.det(n_array) \n",
    "  \n",
    "print(\"\\nDeterminant of given 2X2 matrix:\") \n",
    "print(int(det)) "
   ]
  },
  {
   "cell_type": "code",
   "execution_count": 80,
   "id": "8c44b739-96fc-43d6-a5ed-94cd6fd13948",
   "metadata": {},
   "outputs": [
    {
     "name": "stdout",
     "output_type": "stream",
     "text": [
      "Numpy Matrix is:\n",
      "[[55 25 15]\n",
      " [30 44  2]\n",
      " [11 45 77]]\n",
      "\n",
      "Determinant of given 3X3 square matrix:\n",
      "137180\n"
     ]
    }
   ],
   "source": [
    "import numpy as np \n",
    "  \n",
    "# creating a 3X3 Numpy matrix \n",
    "n_array = np.array([[55, 25, 15], \n",
    "                    [30, 44, 2], \n",
    "                    [11, 45, 77]]) \n",
    "  \n",
    "# Displaying the Matrix \n",
    "print(\"Numpy Matrix is:\") \n",
    "print(n_array) \n",
    "  \n",
    "# calculating the determinant of matrix \n",
    "det = np.linalg.det(n_array) \n",
    "  \n",
    "print(\"\\nDeterminant of given 3X3 square matrix:\") \n",
    "print(int(det)) "
   ]
  },
  {
   "cell_type": "code",
   "execution_count": 81,
   "id": "b121ae2f-4d33-482f-9eb0-3471fb07f096",
   "metadata": {},
   "outputs": [
    {
     "name": "stdout",
     "output_type": "stream",
     "text": [
      "Numpy Matrix is:\n",
      "[[ 5  2  1  4  6]\n",
      " [ 9  4  2  5  2]\n",
      " [11  5  7  3  9]\n",
      " [ 5  6  6  7  2]\n",
      " [ 7  5  9  3  3]]\n",
      "\n",
      "Determinant of given 5X5 square matrix:\n",
      "-2003\n"
     ]
    }
   ],
   "source": [
    "import numpy as np \n",
    "  \n",
    "# creating a 5X5 Numpy matrix \n",
    "n_array = np.array([[5, 2, 1, 4, 6], \n",
    "                    [9, 4, 2, 5, 2], \n",
    "                    [11, 5, 7, 3, 9], \n",
    "                    [5, 6, 6, 7, 2], \n",
    "                    [7, 5, 9, 3, 3]]) \n",
    "  \n",
    "# Displaying the Matrix \n",
    "print(\"Numpy Matrix is:\") \n",
    "print(n_array) \n",
    "  \n",
    "# calculating the determinant of matrix \n",
    "det = np.linalg.det(n_array) \n",
    "  \n",
    "print(\"\\nDeterminant of given 5X5 square matrix:\") \n",
    "print(int(det)) "
   ]
  },
  {
   "cell_type": "markdown",
   "id": "a13f3d3d-03ef-4d60-9077-17eb2bf3954e",
   "metadata": {},
   "source": [
    "Numpy matrix.transpose() :"
   ]
  },
  {
   "cell_type": "code",
   "execution_count": 82,
   "id": "b0510341-2833-4417-8c32-49dbcaf12ad9",
   "metadata": {},
   "outputs": [
    {
     "name": "stdout",
     "output_type": "stream",
     "text": [
      "Original Matrix:\n",
      "[[1 2 3]\n",
      " [4 5 6]]\n",
      "\n",
      "Transposed Matrix:\n",
      "[[1 4]\n",
      " [2 5]\n",
      " [3 6]]\n"
     ]
    }
   ],
   "source": [
    "import numpy as np\n",
    " \n",
    "# Original matrix\n",
    "original_matrix = np.matrix([[1, 2, 3], [4, 5, 6]])\n",
    " \n",
    "# Transposed matrix\n",
    "transposed_matrix = original_matrix.transpose()\n",
    " \n",
    "print(\"Original Matrix:\")\n",
    "print(original_matrix)\n",
    "print(\"\\nTransposed Matrix:\")\n",
    "print(transposed_matrix)"
   ]
  },
  {
   "cell_type": "code",
   "execution_count": 83,
   "id": "20458f41-c954-44d8-abc1-b15bc1fc37e5",
   "metadata": {},
   "outputs": [
    {
     "name": "stdout",
     "output_type": "stream",
     "text": [
      "[[ 4 12  4]\n",
      " [ 1  3  5]\n",
      " [ 9  1  6]]\n"
     ]
    }
   ],
   "source": [
    "# import the important module in python \n",
    "import numpy as np \n",
    "               \n",
    "# make matrix with numpy \n",
    "gfg = np.matrix('[4, 1, 9; 12, 3, 1; 4, 5, 6]') \n",
    "               \n",
    "# applying matrix.transpose() method \n",
    "geek = gfg.transpose() \n",
    "     \n",
    "print(geek)"
   ]
  },
  {
   "cell_type": "code",
   "execution_count": 84,
   "id": "5ae3aa03-da07-48da-ae48-8c3b48e9a720",
   "metadata": {},
   "outputs": [
    {
     "name": "stdout",
     "output_type": "stream",
     "text": [
      "Result of Matrix Multiplication:\n",
      "[[17 23]\n",
      " [39 53]]\n"
     ]
    }
   ],
   "source": [
    "import numpy as np\n",
    " \n",
    "# Matrices for multiplication\n",
    "matrix_a = np.matrix([[1, 2], [3, 4]])\n",
    "matrix_b = np.matrix([[5, 6], [7, 8]])\n",
    " \n",
    "# Transpose one matrix before multiplication\n",
    "result = matrix_a * matrix_b.transpose()\n",
    " \n",
    "print(\"Result of Matrix Multiplication:\")\n",
    "print(result)"
   ]
  },
  {
   "cell_type": "markdown",
   "id": "5c0de7f9-c9d3-42d7-a836-58332ee7ad1f",
   "metadata": {},
   "source": [
    " Numpy matrix.var() :"
   ]
  },
  {
   "cell_type": "code",
   "execution_count": 85,
   "id": "c364745b-ed53-417b-bff0-16cfea176dac",
   "metadata": {},
   "outputs": [
    {
     "name": "stdout",
     "output_type": "stream",
     "text": [
      "17.5\n"
     ]
    }
   ],
   "source": [
    "# import the important module in python \n",
    "import numpy as np \n",
    "              \n",
    "# make matrix with numpy \n",
    "gfg = np.matrix('[4, 1; 12, 3]') \n",
    "              \n",
    "# applying matrix.var() method \n",
    "geek = gfg.var() \n",
    "    \n",
    "print(geek) "
   ]
  },
  {
   "cell_type": "code",
   "execution_count": 86,
   "id": "3784e4e8-8e75-44f8-a629-9f91141caad4",
   "metadata": {},
   "outputs": [
    {
     "name": "stdout",
     "output_type": "stream",
     "text": [
      "11.555555555555555\n"
     ]
    }
   ],
   "source": [
    "# import the important module in python \n",
    "import numpy as np \n",
    "              \n",
    "# make matrix with numpy \n",
    "gfg = np.matrix('[4, 1, 9; 12, 3, 1; 4, 5, 6]') \n",
    "              \n",
    "# applying matrix.var() method \n",
    "geek = gfg.var() \n",
    "    \n",
    "print(geek) "
   ]
  },
  {
   "cell_type": "markdown",
   "id": "733896d2-55cc-4539-9800-373c4fdcf239",
   "metadata": {},
   "source": [
    "Compute the inverse of a matrix using NumPy :"
   ]
  },
  {
   "cell_type": "code",
   "execution_count": 87,
   "id": "2dd47bb8-d9e6-4c79-894e-1367e84a31e0",
   "metadata": {},
   "outputs": [
    {
     "name": "stdout",
     "output_type": "stream",
     "text": [
      "Inverse array is \n",
      "[[-1.5   0.5 ]\n",
      " [ 1.25 -0.25]]\n",
      "\n",
      "Inverse array is \n",
      "[[-0.6875     -0.125       0.3125    ]\n",
      " [-0.125       0.25       -0.125     ]\n",
      " [ 0.64583333 -0.125      -0.02083333]]\n",
      "\n",
      "Inverse array is \n",
      "[[-15.07692308   4.9         -0.8         -0.42307692]\n",
      " [ 32.48717949 -10.9          1.8          1.01282051]\n",
      " [-20.84615385   7.1         -1.2         -0.65384615]\n",
      " [  3.41025641  -1.1          0.2          0.08974359]]\n",
      "\n",
      "Inverse array is \n",
      "[[1.]]\n"
     ]
    }
   ],
   "source": [
    "# Importing Library \n",
    "import numpy as np \n",
    "\n",
    "# Finding an inverse of given array \n",
    "arr = np.array([[1, 2], [5, 6]]) \n",
    "inverse_array = np.linalg.inv(arr) \n",
    "print(\"Inverse array is \") \n",
    "print(inverse_array) \n",
    "print() \n",
    "\n",
    "# inverse of 3X3 matrix \n",
    "arr = np.array([[1, 2, 3], \n",
    "\t\t\t\t[4, 9, 6], \n",
    "\t\t\t\t[7, 8, 9]]) \n",
    "\n",
    "inverse_array = np.linalg.inv(arr) \n",
    "print(\"Inverse array is \") \n",
    "print(inverse_array) \n",
    "print() \n",
    "\n",
    "# inverse of 4X4 matrix \n",
    "arr = np.array([[1, 2, 3, 4], \n",
    "\t\t\t\t[10, 11, 14, 25], \n",
    "\t\t\t\t[20, 8, 7, 55], \n",
    "\t\t\t\t[40, 41, 42, 43]]) \n",
    "\n",
    "inverse_array = np.linalg.inv(arr) \n",
    "print(\"Inverse array is \") \n",
    "print(inverse_array) \n",
    "print() \n",
    "\n",
    "# inverse of 1X1 matrix \n",
    "arr = np.array([[1]]) \n",
    "inverse_array = np.linalg.inv(arr) \n",
    "print(\"Inverse array is \") \n",
    "print(inverse_array)\n"
   ]
  },
  {
   "cell_type": "code",
   "execution_count": null,
   "id": "ea589a24-c6d1-4717-819d-62e41928334d",
   "metadata": {},
   "outputs": [],
   "source": [
    "import numpy as np  \n",
    "    \n",
    "# Inverses of several matrices can  \n",
    "# be computed at once  \n",
    "A = np.array([[[1., 2.], [3., 4.]],  \n",
    "              [[1, 3], [3, 5]]])  \n",
    "    \n",
    "# Calculating the inverse of the matrix  \n",
    "print(np.linalg.inv(A))"
   ]
  }
 ],
 "metadata": {
  "kernelspec": {
   "display_name": "Python 3 (ipykernel)",
   "language": "python",
   "name": "python3"
  },
  "language_info": {
   "codemirror_mode": {
    "name": "ipython",
    "version": 3
   },
   "file_extension": ".py",
   "mimetype": "text/x-python",
   "name": "python",
   "nbconvert_exporter": "python",
   "pygments_lexer": "ipython3",
   "version": "3.11.7"
  }
 },
 "nbformat": 4,
 "nbformat_minor": 5
}
